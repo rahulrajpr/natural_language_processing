{
  "cells": [
    {
      "cell_type": "markdown",
      "metadata": {
        "id": "view-in-github",
        "colab_type": "text"
      },
      "source": [
        "<a href=\"https://colab.research.google.com/github/rahulrajpr/natural_language_processing/blob/main/Glove_BERT_SentimentsAnalysis.ipynb\" target=\"_parent\"><img src=\"https://colab.research.google.com/assets/colab-badge.svg\" alt=\"Open In Colab\"/></a>"
      ]
    },
    {
      "cell_type": "markdown",
      "metadata": {
        "id": "8trCl4SS-Rrl"
      },
      "source": [
        "# Setting up the Environment"
      ]
    },
    {
      "cell_type": "code",
      "execution_count": 1,
      "metadata": {
        "id": "2S2u8HG--fqo"
      },
      "outputs": [],
      "source": [
        "from IPython.core.display import clear_output\n",
        "!wget https://raw.githubusercontent.com/rahulrajpr/references/main/helper_functions.py\n",
        "!wget https://raw.githubusercontent.com/rahulrajpr/references/main/hf_requirements.txt\n",
        "!pip install -r hf_requirements.txt\n",
        "clear_output()"
      ]
    },
    {
      "cell_type": "code",
      "execution_count": 2,
      "metadata": {
        "colab": {
          "base_uri": "https://localhost:8080/"
        },
        "id": "LjdcqHfr_eZu",
        "outputId": "93027e27-f3ea-47c5-a81d-5d4feafa63b5"
      },
      "outputs": [
        {
          "output_type": "stream",
          "name": "stdout",
          "text": [
            "\n",
            "Python version : 3.10.11 (main, Apr  5 2023, 14:15:10) [GCC 9.4.0]\n",
            "\n",
            "Tensorflow version : 2.12.0\n"
          ]
        }
      ],
      "source": [
        "import tensorflow as tf\n",
        "import pandas as pd\n",
        "import numpy as np\n",
        "import matplotlib.pyplot as plt\n",
        "import tensorflow_datasets as tfds\n",
        "import warnings\n",
        "warnings.filterwarnings('ignore')\n",
        "import helper_functions as hf\n",
        "import random\n",
        "import os\n",
        "import sys\n",
        "print(f'\\nPython version : {sys.version}\\n')\n",
        "print(f'Tensorflow version : {tf.__version__}')"
      ]
    },
    {
      "cell_type": "markdown",
      "metadata": {
        "id": "5qa5B_FP8xPp"
      },
      "source": [
        "# Loading IMDB Data"
      ]
    },
    {
      "cell_type": "code",
      "execution_count": 3,
      "metadata": {
        "colab": {
          "base_uri": "https://localhost:8080/",
          "height": 170,
          "referenced_widgets": [
            "b764f9fbb78c40d7ad910304eba5cf2f",
            "7d17e0b91a1744f7bbb5df28618fcab8",
            "ef02e206a3e548cab6b9c184499e411f",
            "a29bcfa8cfd34c769fa3f941d1715c06",
            "f6697dc407dd4c3cb7d487e67e5ee6dd",
            "e3a852e0e4474f15a579bf1abe2977ec",
            "6edd3311abb546f9a66aeca0ccbf130d",
            "fa77624fff404e5981c6ce99bc68a7ca",
            "6f6debfa485d44d786b55d605e8618a1",
            "c42041862561484a91d84401c5ca49ce",
            "e3183dcc6d91445eaf357e4abe71adad",
            "b921ca19d1104f17a9167cf7756ff896",
            "4a86457542b64b0ba7b7796bc8cc6769",
            "7571021280464355b8ec18654f0000f3",
            "373fc3f5242f40078f64c9e98aa7421c",
            "9e37dbfe82a74b5198668fcae544303e",
            "a1b997edf68e4f5ab0989902c4d273b9",
            "7d3779c989194495b288b83948075b7d",
            "9d4178dfbd2b4e48b33a52f2269a1556",
            "5b09be4cdcaf45138874123bf474526f",
            "bdb6dac6b32b446193e8a77388cc7718",
            "f0387efbb28748e3942aad1c7f0e7e33",
            "88fc1f953caa4bcfa79d1fc8031f220c",
            "8619970aef0842ac8cf75d65862ed9ef",
            "8e73c9d4bdb947738f5f9f790b4401cc",
            "12fc97abf0e44272ae4635977cd97887",
            "ea2233badb7f49fcb416c4bec9953e1d",
            "d7b5ed4e319f43319e6100c0d9575d1c",
            "94cc901e5a79477fad0e88c502ab4e1b",
            "46ac0e20f5dc43c7b652db1d128020ea",
            "eff082b90d0a4acd8ca6a411eddac798",
            "1f40ce749020465cbbea4985dfc4bb65",
            "f876f42276e7441a8cfe35ae5daf54a4",
            "b41dc65329f4434383b2b8bb6e744e84",
            "cdb57b5252ac4af89814a94cf1daaef0",
            "871873eace9f4085be57607f44331ab9",
            "534e0a9652cd4fffb14d31e24b619c99",
            "c3aa33da60da4129ab24b73d36bd789d",
            "711f7d3395ed4e62857f3433cab75a5e",
            "1877ddc8a3d14ee3a801c9501e3dc992",
            "6e352f038ddb406f96ba723d451ad8d9",
            "489cb86ee0c34a3c9b889d304de06fc7",
            "fc0deed3275e4b6b81bd6639d0cfae70",
            "0d4dce048e7f474cb4808a47fccd43c7",
            "07c3a0fd77ea41cd99cc16966abb1d4a",
            "9bb76f5155dd4aa4a07b4d8167944f8a",
            "3a7ee5c4d726491989c9a0e75a53ec39",
            "0d0ce43610f447fba7b1b3fc00d2dd80",
            "0b3a97e6ab0b436e9afbda26104db4de",
            "4f5a4ed8a78e41bc9e80ab1eaceaf7d0",
            "a07d3fff5c1c4a7a9f878c36b2312e89",
            "1fd3939887f444bb91aca70bcf13b8a3",
            "f6f02a35535d4e52aca91835165da0bf",
            "987337fc590a40babb0109afe6f0e579",
            "4a505270b671436f835ae14cd5107e62",
            "a585f5c9ada0441489c7ffe328431ace",
            "89cd65cc834c439c9f1231c46e6582b8",
            "2990df7ac3c74d10aad504f522061521",
            "b02d86f5422e4411bf46340575c5ecc3",
            "1d6a2b79911e40a682874b1e4309f94f",
            "743c72159c95442685e9a73da5b2902c",
            "3f9e98930e95449680f501dee4252d6b",
            "544259954c364e95a2b50b1e97f0c8bd",
            "a06a47a8da0c4a5dac45032a667320c0",
            "bb620e8fe14a4a98a4c93c19bcc67f15",
            "678b609ba5804e848a82018581a71e75",
            "48dbd2aa70df4145bac37b9da0147f67",
            "02213d76b41044de9f59774b16303deb",
            "745c806b272a437b93ee2e5895b5a5e9",
            "44bc1bcd3d9546339ece5a974dfb60fa",
            "4986ae3044774b9ca7b86239d478ddef",
            "f8d37494aee74cbabd9f61c516d4ad5f",
            "95a37f1b902941248790a0a710f01d3c",
            "724049e517594bf98b9d72b2e51ac6ac",
            "0dbeefe357114c9799195c44b5a11102",
            "b74683eaa05d499dbaac900d9837f325",
            "9856dd30484d40048060df454d5fa368",
            "a067dcac17d24bf182b6d4c9703adb1c",
            "d5f660f39002400289c29245d42e15c3",
            "12f03d2d44f64721bf125f07ca632380",
            "d05476b7e6cb4848b36f24930afd00f9",
            "9ec122d7774145fbb7a0f9e51fb02335",
            "833221139bfa4f86bf77f44980ad2995",
            "5a759fa1303b49ad80098307b588aa60",
            "7ac37c924fc64dea803414e3cefdf4fe",
            "4a02267f524849279993f2779dddfc29",
            "bbac2223e5d047acaef90db6d9a90c82",
            "c38e4dd347cb46ea8b2ff035964b9912",
            "dfc7df145a0e403c9586f2788c4c60d6",
            "e496f04b6c844228b9024c5f05343037",
            "18b3c5ad50604adc8cb5e4a0915eaf01",
            "b5bd54b273754546990eece96cffd125",
            "f3f596e3977740d4838e3c8e7760323b",
            "01c3d59790ff4f56b6d8299278ee050c",
            "21a3b6297a3f4b7daa3d57c278dfb6e7",
            "e6d00ab20d8143d8b670b56cbd2bd6b1",
            "0dd02d6142ef42b1b699f236edf99df7",
            "746d33a8601f4a2cb6aec60c62c6a3c8",
            "e3e3b22da5a6434785162c99c4535ee4"
          ]
        },
        "id": "XFLYTaAjDKRj",
        "outputId": "4472c209-5412-4d9e-96c2-5b632bcd81d5"
      },
      "outputs": [
        {
          "output_type": "stream",
          "name": "stdout",
          "text": [
            "Downloading and preparing dataset 80.23 MiB (download: 80.23 MiB, generated: Unknown size, total: 80.23 MiB) to /root/tensorflow_datasets/imdb_reviews/plain_text/1.0.0...\n"
          ]
        },
        {
          "output_type": "display_data",
          "data": {
            "text/plain": [
              "Dl Completed...: 0 url [00:00, ? url/s]"
            ],
            "application/vnd.jupyter.widget-view+json": {
              "version_major": 2,
              "version_minor": 0,
              "model_id": "b764f9fbb78c40d7ad910304eba5cf2f"
            }
          },
          "metadata": {}
        },
        {
          "output_type": "display_data",
          "data": {
            "text/plain": [
              "Dl Size...: 0 MiB [00:00, ? MiB/s]"
            ],
            "application/vnd.jupyter.widget-view+json": {
              "version_major": 2,
              "version_minor": 0,
              "model_id": "b921ca19d1104f17a9167cf7756ff896"
            }
          },
          "metadata": {}
        },
        {
          "output_type": "display_data",
          "data": {
            "text/plain": [
              "Generating splits...:   0%|          | 0/3 [00:00<?, ? splits/s]"
            ],
            "application/vnd.jupyter.widget-view+json": {
              "version_major": 2,
              "version_minor": 0,
              "model_id": "88fc1f953caa4bcfa79d1fc8031f220c"
            }
          },
          "metadata": {}
        },
        {
          "output_type": "display_data",
          "data": {
            "text/plain": [
              "Generating train examples...:   0%|          | 0/25000 [00:00<?, ? examples/s]"
            ],
            "application/vnd.jupyter.widget-view+json": {
              "version_major": 2,
              "version_minor": 0,
              "model_id": "b41dc65329f4434383b2b8bb6e744e84"
            }
          },
          "metadata": {}
        },
        {
          "output_type": "display_data",
          "data": {
            "text/plain": [
              "Shuffling /root/tensorflow_datasets/imdb_reviews/plain_text/1.0.0.incomplete5ZM36W/imdb_reviews-train.tfrecord…"
            ],
            "application/vnd.jupyter.widget-view+json": {
              "version_major": 2,
              "version_minor": 0,
              "model_id": "07c3a0fd77ea41cd99cc16966abb1d4a"
            }
          },
          "metadata": {}
        },
        {
          "output_type": "display_data",
          "data": {
            "text/plain": [
              "Generating test examples...:   0%|          | 0/25000 [00:00<?, ? examples/s]"
            ],
            "application/vnd.jupyter.widget-view+json": {
              "version_major": 2,
              "version_minor": 0,
              "model_id": "a585f5c9ada0441489c7ffe328431ace"
            }
          },
          "metadata": {}
        },
        {
          "output_type": "display_data",
          "data": {
            "text/plain": [
              "Shuffling /root/tensorflow_datasets/imdb_reviews/plain_text/1.0.0.incomplete5ZM36W/imdb_reviews-test.tfrecord*…"
            ],
            "application/vnd.jupyter.widget-view+json": {
              "version_major": 2,
              "version_minor": 0,
              "model_id": "48dbd2aa70df4145bac37b9da0147f67"
            }
          },
          "metadata": {}
        },
        {
          "output_type": "display_data",
          "data": {
            "text/plain": [
              "Generating unsupervised examples...:   0%|          | 0/50000 [00:00<?, ? examples/s]"
            ],
            "application/vnd.jupyter.widget-view+json": {
              "version_major": 2,
              "version_minor": 0,
              "model_id": "a067dcac17d24bf182b6d4c9703adb1c"
            }
          },
          "metadata": {}
        },
        {
          "output_type": "display_data",
          "data": {
            "text/plain": [
              "Shuffling /root/tensorflow_datasets/imdb_reviews/plain_text/1.0.0.incomplete5ZM36W/imdb_reviews-unsupervised.t…"
            ],
            "application/vnd.jupyter.widget-view+json": {
              "version_major": 2,
              "version_minor": 0,
              "model_id": "dfc7df145a0e403c9586f2788c4c60d6"
            }
          },
          "metadata": {}
        },
        {
          "output_type": "stream",
          "name": "stdout",
          "text": [
            "Dataset imdb_reviews downloaded and prepared to /root/tensorflow_datasets/imdb_reviews/plain_text/1.0.0. Subsequent calls will reuse this data.\n"
          ]
        },
        {
          "output_type": "execute_result",
          "data": {
            "text/plain": [
              "(<_PrefetchDataset element_spec=(TensorSpec(shape=(), dtype=tf.string, name=None), TensorSpec(shape=(), dtype=tf.int64, name=None))>,\n",
              " <_PrefetchDataset element_spec=(TensorSpec(shape=(), dtype=tf.string, name=None), TensorSpec(shape=(), dtype=tf.int64, name=None))>)"
            ]
          },
          "metadata": {},
          "execution_count": 3
        }
      ],
      "source": [
        "imdb_train, info = tfds.load(name = 'imdb_reviews', with_info = True, as_supervised= True, split = 'train')\n",
        "imdb_test = tfds.load(name = 'imdb_reviews', as_supervised= True, split = 'test')\n",
        "\n",
        "imdb_train, imdb_test"
      ]
    },
    {
      "cell_type": "markdown",
      "metadata": {
        "id": "CBEfbvh9EBa1"
      },
      "source": [
        "# Convert Prefetch Dataset to Array"
      ]
    },
    {
      "cell_type": "code",
      "execution_count": 4,
      "metadata": {
        "colab": {
          "base_uri": "https://localhost:8080/"
        },
        "id": "CQe4hBwHEFr4",
        "outputId": "c2f62062-2b71-43a5-b1b5-5e86c8e1e4a1"
      },
      "outputs": [
        {
          "output_type": "stream",
          "name": "stdout",
          "text": [
            "Numpy arrays returned as --> (data, labels)\n",
            "Numpy arrays returned as --> (data, labels)\n"
          ]
        },
        {
          "output_type": "execute_result",
          "data": {
            "text/plain": [
              "(array([b\"This was an absolutely terrible movie. Don't be lured in by Christopher Walken or Michael Ironside. Both are great actors, but this must simply be their worst role in history. Even their great acting could not redeem this movie's ridiculous storyline. This movie is an early nineties US propaganda piece. The most pathetic scenes were those when the Columbian rebels were making their cases for revolutions. Maria Conchita Alonso appeared phony, and her pseudo-love affair with Walken was nothing but a pathetic emotional plug in a movie that was devoid of any real meaning. I am disappointed that there are movies like this, ruining actor's like Christopher Walken's good name. I could barely sit through it.\",\n",
              "        b'I have been known to fall asleep during films, but this is usually due to a combination of things including, really tired, being warm and comfortable on the sette and having just eaten a lot. However on this occasion I fell asleep because the film was rubbish. The plot development was constant. Constantly slow and boring. Things seemed to happen, but with no explanation of what was causing them or why. I admit, I may have missed part of the film, but i watched the majority of it and everything just seemed to happen of its own accord without any real concern for anything else. I cant recommend this film at all.',\n",
              "        b'Mann photographs the Alberta Rocky Mountains in a superb fashion, and Jimmy Stewart and Walter Brennan give enjoyable performances as they always seem to do. <br /><br />But come on Hollywood - a Mountie telling the people of Dawson City, Yukon to elect themselves a marshal (yes a marshal!) and to enforce the law themselves, then gunfighters battling it out on the streets for control of the town? <br /><br />Nothing even remotely resembling that happened on the Canadian side of the border during the Klondike gold rush. Mr. Mann and company appear to have mistaken Dawson City for Deadwood, the Canadian North for the American Wild West.<br /><br />Canadian viewers be prepared for a Reefer Madness type of enjoyable howl with this ludicrous plot, or, to shake your head in disgust.'],\n",
              "       dtype='|S13704'),\n",
              " array([0, 0, 0]))"
            ]
          },
          "metadata": {},
          "execution_count": 4
        }
      ],
      "source": [
        "train_data, train_label = hf.prefetch_dataset_to_array(dataset = imdb_train)\n",
        "test_data, test_label = hf.prefetch_dataset_to_array(dataset = imdb_test)\n",
        "\n",
        "train_data[:3], train_label[:3]"
      ]
    },
    {
      "cell_type": "markdown",
      "metadata": {
        "id": "Pe9KxaC1FLxR"
      },
      "source": [
        "# Show Random Samples"
      ]
    },
    {
      "cell_type": "code",
      "execution_count": 5,
      "metadata": {
        "colab": {
          "base_uri": "https://localhost:8080/"
        },
        "id": "yfSXhijkFQHH",
        "outputId": "abbdada7-d2e2-4506-bca6-a5e639c42497"
      },
      "outputs": [
        {
          "output_type": "stream",
          "name": "stdout",
          "text": [
            "0 b'I caught this film on AZN on cable. It sounded like it would be a good film, a Japanese \"Green Card\". I can\\'t say I\\'ve ever disliked an Asian film, quite the contrary. Some of the most incredible horror films of all time are Japanese and Korean, and I am a HUGE fan of John Woo\\'s Hong Kong films. I an not adverse to a light hearted films, like Tampopo or Chung King Express (two of my favourites), so I thought I would like this. Well, I would rather slit my wrists and drink my own blood than watch this laborious, badly acted film ever again.<br /><br />I think the director Steven Okazaki must have spiked the water with Quaalude, because no one in this film had a personality. And when any of the characters DID try to act, as opposed to mumbling a line or two, their performance came across as forced and incredibly fake. I honestly did not think that anyone had ever acted before...the ONLY person who sounded genuine was Brenda Aoki.. I find it amazing that this is promoted as a comedy, because I didn\\'t laugh once. Even MORE surprising is that CBS morning news called this \"a refreshing breath of comedy\". It was neither refreshing, nor a breath of comedy. And the ending was very predictable, the previous reviewer must be an idiot to think such things.<br /><br />AVOID this film unless you want to see a boring predictable plot line and wooden acting. I actually think that \"Spike of Bensonhurst\" is a better acted film than this...and I walked out half way through that film!'\n",
            "1 b'Where was this film when I was a kid? After his parents split up Tadashi moves with his mom to live his his grandfather. Tadashi\\'s sister stays with their dad and they talk frequently on the phone. Grandfather is only \"here\" every third day. Moms never really home. The kids always are picking on the poor kid. During a village festival Tadashi is chosen the \"kirin rider\" or spiritual champion of the peace and justice. Little does he suspect that soon he will have to actually step into role of hero as the forces of darkness join up with the rage of things discarded in a plot to destroy mankind and the spiritual world.<br /><br />Okay that was the easy part. Now comes the hard part, trying to explain the film.<br /><br />This is a great kids film. No this is a great film,flawed, (very flawed?) but a great film none the less. It unfolds like all of those great books you loved as a kid and is just as dense at times as Tadashi struggles to find the strength to become a hero. Watching it I felt I was reading a great book, and thought how huge this would have been if it was a book. I loved that the film does not follow a normal path. Things often happen out of happenstance or through miscommunication, one character gets sucked into events simply because his foot falls asleep. There are twists and turns and moments that seem like non sequiters and are all the more charming for it (which is typical Miike) Certainly its a Takashi Miike film. That Japanese master of film is clearly in charge of a film that often touching, scary and funny all at the same time. No one except Miike seems to understand that you can have many emotions at the same time, or that you can suddenly have twists as things get dark one second and then funny the next. I admire the fact that Miike has made a film that is bleak and hopeful, that doesn\\'t shy away from being scary, I mean really scary, especially for kids. This is the same dark territory that should be in the Harry Potter movies but rarely is. This a dark Grimms tale with humor. My first reaction upon seeing the opening image was that I couldn\\'t believe anyone would begin a kids film with a picture of the end of the world, then I realized who was making the movie. Hats off to Miike for making a movie that knows kids can handle the frightening images.<br /><br />Its also operating on more than one level. The mechanical monsters that the bad guys make are forged from mankind\\'s discarded junk. Its the rage of being thrown away that fuels the monsters.One of the Yokai (spirits) talks about the rage sneakers thrown away because they are dirty or too small feels when they are tossed. You also have one of the good guys refusing to join the bad guys because that would be the human thing to do. Its a wild concept, but like other things floating around its what lifts this movie to another level. (there are a good many riffs and references to other movies,TV shows and novels that make me wonder who this film is for since kids may not understand them, though many parents will) And of course there are the monsters. They run the gamut from cheesy to spectacular with stops everywhere in between. Frankly you have to forgive the unevenness of their creation simply because they are has to be hundreds if not thousands of monsters on screen. Its way cool and it works. One of the main characters is a Yokai which I think is best described as a hamster in a tunic and is often played by a stuffed animal, it looks dumb and yet you will be cheering the little bugger and loving every moment he rides on Tadashi\\'s head. (Acceptance is also easier if you\\'ve ever seen the old woodcuts of the weird Japanese monsters) I mentioned flaws, and there are a few. The effects are uneven, some of the sudden turns are a bit odd (even if understandable) and a few other minor things which are fading now some two hours after watching the film.. None of them truly hurt the film over all, however most kind of keep you from being completely happy with the movie.<br /><br />I really loved this movie. I\\'m pretty sure that if I saw this as a kid it would have been my favorite film of all time. (where\\'s the English dub?).See this movie. Its a great trip. (Besides its a good introduction to the films of Miike minus the blood and graphic sex)'\n",
            "1 b\"This is a family film, which to some people is an automatic turn off. It seems that too many people do not want to see films that are not loaded down with failing arms and legs, gratuitous violence and enough expletives to fill the New York phone book. This film is none of those. It is clich\\xc3\\xa9, it is formula, but it is also fun. It doesn't ask you to think, it doesn't demand that you accept the film as reality. It simply does what a good film ought to do, which is to willingly suspend disbelief for two hours and enjoy the adventure. The cast is good, while not excellent. As another commenter pointed out the John Williams sound score was, as usual, excellent. And the fact that a lot of the film was shot in Huntsville at the real space camp made it even more believable. <br /><br />It was ironic that the original release of the film was delayed for some months due to the Challenger Shuttle disaster, which may have played a large part in it's original theatrical opening, but the film eventually has helped to focus the dreams of many young people back towards space and the possibilities that lie therein. SO sit back with your kids and prepare to enjoy.\"\n",
            "1 b'Though derivative, \"Labyrinth\" still stands as the highlight of the mid-half of the six-year-old show. Finally a story allows Welling to show how he has grown as an actor. It\\'s not easy playing a character that is the embodiment of \"truth, justice, and the American way\" on a weekly basis with very little variation. His performance, permitting him to show how one might react if he/she discovers that all that he knew may be a lie, was quite believable.<br /><br />Welling rose to the occasion marvelously.<br /><br />As always, Michael Rosenbaum, as the \"handicapped\" Lex, delivered, as did Kristen Kreuk as a too-sweet-to-be-believed Lana. Allison Mack, the ever-present Chloe, also scored as a slightly \"off-her-rocker\" version.<br /><br />The use of an annoying hum in the background added to the tone of the installment and made for an engaging drama.'\n",
            "1 b\"Best animated movie ever made. This film explores not only the vast world of modern animation with absolutely boggling effects, but the branches of the human mind, soul, and philosophy. The story features a family of cats, where in the big sister dies, the younger brother sees this and rescues her body, but when she awakens she is left without a soul. So, the two sibling cats embark on a journey to find it. I have related this journey to many things. The history of the world, the bible, the cycle of life, and every time I watch it I discover more and more hidden themes and metaphors. If you aren't so into the physiological aspect of it then, you will still adore it. The animation is superb, and the creative scenes will have you attached to the screen. For example, the ocean freezing in time, god eating soup out of the earth, a strange and slightly SNM retelling of Hansel and Gretel. To conclude, Cat Soup is an absolute treat for anyone.<br /><br />PS- Not for kids, gratuitous violence included.\"\n"
          ]
        }
      ],
      "source": [
        "random_index = random.sample(range(0, len(train_data)),5)\n",
        "for ind in random_index:\n",
        "  random_label = train_label[ind]\n",
        "  random_sentence = train_data[ind]\n",
        "  print(random_label,random_sentence)"
      ]
    },
    {
      "cell_type": "markdown",
      "metadata": {
        "id": "6bYPH4AtFCgW"
      },
      "source": [
        "# Text Standardization"
      ]
    },
    {
      "cell_type": "code",
      "execution_count": 6,
      "metadata": {
        "colab": {
          "base_uri": "https://localhost:8080/"
        },
        "id": "I6g384K4Gdk5",
        "outputId": "7eb15fc9-dd54-4c20-8672-7c6c8176955a"
      },
      "outputs": [
        {
          "output_type": "execute_result",
          "data": {
            "text/plain": [
              "['this was an absolutely terrible movie dont be lured in by christopher walken or michael ironside both are great actors but this must simply be their worst role in history even their great acting could not redeem this movies ridiculous storyline this movie is an early nineties us propaganda piece the most pathetic scenes were those when the columbian rebels were making their cases for revolutions maria conchita alonso appeared phony and her pseudolove affair with walken was nothing but a pathetic emotional plug in a movie that was devoid of any real meaning i am disappointed that there are movies like this ruining actors like christopher walkens good name i could barely sit through it',\n",
              " 'i have been known to fall asleep during films but this is usually due to a combination of things including really tired being warm and comfortable on the sette and having just eaten a lot however on this occasion i fell asleep because the film was rubbish the plot development was constant constantly slow and boring things seemed to happen but with no explanation of what was causing them or why i admit i may have missed part of the film but i watched the majority of it and everything just seemed to happen of its own accord without any real concern for anything else i cant recommend this film at all',\n",
              " 'mann photographs the alberta rocky mountains in a superb fashion and jimmy stewart and walter brennan give enjoyable performances as they always seem to do but come on hollywood  a mountie telling the people of dawson city yukon to elect themselves a marshal yes a marshal and to enforce the law themselves then gunfighters battling it out on the streets for control of the town nothing even remotely resembling that happened on the canadian side of the border during the klondike gold rush mr mann and company appear to have mistaken dawson city for deadwood the canadian north for the american wild westcanadian viewers be prepared for a reefer madness type of enjoyable howl with this ludicrous plot or to shake your head in disgust',\n",
              " 'this is the kind of film for a snowy sunday afternoon when the rest of the world can go ahead with its own business as you descend into a big armchair and mellow for a couple of hours wonderful performances from cher and nicolas cage as always gently row the plot along there are no rapids to cross no dangerous waters just a warm and witty paddle through new york life at its best a family film in every sense and one that deserves the praise it received',\n",
              " 'as others have mentioned all the women that go nude in this film are mostly absolutely gorgeous the plot very ably shows the hypocrisy of the female libido when men are around they want to be pursued but when no men are around they become the pursuers of a 14 year old boy and the boy becomes a man really fast we should all be so lucky at this age he then gets up the courage to pursue his true love']"
            ]
          },
          "metadata": {},
          "execution_count": 6
        }
      ],
      "source": [
        "train_data = [hf.text_standardization(x) for x in train_data]\n",
        "test_data = [hf.text_standardization(x) for x in test_data]\n",
        "\n",
        "train_data[:5]"
      ]
    },
    {
      "cell_type": "markdown",
      "source": [
        "> Lemmatize the text"
      ],
      "metadata": {
        "id": "X8q65BwnXt4D"
      }
    },
    {
      "cell_type": "code",
      "source": [
        "import nltk\n",
        "from nltk.stem import WordNetLemmatizer\n",
        "from nltk.tokenize import word_tokenize\n",
        "lemmatizer = WordNetLemmatizer()\n",
        "\n",
        "nltk.download('wordnet')\n",
        "nltk.download('punkt')"
      ],
      "metadata": {
        "colab": {
          "base_uri": "https://localhost:8080/"
        },
        "id": "gb1I8AHSXtR8",
        "outputId": "28431eb2-e857-4b0e-e9a8-e998864498d9"
      },
      "execution_count": 7,
      "outputs": [
        {
          "output_type": "stream",
          "name": "stderr",
          "text": [
            "[nltk_data] Downloading package wordnet to /root/nltk_data...\n",
            "[nltk_data] Downloading package punkt to /root/nltk_data...\n",
            "[nltk_data]   Unzipping tokenizers/punkt.zip.\n"
          ]
        },
        {
          "output_type": "execute_result",
          "data": {
            "text/plain": [
              "True"
            ]
          },
          "metadata": {},
          "execution_count": 7
        }
      ]
    },
    {
      "cell_type": "code",
      "source": [
        "# create a function to lemmatize the text\n",
        "def lemmatize_text(text):\n",
        "  tokens = word_tokenize(text)\n",
        "  lemma = [lemmatizer.lemmatize(word = x) for x in tokens]\n",
        "  output = ' '.join(lemma)\n",
        "  return output"
      ],
      "metadata": {
        "id": "0HKXtY9kYTVl"
      },
      "execution_count": 8,
      "outputs": []
    },
    {
      "cell_type": "code",
      "source": [
        "train_data = [lemmatize_text(x) for x in train_data]\n",
        "test_data = [lemmatize_text(x) for x in test_data]\n",
        "\n",
        "train_data[:5]"
      ],
      "metadata": {
        "colab": {
          "base_uri": "https://localhost:8080/"
        },
        "id": "AnTg1ci5Y9Bv",
        "outputId": "4f4dd97c-4127-4d1c-cb5d-6f8e669bab95"
      },
      "execution_count": 9,
      "outputs": [
        {
          "output_type": "execute_result",
          "data": {
            "text/plain": [
              "['this wa an absolutely terrible movie dont be lured in by christopher walken or michael ironside both are great actor but this must simply be their worst role in history even their great acting could not redeem this movie ridiculous storyline this movie is an early ninety u propaganda piece the most pathetic scene were those when the columbian rebel were making their case for revolution maria conchita alonso appeared phony and her pseudolove affair with walken wa nothing but a pathetic emotional plug in a movie that wa devoid of any real meaning i am disappointed that there are movie like this ruining actor like christopher walkens good name i could barely sit through it',\n",
              " 'i have been known to fall asleep during film but this is usually due to a combination of thing including really tired being warm and comfortable on the sette and having just eaten a lot however on this occasion i fell asleep because the film wa rubbish the plot development wa constant constantly slow and boring thing seemed to happen but with no explanation of what wa causing them or why i admit i may have missed part of the film but i watched the majority of it and everything just seemed to happen of it own accord without any real concern for anything else i cant recommend this film at all',\n",
              " 'mann photograph the alberta rocky mountain in a superb fashion and jimmy stewart and walter brennan give enjoyable performance a they always seem to do but come on hollywood a mountie telling the people of dawson city yukon to elect themselves a marshal yes a marshal and to enforce the law themselves then gunfighters battling it out on the street for control of the town nothing even remotely resembling that happened on the canadian side of the border during the klondike gold rush mr mann and company appear to have mistaken dawson city for deadwood the canadian north for the american wild westcanadian viewer be prepared for a reefer madness type of enjoyable howl with this ludicrous plot or to shake your head in disgust',\n",
              " 'this is the kind of film for a snowy sunday afternoon when the rest of the world can go ahead with it own business a you descend into a big armchair and mellow for a couple of hour wonderful performance from cher and nicolas cage a always gently row the plot along there are no rapid to cross no dangerous water just a warm and witty paddle through new york life at it best a family film in every sense and one that deserves the praise it received',\n",
              " 'a others have mentioned all the woman that go nude in this film are mostly absolutely gorgeous the plot very ably show the hypocrisy of the female libido when men are around they want to be pursued but when no men are around they become the pursuer of a 14 year old boy and the boy becomes a man really fast we should all be so lucky at this age he then get up the courage to pursue his true love']"
            ]
          },
          "metadata": {},
          "execution_count": 9
        }
      ]
    },
    {
      "cell_type": "markdown",
      "metadata": {
        "id": "tQ3BA_OsHE_R"
      },
      "source": [
        "# Define Global Variables"
      ]
    },
    {
      "cell_type": "code",
      "execution_count": 10,
      "metadata": {
        "id": "cGI7Oj4GHItk"
      },
      "outputs": [],
      "source": [
        "BATCH_SIZE = 100\n",
        "OOV_TOKEN = '<OOV>'\n",
        "\n",
        "PAD_LEN = 124\n",
        "PAD_STYLE = 'post'\n",
        "TRUNC_STYLE = 'post'\n",
        "EMBED_LEN = 50"
      ]
    },
    {
      "cell_type": "markdown",
      "metadata": {
        "id": "oBK2-8-5Hv4P"
      },
      "source": [
        "# Tokenize the Text"
      ]
    },
    {
      "cell_type": "code",
      "execution_count": 11,
      "metadata": {
        "id": "OcN_xDbYH3CB"
      },
      "outputs": [],
      "source": [
        "from tensorflow.keras.preprocessing.text import Tokenizer"
      ]
    },
    {
      "cell_type": "code",
      "execution_count": 12,
      "metadata": {
        "id": "4UPn3O_9IFnv"
      },
      "outputs": [],
      "source": [
        "tokenizer = Tokenizer(oov_token = OOV_TOKEN)"
      ]
    },
    {
      "cell_type": "code",
      "execution_count": 13,
      "metadata": {
        "id": "x_hg5AZ8IFlh"
      },
      "outputs": [],
      "source": [
        "tokenizer.fit_on_texts(train_data)"
      ]
    },
    {
      "cell_type": "code",
      "execution_count": 14,
      "metadata": {
        "id": "RbWK3ToQHv0l"
      },
      "outputs": [],
      "source": [
        "train_tokenized = tokenizer.texts_to_sequences(train_data)\n",
        "test_tokenized = tokenizer.texts_to_sequences(test_data)"
      ]
    },
    {
      "cell_type": "markdown",
      "metadata": {
        "id": "f752i7JoJIOJ"
      },
      "source": [
        "# Pad Sequences"
      ]
    },
    {
      "cell_type": "code",
      "execution_count": 15,
      "metadata": {
        "id": "gzk_YrEHJKtz"
      },
      "outputs": [],
      "source": [
        "from tensorflow.keras.preprocessing.sequence import pad_sequences"
      ]
    },
    {
      "cell_type": "code",
      "execution_count": 16,
      "metadata": {
        "colab": {
          "base_uri": "https://localhost:8080/"
        },
        "id": "YUSp-38bJQ8z",
        "outputId": "feba48b1-9d5a-4698-fa8e-866dcc04c471"
      },
      "outputs": [
        {
          "output_type": "execute_result",
          "data": {
            "text/plain": [
              "array([[   10,    14,    31,   426,   397,    13,    92,    26,  9481,\n",
              "            9,    30,  1333,  3390,    39,   471,  9248,   202,    23,\n",
              "           85,   110,    18,    10,   223,   330,    26,    67,   245,\n",
              "          165,     9,   488,    56,    67,    85,   119,    96,    20,\n",
              "         5152,    10,    13,   645,   726,    10,    13,     7,    31,\n",
              "          404,  4955,   167,  2381,   336,     2,    88,  1208,    71,\n",
              "           68,   148,    51,     2, 31646,  2950,    68,   251,    67,\n",
              "          374,    17,  2453,  2628, 18448, 17481,  1420,  4615,     4,\n",
              "           37, 51188,  1331,    16,  3390,    14,   162,    18,     3,\n",
              "         1208,   867,  6931,     9,     3,    13,    12,    14,  3815,\n",
              "            5,    99,   153,  1168,    11,   240,   693,    12,    38,\n",
              "           23,    13,    35,    10,  6754,   110,    35,  1333, 12452,\n",
              "           48,   334,    11,    96,  1142,   833,   145,     8,     0,\n",
              "            0,     0,     0,     0,     0,     0,     0],\n",
              "       [   11,    25,    76,   623,     6,   387,  2277,   307,    15,\n",
              "           18,    10,     7,   613,   657,     6,     3,  2029,     5,\n",
              "           93,   583,    66,  1391,   106,  2334,     4,  3672,    19,\n",
              "            2, 31647,     4,   267,    40,  4412,     3,   147,   207,\n",
              "           19,    10,  2653,    11,  1473,  2277,    80,     2,    15,\n",
              "           14,  1910,     2,   112,   873,    14,  1711,  1299,   602,\n",
              "            4,   364,    93,   458,     6,   603,    18,    16,    58,\n",
              "         1598,     5,    47,    14,  3739,    98,    39,   136,    11,\n",
              "          915,    11,   197,    25,  1006,   138,     5,     2,    15,\n",
              "           18,    11,   292,     2,  2025,     5,     8,     4,   293,\n",
              "           40,   458,     6,   603,     5,     8,   206, 22715,   209,\n",
              "           99,   153,  2082,    17,   231,   339,    11,   179,   373,\n",
              "           10,    15,    28,    29,     0,     0,     0,     0,     0,\n",
              "            0,     0,     0,     0,     0,     0,     0],\n",
              "       [ 3673,  4101,     2, 22716,  4616,  1715,     9,     3,   877,\n",
              "         1443,     4,  1870,  1212,     4,  2036,  8040,   143,   735,\n",
              "          150,     3,    33,   211,   297,     6,    82,    18,   126,\n",
              "           19,   348,     3, 14459,   996,     2,    77,     5,  3207,\n",
              "          507, 13909,     6, 19624,   526,     3, 10174,   450,     3,\n",
              "        10174,     4,     6, 22717,     2,  1146,   526,    95, 31648,\n",
              "         7278,     8,    43,    19,     2,   651,    17,  1065,     5,\n",
              "            2,   492,   162,    56,  2424,  6575,    12,   571,    19,\n",
              "            2,  2093,   468,     5,     2,  2606,   307,     2, 19625,\n",
              "         1896,  2640,   383,  3673,     4,   985,   932,     6,    25,\n",
              "         3884,  3207,   507,    17, 19626,     2,  2093,  2309,    17,\n",
              "            2,   274,  1252, 51189,   324,    26,  2654,    17,     3,\n",
              "        16611,  2885,   501,     5,   735, 12453,    16,    10,  2751,\n",
              "          112,    39,     6,  3367,   125,   361,     9]], dtype=int32)"
            ]
          },
          "metadata": {},
          "execution_count": 16
        }
      ],
      "source": [
        "train_pad = pad_sequences(train_tokenized, maxlen = PAD_LEN, padding = PAD_STYLE, truncating = TRUNC_STYLE)\n",
        "test_pad = pad_sequences(test_tokenized, maxlen = PAD_LEN, padding = PAD_STYLE, truncating = TRUNC_STYLE)\n",
        "\n",
        "train_pad[:3]"
      ]
    },
    {
      "cell_type": "markdown",
      "metadata": {
        "id": "bD_iHzQE8xPv"
      },
      "source": [
        "## Loading Trained GloVe Embeddings"
      ]
    },
    {
      "cell_type": "markdown",
      "metadata": {
        "id": "srZcNAOWJaM4"
      },
      "source": [
        "`GloVe` (Global Vectors for Word Representation) : Algorithm used for generating word embeddings in natural language processing (NLP). Word embeddings are vector representations of words that capture semantic relationships between words based on their co-occurrence patterns in a given corpus of text.\n",
        "\n",
        "The GloVe algorithm aims to learn word representations by analyzing the statistical properties of word co-occurrence"
      ]
    },
    {
      "cell_type": "code",
      "execution_count": 17,
      "metadata": {
        "colab": {
          "base_uri": "https://localhost:8080/"
        },
        "id": "YAFtsEp68xPw",
        "outputId": "36495c4b-50be-462c-ce5c-e66ebf5afc65"
      },
      "outputs": [
        {
          "output_type": "stream",
          "name": "stdout",
          "text": [
            "--2023-05-09 07:47:33--  http://nlp.stanford.edu/data/glove.6B.zip\n",
            "Resolving nlp.stanford.edu (nlp.stanford.edu)... 171.64.67.140\n",
            "Connecting to nlp.stanford.edu (nlp.stanford.edu)|171.64.67.140|:80... connected.\n",
            "HTTP request sent, awaiting response... 302 Found\n",
            "Location: https://nlp.stanford.edu/data/glove.6B.zip [following]\n",
            "--2023-05-09 07:47:33--  https://nlp.stanford.edu/data/glove.6B.zip\n",
            "Connecting to nlp.stanford.edu (nlp.stanford.edu)|171.64.67.140|:443... connected.\n",
            "HTTP request sent, awaiting response... 301 Moved Permanently\n",
            "Location: https://downloads.cs.stanford.edu/nlp/data/glove.6B.zip [following]\n",
            "--2023-05-09 07:47:33--  https://downloads.cs.stanford.edu/nlp/data/glove.6B.zip\n",
            "Resolving downloads.cs.stanford.edu (downloads.cs.stanford.edu)... 171.64.64.22\n",
            "Connecting to downloads.cs.stanford.edu (downloads.cs.stanford.edu)|171.64.64.22|:443... connected.\n",
            "HTTP request sent, awaiting response... 200 OK\n",
            "Length: 862182613 (822M) [application/zip]\n",
            "Saving to: ‘glove.6B.zip’\n",
            "\n",
            "glove.6B.zip        100%[===================>] 822.24M  4.88MB/s    in 2m 41s  \n",
            "\n",
            "2023-05-09 07:50:14 (5.11 MB/s) - ‘glove.6B.zip’ saved [862182613/862182613]\n",
            "\n"
          ]
        }
      ],
      "source": [
        "# Download the GloVe embeddings\n",
        "!wget http://nlp.stanford.edu/data/glove.6B.zip"
      ]
    },
    {
      "cell_type": "markdown",
      "metadata": {
        "id": "wFbYvfQhKSdE"
      },
      "source": [
        "> Lets unzip the file"
      ]
    },
    {
      "cell_type": "code",
      "execution_count": 18,
      "metadata": {
        "colab": {
          "base_uri": "https://localhost:8080/"
        },
        "id": "jQsXdwLqJksN",
        "outputId": "956eb6e7-1477-424f-8abf-4f09784a6686"
      },
      "outputs": [
        {
          "output_type": "stream",
          "name": "stdout",
          "text": [
            "File extension : .zip\n",
            "File extracting.......\n",
            "Completed successfully\n"
          ]
        }
      ],
      "source": [
        "hf.unzip_untar_data('glove.6B.zip')"
      ]
    },
    {
      "cell_type": "markdown",
      "metadata": {
        "id": "q4GYLl6mKUu6"
      },
      "source": [
        "> List the files available in the folder"
      ]
    },
    {
      "cell_type": "code",
      "execution_count": 19,
      "metadata": {
        "colab": {
          "base_uri": "https://localhost:8080/"
        },
        "id": "rN8VUf3sJzaD",
        "outputId": "416f3a89-c619-4f41-f877-224fcc872398"
      },
      "outputs": [
        {
          "output_type": "execute_result",
          "data": {
            "text/plain": [
              "['glove.6B.200d.txt',\n",
              " 'glove.6B.300d.txt',\n",
              " 'glove.6B.50d.txt',\n",
              " 'glove.6B.100d.txt']"
            ]
          },
          "metadata": {},
          "execution_count": 19
        }
      ],
      "source": [
        "[x for x in os.listdir() if x.find('glove') >= 0 and x.find('.zip') < 0]"
      ]
    },
    {
      "cell_type": "markdown",
      "metadata": {
        "id": "rMomiYcgKeX7"
      },
      "source": [
        "Note : We are using the 50 f Glove vectors for the examples"
      ]
    },
    {
      "cell_type": "code",
      "execution_count": 20,
      "metadata": {
        "colab": {
          "base_uri": "https://localhost:8080/"
        },
        "id": "0CRrYTZZKlXb",
        "outputId": "5863a2fe-f4ab-4b50-d70f-fda4f2335c36"
      },
      "outputs": [
        {
          "output_type": "execute_result",
          "data": {
            "text/plain": [
              "['the 0.418 0.24968 -0.41242 0.1217 0.34527 -0.044457 -0.49688 -0.17862 -0.00066023 -0.6566 0.27843 -0.14767 -0.55677 0.14658 -0.0095095 0.011658 0.10204 -0.12792 -0.8443 -0.12181 -0.016801 -0.33279 -0.1552 -0.23131 -0.19181 -1.8823 -0.76746 0.099051 -0.42125 -0.19526 4.0071 -0.18594 -0.52287 -0.31681 0.00059213 0.0074449 0.17778 -0.15897 0.012041 -0.054223 -0.29871 -0.15749 -0.34758 -0.045637 -0.44251 0.18785 0.0027849 -0.18411 -0.11514 -0.78581\\n',\n",
              " ', 0.013441 0.23682 -0.16899 0.40951 0.63812 0.47709 -0.42852 -0.55641 -0.364 -0.23938 0.13001 -0.063734 -0.39575 -0.48162 0.23291 0.090201 -0.13324 0.078639 -0.41634 -0.15428 0.10068 0.48891 0.31226 -0.1252 -0.037512 -1.5179 0.12612 -0.02442 -0.042961 -0.28351 3.5416 -0.11956 -0.014533 -0.1499 0.21864 -0.33412 -0.13872 0.31806 0.70358 0.44858 -0.080262 0.63003 0.32111 -0.46765 0.22786 0.36034 -0.37818 -0.56657 0.044691 0.30392\\n',\n",
              " '. 0.15164 0.30177 -0.16763 0.17684 0.31719 0.33973 -0.43478 -0.31086 -0.44999 -0.29486 0.16608 0.11963 -0.41328 -0.42353 0.59868 0.28825 -0.11547 -0.041848 -0.67989 -0.25063 0.18472 0.086876 0.46582 0.015035 0.043474 -1.4671 -0.30384 -0.023441 0.30589 -0.21785 3.746 0.0042284 -0.18436 -0.46209 0.098329 -0.11907 0.23919 0.1161 0.41705 0.056763 -6.3681e-05 0.068987 0.087939 -0.10285 -0.13931 0.22314 -0.080803 -0.35652 0.016413 0.10216\\n']"
            ]
          },
          "metadata": {},
          "execution_count": 20
        }
      ],
      "source": [
        "# Get the lines from the txt file\n",
        "\n",
        "with open('glove.6B.50d.txt') as file:\n",
        "  lines = file.readlines()\n",
        "\n",
        "lines[:3]"
      ]
    },
    {
      "cell_type": "code",
      "execution_count": 21,
      "metadata": {
        "colab": {
          "base_uri": "https://localhost:8080/",
          "height": 70
        },
        "id": "zuyCuG-mLEyY",
        "outputId": "9c311a9f-9833-4fdd-bce5-dc07103b5496"
      },
      "outputs": [
        {
          "output_type": "execute_result",
          "data": {
            "text/plain": [
              "'the 0.418 0.24968 -0.41242 0.1217 0.34527 -0.044457 -0.49688 -0.17862 -0.00066023 -0.6566 0.27843 -0.14767 -0.55677 0.14658 -0.0095095 0.011658 0.10204 -0.12792 -0.8443 -0.12181 -0.016801 -0.33279 -0.1552 -0.23131 -0.19181 -1.8823 -0.76746 0.099051 -0.42125 -0.19526 4.0071 -0.18594 -0.52287 -0.31681 0.00059213 0.0074449 0.17778 -0.15897 0.012041 -0.054223 -0.29871 -0.15749 -0.34758 -0.045637 -0.44251 0.18785 0.0027849 -0.18411 -0.11514 -0.78581\\n'"
            ],
            "application/vnd.google.colaboratory.intrinsic+json": {
              "type": "string"
            }
          },
          "metadata": {},
          "execution_count": 21
        }
      ],
      "source": [
        "lines[0] # the first item in the line is the word and the rest are the embedding values"
      ]
    },
    {
      "cell_type": "code",
      "execution_count": 22,
      "metadata": {
        "colab": {
          "base_uri": "https://localhost:8080/"
        },
        "id": "NuBUbDN2MEZb",
        "outputId": "1410eeb8-94f3-4655-9256-3e58458d8ee9"
      },
      "outputs": [
        {
          "output_type": "stream",
          "name": "stdout",
          "text": [
            "Lets look at one of the sample data from the text file\n",
            "\n",
            "The word is : the\n",
            "\n",
            "The Embedding :\n",
            "\n",
            "['0.418' '0.24968' '-0.41242' '0.1217' '0.34527' '-0.044457' '-0.49688'\n",
            " '-0.17862' '-0.00066023' '-0.6566' '0.27843' '-0.14767' '-0.55677'\n",
            " '0.14658' '-0.0095095' '0.011658' '0.10204' '-0.12792' '-0.8443'\n",
            " '-0.12181' '-0.016801' '-0.33279' '-0.1552' '-0.23131' '-0.19181'\n",
            " '-1.8823' '-0.76746' '0.099051' '-0.42125' '-0.19526' '4.0071' '-0.18594'\n",
            " '-0.52287' '-0.31681' '0.00059213' '0.0074449' '0.17778' '-0.15897'\n",
            " '0.012041' '-0.054223' '-0.29871' '-0.15749' '-0.34758' '-0.045637'\n",
            " '-0.44251' '0.18785' '0.0027849' '-0.18411' '-0.11514' '-0.78581']\n"
          ]
        }
      ],
      "source": [
        "print('Lets look at one of the sample data from the text file')\n",
        "word = lines[0].split()[0]\n",
        "embed = np.array(lines[0].split()[1:])\n",
        "\n",
        "print(f'\\nThe word is : {word}\\n')\n",
        "print(f'The Embedding :\\n\\n{embed}')"
      ]
    },
    {
      "cell_type": "markdown",
      "metadata": {
        "id": "c-lUXpkqLdQk"
      },
      "source": [
        "> Record the word and the corresponding embedding into a dictionary"
      ]
    },
    {
      "cell_type": "code",
      "execution_count": 23,
      "metadata": {
        "colab": {
          "base_uri": "https://localhost:8080/"
        },
        "id": "5rxlISHxNFO1",
        "outputId": "98c15f69-b21b-483c-8406-96398ae1caa9"
      },
      "outputs": [
        {
          "output_type": "stream",
          "name": "stdout",
          "text": [
            "The nunber of words with embeddings : 400000\n",
            "The number of words with errors 0\n"
          ]
        }
      ],
      "source": [
        "glove_dict = {}\n",
        "words_with_erros = []\n",
        "\n",
        "for line in lines:\n",
        "  line_to_items = line.split()\n",
        "  word = line_to_items[0]\n",
        "  vector = line_to_items[1:]\n",
        "  vector = np.array(vector, dtype = np.float32)\n",
        "\n",
        "  if vector.shape[0] == 50:\n",
        "    glove_dict[word] = vector\n",
        "  else:\n",
        "    words_with_erros.append(word)\n",
        "\n",
        "print(f'The nunber of words with embeddings : {len(glove_dict.keys())}')\n",
        "print(f'The number of words with errors {len(words_with_erros)}')"
      ]
    },
    {
      "cell_type": "markdown",
      "metadata": {
        "id": "OX7ky3ysOvEB"
      },
      "source": [
        "# Building an Embedding Matrix"
      ]
    },
    {
      "cell_type": "markdown",
      "metadata": {
        "id": "RlG5K9HyPdd8"
      },
      "source": [
        "> Create an embedding matrix of zeros with embedding size and vocabulary size"
      ]
    },
    {
      "cell_type": "code",
      "execution_count": 24,
      "metadata": {
        "colab": {
          "base_uri": "https://localhost:8080/"
        },
        "id": "JGkk-EY_Ouyx",
        "outputId": "fdbcccc0-a98b-4372-e7a9-b7761734fdc5"
      },
      "outputs": [
        {
          "output_type": "execute_result",
          "data": {
            "text/plain": [
              "{'<OOV>': 1,\n",
              " 'the': 2,\n",
              " 'a': 3,\n",
              " 'and': 4,\n",
              " 'of': 5,\n",
              " 'to': 6,\n",
              " 'is': 7,\n",
              " 'it': 8,\n",
              " 'in': 9,\n",
              " 'this': 10,\n",
              " 'i': 11,\n",
              " 'that': 12,\n",
              " 'movie': 13,\n",
              " 'wa': 14,\n",
              " 'film': 15,\n",
              " 'with': 16,\n",
              " 'for': 17,\n",
              " 'but': 18,\n",
              " 'on': 19,\n",
              " 'not': 20,\n",
              " 'he': 21,\n",
              " 'you': 22,\n",
              " 'are': 23,\n",
              " 'his': 24,\n",
              " 'have': 25,\n",
              " 'be': 26,\n",
              " 'one': 27,\n",
              " 'at': 28,\n",
              " 'all': 29,\n",
              " 'by': 30,\n",
              " 'an': 31,\n",
              " 'who': 32,\n",
              " 'they': 33,\n",
              " 'from': 34,\n",
              " 'like': 35,\n",
              " 'so': 36,\n",
              " 'her': 37,\n",
              " 'there': 38,\n",
              " 'or': 39,\n",
              " 'just': 40,\n",
              " 'about': 41,\n",
              " 'ha': 42,\n",
              " 'out': 43,\n",
              " 'if': 44,\n",
              " 'some': 45,\n",
              " 'time': 46,\n",
              " 'what': 47,\n",
              " 'good': 48,\n",
              " 'more': 49,\n",
              " 'very': 50,\n",
              " 'when': 51,\n",
              " 'character': 52,\n",
              " 'story': 53,\n",
              " 'she': 54,\n",
              " 'get': 55,\n",
              " 'even': 56,\n",
              " 'up': 57,\n",
              " 'no': 58,\n",
              " 'can': 59,\n",
              " 'would': 60,\n",
              " 'my': 61,\n",
              " 'make': 62,\n",
              " 'which': 63,\n",
              " 'only': 64,\n",
              " 'see': 65,\n",
              " 'really': 66,\n",
              " 'their': 67,\n",
              " 'were': 68,\n",
              " 'had': 69,\n",
              " 'me': 70,\n",
              " 'scene': 71,\n",
              " 'than': 72,\n",
              " 'we': 73,\n",
              " 'much': 74,\n",
              " 'well': 75,\n",
              " 'been': 76,\n",
              " 'people': 77,\n",
              " 'will': 78,\n",
              " 'into': 79,\n",
              " 'because': 80,\n",
              " 'other': 81,\n",
              " 'do': 82,\n",
              " 'also': 83,\n",
              " 'bad': 84,\n",
              " 'great': 85,\n",
              " 'how': 86,\n",
              " 'first': 87,\n",
              " 'most': 88,\n",
              " 'him': 89,\n",
              " 'way': 90,\n",
              " 'show': 91,\n",
              " 'dont': 92,\n",
              " 'thing': 93,\n",
              " 'made': 94,\n",
              " 'then': 95,\n",
              " 'could': 96,\n",
              " 'think': 97,\n",
              " 'them': 98,\n",
              " 'any': 99,\n",
              " 'too': 100,\n",
              " 'life': 101,\n",
              " 'go': 102,\n",
              " 'after': 103,\n",
              " 'know': 104,\n",
              " 'watch': 105,\n",
              " 'being': 106,\n",
              " 'love': 107,\n",
              " 'two': 108,\n",
              " 'many': 109,\n",
              " 'actor': 110,\n",
              " 'seen': 111,\n",
              " 'plot': 112,\n",
              " 'say': 113,\n",
              " 'look': 114,\n",
              " 'never': 115,\n",
              " 'little': 116,\n",
              " 'end': 117,\n",
              " 'year': 118,\n",
              " 'acting': 119,\n",
              " 'best': 120,\n",
              " 'where': 121,\n",
              " 'did': 122,\n",
              " 'doe': 123,\n",
              " 'ever': 124,\n",
              " 'your': 125,\n",
              " 'come': 126,\n",
              " 'take': 127,\n",
              " 'man': 128,\n",
              " 'better': 129,\n",
              " 'still': 130,\n",
              " 'over': 131,\n",
              " 'off': 132,\n",
              " 'here': 133,\n",
              " 'work': 134,\n",
              " 'these': 135,\n",
              " 'why': 136,\n",
              " 'such': 137,\n",
              " 'part': 138,\n",
              " 'find': 139,\n",
              " 'while': 140,\n",
              " 'want': 141,\n",
              " 'should': 142,\n",
              " 'give': 143,\n",
              " 'something': 144,\n",
              " 'through': 145,\n",
              " 'back': 146,\n",
              " 'lot': 147,\n",
              " 'those': 148,\n",
              " 'director': 149,\n",
              " 'performance': 150,\n",
              " 'im': 151,\n",
              " 'doesnt': 152,\n",
              " 'real': 153,\n",
              " 'woman': 154,\n",
              " 'watching': 155,\n",
              " 'though': 156,\n",
              " 'play': 157,\n",
              " 'didnt': 158,\n",
              " 'new': 159,\n",
              " 'actually': 160,\n",
              " 'guy': 161,\n",
              " 'nothing': 162,\n",
              " 'before': 163,\n",
              " 'now': 164,\n",
              " 'role': 165,\n",
              " 'another': 166,\n",
              " 'u': 167,\n",
              " 'old': 168,\n",
              " 'funny': 169,\n",
              " 'few': 170,\n",
              " 'going': 171,\n",
              " 'same': 172,\n",
              " 'every': 173,\n",
              " 'point': 174,\n",
              " 'girl': 175,\n",
              " 'cast': 176,\n",
              " 'again': 177,\n",
              " 'world': 178,\n",
              " 'cant': 179,\n",
              " 'quite': 180,\n",
              " 'fact': 181,\n",
              " 'got': 182,\n",
              " 'feel': 183,\n",
              " 'thats': 184,\n",
              " 'day': 185,\n",
              " 'pretty': 186,\n",
              " 'young': 187,\n",
              " 'seems': 188,\n",
              " 'around': 189,\n",
              " 'down': 190,\n",
              " 'thought': 191,\n",
              " 'minute': 192,\n",
              " 'comedy': 193,\n",
              " 'horror': 194,\n",
              " 'star': 195,\n",
              " 'enough': 196,\n",
              " 'may': 197,\n",
              " 'original': 198,\n",
              " 'action': 199,\n",
              " 'between': 200,\n",
              " 'right': 201,\n",
              " 'both': 202,\n",
              " 'big': 203,\n",
              " 'family': 204,\n",
              " 'bit': 205,\n",
              " 'own': 206,\n",
              " 'however': 207,\n",
              " 'ive': 208,\n",
              " 'without': 209,\n",
              " 'fan': 210,\n",
              " 'always': 211,\n",
              " 'series': 212,\n",
              " 'line': 213,\n",
              " 'isnt': 214,\n",
              " 'long': 215,\n",
              " 'saw': 216,\n",
              " 'friend': 217,\n",
              " 'almost': 218,\n",
              " 'set': 219,\n",
              " 'least': 220,\n",
              " 'try': 221,\n",
              " 'script': 222,\n",
              " 'must': 223,\n",
              " 'whole': 224,\n",
              " 'interesting': 225,\n",
              " 'last': 226,\n",
              " 'kid': 227,\n",
              " 'music': 228,\n",
              " 'done': 229,\n",
              " 'kind': 230,\n",
              " 'anything': 231,\n",
              " 'might': 232,\n",
              " 'shot': 233,\n",
              " 'start': 234,\n",
              " 'far': 235,\n",
              " 'reason': 236,\n",
              " 'since': 237,\n",
              " 'probably': 238,\n",
              " 'book': 239,\n",
              " 'am': 240,\n",
              " 'rather': 241,\n",
              " 'put': 242,\n",
              " 'effect': 243,\n",
              " 'place': 244,\n",
              " 'worst': 245,\n",
              " 'moment': 246,\n",
              " 'away': 247,\n",
              " 'tv': 248,\n",
              " 'yet': 249,\n",
              " 'need': 250,\n",
              " 'making': 251,\n",
              " 'sure': 252,\n",
              " 'idea': 253,\n",
              " 'tell': 254,\n",
              " 'audience': 255,\n",
              " 'each': 256,\n",
              " 'found': 257,\n",
              " 'fun': 258,\n",
              " 'turn': 259,\n",
              " 'played': 260,\n",
              " 'let': 261,\n",
              " 'child': 262,\n",
              " 'episode': 263,\n",
              " 'anyone': 264,\n",
              " 'our': 265,\n",
              " 'believe': 266,\n",
              " 'having': 267,\n",
              " 'course': 268,\n",
              " 'trying': 269,\n",
              " 'especially': 270,\n",
              " 'hard': 271,\n",
              " 'job': 272,\n",
              " 'mean': 273,\n",
              " 'american': 274,\n",
              " 'although': 275,\n",
              " 'different': 276,\n",
              " 'version': 277,\n",
              " 'ending': 278,\n",
              " 'wasnt': 279,\n",
              " 'someone': 280,\n",
              " 'problem': 281,\n",
              " 'dvd': 282,\n",
              " 'money': 283,\n",
              " 'main': 284,\n",
              " 'sense': 285,\n",
              " 'screen': 286,\n",
              " 'keep': 287,\n",
              " 'worth': 288,\n",
              " 'looking': 289,\n",
              " 'true': 290,\n",
              " 'once': 291,\n",
              " 'watched': 292,\n",
              " 'everything': 293,\n",
              " 'help': 294,\n",
              " 'maybe': 295,\n",
              " 'night': 296,\n",
              " 'seem': 297,\n",
              " 'said': 298,\n",
              " 'three': 299,\n",
              " 'war': 300,\n",
              " 'second': 301,\n",
              " 'house': 302,\n",
              " 'together': 303,\n",
              " 'wife': 304,\n",
              " 'john': 305,\n",
              " 'beautiful': 306,\n",
              " 'during': 307,\n",
              " '10': 308,\n",
              " 'instead': 309,\n",
              " 'himself': 310,\n",
              " 'later': 311,\n",
              " '2': 312,\n",
              " 'left': 313,\n",
              " 'le': 314,\n",
              " 'everyone': 315,\n",
              " 'special': 316,\n",
              " 'seeing': 317,\n",
              " 'father': 318,\n",
              " 'lead': 319,\n",
              " 'excellent': 320,\n",
              " 'boy': 321,\n",
              " 'read': 322,\n",
              " 'hour': 323,\n",
              " 'viewer': 324,\n",
              " 'death': 325,\n",
              " 'classic': 326,\n",
              " 'black': 327,\n",
              " 'mind': 328,\n",
              " 'nice': 329,\n",
              " 'simply': 330,\n",
              " 'youre': 331,\n",
              " 'high': 332,\n",
              " 'short': 333,\n",
              " 'name': 334,\n",
              " 'laugh': 335,\n",
              " 'piece': 336,\n",
              " 'sound': 337,\n",
              " 'completely': 338,\n",
              " 'else': 339,\n",
              " 'picture': 340,\n",
              " 'production': 341,\n",
              " 'eye': 342,\n",
              " 'face': 343,\n",
              " 'song': 344,\n",
              " 'home': 345,\n",
              " 'used': 346,\n",
              " 'poor': 347,\n",
              " 'hollywood': 348,\n",
              " 'men': 349,\n",
              " 'human': 350,\n",
              " 'rest': 351,\n",
              " 'given': 352,\n",
              " 'use': 353,\n",
              " 'couple': 354,\n",
              " 'enjoy': 355,\n",
              " 'until': 356,\n",
              " 'either': 357,\n",
              " 'kill': 358,\n",
              " 'truly': 359,\n",
              " 'word': 360,\n",
              " 'head': 361,\n",
              " 'half': 362,\n",
              " 'wrong': 363,\n",
              " 'boring': 364,\n",
              " 'along': 365,\n",
              " 'dead': 366,\n",
              " 'hand': 367,\n",
              " 'hope': 368,\n",
              " 'camera': 369,\n",
              " 'video': 370,\n",
              " 'remember': 371,\n",
              " 'came': 372,\n",
              " 'recommend': 373,\n",
              " 'case': 374,\n",
              " 'next': 375,\n",
              " 'sort': 376,\n",
              " 'person': 377,\n",
              " 'understand': 378,\n",
              " 'attempt': 379,\n",
              " 'full': 380,\n",
              " 'wonderful': 381,\n",
              " 'killer': 382,\n",
              " 'mr': 383,\n",
              " 'getting': 384,\n",
              " 'others': 385,\n",
              " 'stupid': 386,\n",
              " 'fall': 387,\n",
              " 'dialogue': 388,\n",
              " 'school': 389,\n",
              " 'run': 390,\n",
              " 'playing': 391,\n",
              " 'brother': 392,\n",
              " 'perhaps': 393,\n",
              " 'sex': 394,\n",
              " 'awful': 395,\n",
              " 'small': 396,\n",
              " 'terrible': 397,\n",
              " 'act': 398,\n",
              " 'doing': 399,\n",
              " 'care': 400,\n",
              " 'often': 401,\n",
              " 'sequence': 402,\n",
              " 'definitely': 403,\n",
              " 'early': 404,\n",
              " 'top': 405,\n",
              " 'perfect': 406,\n",
              " 'title': 407,\n",
              " 'become': 408,\n",
              " 'game': 409,\n",
              " 'style': 410,\n",
              " 'felt': 411,\n",
              " 'review': 412,\n",
              " 'supposed': 413,\n",
              " 'example': 414,\n",
              " 'joke': 415,\n",
              " 'feeling': 416,\n",
              " 'couldnt': 417,\n",
              " 'mother': 418,\n",
              " 'liked': 419,\n",
              " 'waste': 420,\n",
              " 'flick': 421,\n",
              " 'budget': 422,\n",
              " 'actress': 423,\n",
              " 'itself': 424,\n",
              " 'lost': 425,\n",
              " 'absolutely': 426,\n",
              " 'against': 427,\n",
              " 'went': 428,\n",
              " 'entire': 429,\n",
              " 'cinema': 430,\n",
              " 'live': 431,\n",
              " 'certainly': 432,\n",
              " 'car': 433,\n",
              " 'writer': 434,\n",
              " 'shes': 435,\n",
              " 'art': 436,\n",
              " 'written': 437,\n",
              " 'begin': 438,\n",
              " 'quality': 439,\n",
              " 'finally': 440,\n",
              " 'white': 441,\n",
              " 'evil': 442,\n",
              " 'lack': 443,\n",
              " 'son': 444,\n",
              " 'drama': 445,\n",
              " 'several': 446,\n",
              " 'loved': 447,\n",
              " 'comment': 448,\n",
              " 'direction': 449,\n",
              " 'yes': 450,\n",
              " 'favorite': 451,\n",
              " 'beginning': 452,\n",
              " 'worse': 453,\n",
              " 'fight': 454,\n",
              " 'becomes': 455,\n",
              " 'entertaining': 456,\n",
              " 'feature': 457,\n",
              " 'seemed': 458,\n",
              " 'murder': 459,\n",
              " 'already': 460,\n",
              " 'wanted': 461,\n",
              " 'number': 462,\n",
              " 'id': 463,\n",
              " 'dark': 464,\n",
              " '\\x96': 465,\n",
              " 'based': 466,\n",
              " 'meet': 467,\n",
              " 'side': 468,\n",
              " 'change': 469,\n",
              " 'throughout': 470,\n",
              " 'michael': 471,\n",
              " 'fine': 472,\n",
              " 'totally': 473,\n",
              " 'wont': 474,\n",
              " 'relationship': 475,\n",
              " 'matter': 476,\n",
              " 'final': 477,\n",
              " 'writing': 478,\n",
              " 'amazing': 479,\n",
              " 'guess': 480,\n",
              " 'heart': 481,\n",
              " 'low': 482,\n",
              " '3': 483,\n",
              " 'humor': 484,\n",
              " 'called': 485,\n",
              " 'hero': 486,\n",
              " 'youll': 487,\n",
              " 'history': 488,\n",
              " 'under': 489,\n",
              " 'despite': 490,\n",
              " 'age': 491,\n",
              " 'town': 492,\n",
              " 'past': 493,\n",
              " 'oh': 494,\n",
              " 'able': 495,\n",
              " 'genre': 496,\n",
              " 'enjoyed': 497,\n",
              " 'daughter': 498,\n",
              " 'event': 499,\n",
              " 'behind': 500,\n",
              " 'type': 501,\n",
              " 'theyre': 502,\n",
              " 'unfortunately': 503,\n",
              " 'today': 504,\n",
              " 'move': 505,\n",
              " 'voice': 506,\n",
              " 'city': 507,\n",
              " 'gave': 508,\n",
              " 'hit': 509,\n",
              " '1': 510,\n",
              " 'experience': 511,\n",
              " 'theme': 512,\n",
              " 'power': 513,\n",
              " 'zombie': 514,\n",
              " 'sometimes': 515,\n",
              " 'cut': 516,\n",
              " 'chance': 517,\n",
              " 'horrible': 518,\n",
              " 'call': 519,\n",
              " 'expect': 520,\n",
              " 'element': 521,\n",
              " 'wonder': 522,\n",
              " 'soon': 523,\n",
              " 'credit': 524,\n",
              " 'talent': 525,\n",
              " 'themselves': 526,\n",
              " 'save': 527,\n",
              " 'god': 528,\n",
              " 'thinking': 529,\n",
              " 'obviously': 530,\n",
              " 'brilliant': 531,\n",
              " 'close': 532,\n",
              " 'body': 533,\n",
              " 'musical': 534,\n",
              " 'decent': 535,\n",
              " 'question': 536,\n",
              " 'myself': 537,\n",
              " 'stop': 538,\n",
              " 'stuff': 539,\n",
              " 'group': 540,\n",
              " 'overall': 541,\n",
              " 'directed': 542,\n",
              " 'situation': 543,\n",
              " 'late': 544,\n",
              " 'add': 545,\n",
              " 'lady': 546,\n",
              " 'blood': 547,\n",
              " 'level': 548,\n",
              " 'took': 549,\n",
              " 'wish': 550,\n",
              " 'novel': 551,\n",
              " 'heard': 552,\n",
              " 'highly': 553,\n",
              " 'stand': 554,\n",
              " 'hell': 555,\n",
              " 'leave': 556,\n",
              " 'except': 557,\n",
              " 'ill': 558,\n",
              " 'killed': 559,\n",
              " 'score': 560,\n",
              " 'police': 561,\n",
              " 'view': 562,\n",
              " 'wouldnt': 563,\n",
              " 'interest': 564,\n",
              " 'extremely': 565,\n",
              " 'strong': 566,\n",
              " 'happens': 567,\n",
              " 'robert': 568,\n",
              " 'particularly': 569,\n",
              " 'career': 570,\n",
              " 'happened': 571,\n",
              " 'involved': 572,\n",
              " 'order': 573,\n",
              " 'obvious': 574,\n",
              " 'husband': 575,\n",
              " 'told': 576,\n",
              " 'james': 577,\n",
              " 'living': 578,\n",
              " 'talk': 579,\n",
              " 'light': 580,\n",
              " 'etc': 581,\n",
              " 'violence': 582,\n",
              " 'including': 583,\n",
              " 'theater': 584,\n",
              " 'country': 585,\n",
              " 'complete': 586,\n",
              " 'dream': 587,\n",
              " 'documentary': 588,\n",
              " 'king': 589,\n",
              " 'coming': 590,\n",
              " 'twist': 591,\n",
              " 'looked': 592,\n",
              " 'opinion': 593,\n",
              " 'effort': 594,\n",
              " 'female': 595,\n",
              " 'filmmaker': 596,\n",
              " 'simple': 597,\n",
              " 'alone': 598,\n",
              " 'sequel': 599,\n",
              " 'exactly': 600,\n",
              " 'reality': 601,\n",
              " 'slow': 602,\n",
              " 'happen': 603,\n",
              " 'shown': 604,\n",
              " 'ago': 605,\n",
              " 'whose': 606,\n",
              " 'room': 607,\n",
              " 'sister': 608,\n",
              " 'taken': 609,\n",
              " 'none': 610,\n",
              " 'david': 611,\n",
              " 'serious': 612,\n",
              " 'usually': 613,\n",
              " 'across': 614,\n",
              " 'rating': 615,\n",
              " 'cinematography': 616,\n",
              " 'annoying': 617,\n",
              " 'running': 618,\n",
              " 'deal': 619,\n",
              " 'somewhat': 620,\n",
              " 'opening': 621,\n",
              " 'season': 622,\n",
              " 'known': 623,\n",
              " 'usual': 624,\n",
              " 'sad': 625,\n",
              " 'value': 626,\n",
              " 'miss': 627,\n",
              " 'comic': 628,\n",
              " 'yourself': 629,\n",
              " 'gore': 630,\n",
              " 'stay': 631,\n",
              " 'local': 632,\n",
              " 'started': 633,\n",
              " 'released': 634,\n",
              " 'huge': 635,\n",
              " 'crap': 636,\n",
              " 'scary': 637,\n",
              " 'rock': 638,\n",
              " 'message': 639,\n",
              " 'possible': 640,\n",
              " 'saying': 641,\n",
              " 'please': 642,\n",
              " 'major': 643,\n",
              " 'english': 644,\n",
              " 'ridiculous': 645,\n",
              " 'hilarious': 646,\n",
              " 'mostly': 647,\n",
              " 'cool': 648,\n",
              " 'figure': 649,\n",
              " 'ok': 650,\n",
              " 'street': 651,\n",
              " 'seriously': 652,\n",
              " 'talking': 653,\n",
              " 'tale': 654,\n",
              " 'taking': 655,\n",
              " 'return': 656,\n",
              " 'due': 657,\n",
              " 'strange': 658,\n",
              " 'thriller': 659,\n",
              " 'single': 660,\n",
              " 'important': 661,\n",
              " 'supporting': 662,\n",
              " 'knew': 663,\n",
              " 'george': 664,\n",
              " 'attention': 665,\n",
              " 'mention': 666,\n",
              " 'turned': 667,\n",
              " 'happy': 668,\n",
              " 'apparently': 669,\n",
              " 'clearly': 670,\n",
              " 'arent': 671,\n",
              " 'oscar': 672,\n",
              " 'dialog': 673,\n",
              " 'british': 674,\n",
              " 'monster': 675,\n",
              " 'surprise': 676,\n",
              " 'mystery': 677,\n",
              " 'jack': 678,\n",
              " 'easily': 679,\n",
              " 'result': 680,\n",
              " 'basically': 681,\n",
              " 'anyway': 682,\n",
              " '5': 683,\n",
              " 'open': 684,\n",
              " 'bring': 685,\n",
              " 'television': 686,\n",
              " 'hate': 687,\n",
              " 'cheap': 688,\n",
              " 'cop': 689,\n",
              " 'silly': 690,\n",
              " 'future': 691,\n",
              " 'modern': 692,\n",
              " 'disappointed': 693,\n",
              " 'member': 694,\n",
              " 'adult': 695,\n",
              " 'earth': 696,\n",
              " 'paul': 697,\n",
              " 'parent': 698,\n",
              " 'four': 699,\n",
              " 'dog': 700,\n",
              " 'romantic': 701,\n",
              " 'class': 702,\n",
              " 'similar': 703,\n",
              " 'beyond': 704,\n",
              " 'form': 705,\n",
              " 'villain': 706,\n",
              " 'team': 707,\n",
              " 'five': 708,\n",
              " 'aspect': 709,\n",
              " 'animation': 710,\n",
              " 'whether': 711,\n",
              " 'entertainment': 712,\n",
              " 'hold': 713,\n",
              " 'producer': 714,\n",
              " 'appears': 715,\n",
              " '4': 716,\n",
              " 'giving': 717,\n",
              " 'peter': 718,\n",
              " 'release': 719,\n",
              " 'predictable': 720,\n",
              " 'upon': 721,\n",
              " 'image': 722,\n",
              " 'state': 723,\n",
              " 'doubt': 724,\n",
              " 'break': 725,\n",
              " 'storyline': 726,\n",
              " 'crime': 727,\n",
              " 'within': 728,\n",
              " 'havent': 729,\n",
              " '80': 730,\n",
              " 'bunch': 731,\n",
              " 'whats': 732,\n",
              " 'nearly': 733,\n",
              " 'buy': 734,\n",
              " 'enjoyable': 735,\n",
              " 'viewing': 736,\n",
              " 'killing': 737,\n",
              " 'dance': 738,\n",
              " 'richard': 739,\n",
              " 'actual': 740,\n",
              " 'ten': 741,\n",
              " 'york': 742,\n",
              " 'middle': 743,\n",
              " 'surprised': 744,\n",
              " 'subject': 745,\n",
              " 'present': 746,\n",
              " 'moving': 747,\n",
              " 'named': 748,\n",
              " 'above': 749,\n",
              " 'using': 750,\n",
              " 'gun': 751,\n",
              " 'herself': 752,\n",
              " 'dull': 753,\n",
              " 'showing': 754,\n",
              " 'lee': 755,\n",
              " 'setting': 756,\n",
              " 'among': 757,\n",
              " 'fantastic': 758,\n",
              " 'typical': 759,\n",
              " 'general': 760,\n",
              " 'easy': 761,\n",
              " 'working': 762,\n",
              " 'clear': 763,\n",
              " 'tried': 764,\n",
              " 'standard': 765,\n",
              " 'de': 766,\n",
              " 'material': 767,\n",
              " 'victim': 768,\n",
              " 'certain': 769,\n",
              " 'soundtrack': 770,\n",
              " 'near': 771,\n",
              " 'french': 772,\n",
              " 'straight': 773,\n",
              " 'famous': 774,\n",
              " 'red': 775,\n",
              " 'period': 776,\n",
              " 'emotion': 777,\n",
              " 'note': 778,\n",
              " 'kept': 779,\n",
              " 'soldier': 780,\n",
              " 'greatest': 781,\n",
              " 'somehow': 782,\n",
              " 'stage': 783,\n",
              " 'check': 784,\n",
              " 'editing': 785,\n",
              " 'tom': 786,\n",
              " 'weak': 787,\n",
              " 'brought': 788,\n",
              " 'force': 789,\n",
              " 'battle': 790,\n",
              " 'detail': 791,\n",
              " 'premise': 792,\n",
              " 'baby': 793,\n",
              " 'particular': 794,\n",
              " 'gone': 795,\n",
              " 'space': 796,\n",
              " 'hear': 797,\n",
              " 'filmed': 798,\n",
              " 'mark': 799,\n",
              " 'wait': 800,\n",
              " 'disney': 801,\n",
              " 'sorry': 802,\n",
              " 'animal': 803,\n",
              " 'student': 804,\n",
              " 'cartoon': 805,\n",
              " 'learn': 806,\n",
              " 'western': 807,\n",
              " 'atmosphere': 808,\n",
              " 'realistic': 809,\n",
              " 'truth': 810,\n",
              " 'spoiler': 811,\n",
              " 'romance': 812,\n",
              " 'offer': 813,\n",
              " 'america': 814,\n",
              " 'youve': 815,\n",
              " 'screenplay': 816,\n",
              " 'decided': 817,\n",
              " 'fast': 818,\n",
              " 'walk': 819,\n",
              " 'imagine': 820,\n",
              " 'nature': 821,\n",
              " 'possibly': 822,\n",
              " 'eventually': 823,\n",
              " 'third': 824,\n",
              " 'lame': 825,\n",
              " 'fit': 826,\n",
              " 'became': 827,\n",
              " 'follow': 828,\n",
              " 'leaf': 829,\n",
              " 'background': 830,\n",
              " 'avoid': 831,\n",
              " 'difficult': 832,\n",
              " 'sit': 833,\n",
              " 'rent': 834,\n",
              " 'secret': 835,\n",
              " 'expected': 836,\n",
              " 'male': 837,\n",
              " 'die': 838,\n",
              " 'forget': 839,\n",
              " 'poorly': 840,\n",
              " 'remake': 841,\n",
              " 'cause': 842,\n",
              " 'sexual': 843,\n",
              " 'japanese': 844,\n",
              " 'indeed': 845,\n",
              " 'pay': 846,\n",
              " 'average': 847,\n",
              " 'reading': 848,\n",
              " 'nor': 849,\n",
              " 'escape': 850,\n",
              " 'issue': 851,\n",
              " '70': 852,\n",
              " 'suspense': 853,\n",
              " 'focus': 854,\n",
              " 'society': 855,\n",
              " 'studio': 856,\n",
              " 'believable': 857,\n",
              " 'whatever': 858,\n",
              " 'needed': 859,\n",
              " 'choice': 860,\n",
              " 'doctor': 861,\n",
              " 'beauty': 862,\n",
              " 'match': 863,\n",
              " 'touch': 864,\n",
              " 'accent': 865,\n",
              " 'copy': 866,\n",
              " 'emotional': 867,\n",
              " 'drug': 868,\n",
              " 'realize': 869,\n",
              " 'fantasy': 870,\n",
              " 'forced': 871,\n",
              " 'masterpiece': 872,\n",
              " 'development': 873,\n",
              " 'memorable': 874,\n",
              " 'dr': 875,\n",
              " 'joe': 876,\n",
              " 'superb': 877,\n",
              " 'write': 878,\n",
              " 'la': 879,\n",
              " 'older': 880,\n",
              " 'footage': 881,\n",
              " 'weird': 882,\n",
              " 'wood': 883,\n",
              " 'earlier': 884,\n",
              " 'crazy': 885,\n",
              " 'interested': 886,\n",
              " 'adventure': 887,\n",
              " '20': 888,\n",
              " 'whom': 889,\n",
              " 'b': 890,\n",
              " 'cover': 891,\n",
              " 'shame': 892,\n",
              " 'vampire': 893,\n",
              " 'bill': 894,\n",
              " 'ghost': 895,\n",
              " 'dramatic': 896,\n",
              " 'fear': 897,\n",
              " 'otherwise': 898,\n",
              " 'win': 899,\n",
              " 'towards': 900,\n",
              " 'ask': 901,\n",
              " 'previous': 902,\n",
              " 'badly': 903,\n",
              " 'brings': 904,\n",
              " 'lover': 905,\n",
              " 'hot': 906,\n",
              " 'okay': 907,\n",
              " 'personal': 908,\n",
              " 'cry': 909,\n",
              " 'total': 910,\n",
              " 'free': 911,\n",
              " 'worked': 912,\n",
              " 'plenty': 913,\n",
              " 'incredibly': 914,\n",
              " 'admit': 915,\n",
              " 'fire': 916,\n",
              " 'directing': 917,\n",
              " 'perfectly': 918,\n",
              " 'spirit': 919,\n",
              " 'unless': 920,\n",
              " 'cheesy': 921,\n",
              " 'deep': 922,\n",
              " 'award': 923,\n",
              " 'quickly': 924,\n",
              " 'unique': 925,\n",
              " 'mess': 926,\n",
              " 'creepy': 927,\n",
              " 'water': 928,\n",
              " 'plan': 929,\n",
              " 'girlfriend': 930,\n",
              " 'plus': 931,\n",
              " 'appear': 932,\n",
              " 'leading': 933,\n",
              " 'costume': 934,\n",
              " 'meant': 935,\n",
              " 'cat': 936,\n",
              " 'gay': 937,\n",
              " 'hardly': 938,\n",
              " 'week': 939,\n",
              " 'forward': 940,\n",
              " 'casting': 941,\n",
              " 'christmas': 942,\n",
              " '30': 943,\n",
              " 'party': 944,\n",
              " 'business': 945,\n",
              " 'various': 946,\n",
              " 'create': 947,\n",
              " 'imdb': 948,\n",
              " 'rate': 949,\n",
              " 'band': 950,\n",
              " 'potential': 951,\n",
              " 'scifi': 952,\n",
              " 'inside': 953,\n",
              " 'box': 954,\n",
              " 'project': 955,\n",
              " 'ben': 956,\n",
              " 'portrayed': 957,\n",
              " 'powerful': 958,\n",
              " 'front': 959,\n",
              " 'mistake': 960,\n",
              " 'rich': 961,\n",
              " 'air': 962,\n",
              " 'pick': 963,\n",
              " 'outside': 964,\n",
              " 'trouble': 965,\n",
              " '90': 966,\n",
              " 'fairly': 967,\n",
              " 'success': 968,\n",
              " 'color': 969,\n",
              " 'manages': 970,\n",
              " 'expecting': 971,\n",
              " 'amount': 972,\n",
              " 'fails': 973,\n",
              " 'missing': 974,\n",
              " 'apart': 975,\n",
              " 'political': 976,\n",
              " 'deserves': 977,\n",
              " 'german': 978,\n",
              " 'term': 979,\n",
              " 'location': 980,\n",
              " 'appearance': 981,\n",
              " 'dumb': 982,\n",
              " 'jane': 983,\n",
              " 'fighting': 984,\n",
              " 'company': 985,\n",
              " 'plain': 986,\n",
              " 'attack': 987,\n",
              " 'portrayal': 988,\n",
              " 'married': 989,\n",
              " 'crew': 990,\n",
              " 'scott': 991,\n",
              " 'agree': 992,\n",
              " 'recently': 993,\n",
              " 'nudity': 994,\n",
              " 'concept': 995,\n",
              " 'telling': 996,\n",
              " 'acted': 997,\n",
              " 'talented': 998,\n",
              " 'cute': 999,\n",
              " 'william': 1000,\n",
              " ...}"
            ]
          },
          "metadata": {},
          "execution_count": 24
        }
      ],
      "source": [
        "word_index = tokenizer.word_index\n",
        "word_index"
      ]
    },
    {
      "cell_type": "code",
      "execution_count": 25,
      "metadata": {
        "colab": {
          "base_uri": "https://localhost:8080/"
        },
        "id": "pMQWJE68U-l4",
        "outputId": "9914755a-863b-4f6d-80e3-47db4af2960a"
      },
      "outputs": [
        {
          "output_type": "execute_result",
          "data": {
            "text/plain": [
              "133639"
            ]
          },
          "metadata": {},
          "execution_count": 25
        }
      ],
      "source": [
        "len(word_index)"
      ]
    },
    {
      "cell_type": "code",
      "source": [
        "vocab_arrived_size = len(word_index.keys())"
      ],
      "metadata": {
        "id": "FC9WdmCZWw3s"
      },
      "execution_count": 26,
      "outputs": []
    },
    {
      "cell_type": "code",
      "execution_count": 27,
      "metadata": {
        "colab": {
          "base_uri": "https://localhost:8080/"
        },
        "id": "YFNAjz_GOu0N",
        "outputId": "6367d75f-3404-451d-9581-4c00b21c65d4"
      },
      "outputs": [
        {
          "output_type": "stream",
          "name": "stdout",
          "text": [
            "133639 50\n",
            "(133639, 50)\n"
          ]
        }
      ],
      "source": [
        "print(vocab_arrived_size,EMBED_LEN)\n",
        "embedding_matrix = np.zeros(shape = (vocab_arrived_size,EMBED_LEN))\n",
        "print(embedding_matrix.shape)"
      ]
    },
    {
      "cell_type": "markdown",
      "metadata": {
        "id": "gKu90l6uR9Zr"
      },
      "source": [
        "> Lets record the embedding value to the matricx for each word"
      ]
    },
    {
      "cell_type": "code",
      "execution_count": 28,
      "metadata": {
        "colab": {
          "base_uri": "https://localhost:8080/"
        },
        "id": "FEGD8WKCOut7",
        "outputId": "23cf9048-4a18-4a29-c6a9-492b5d11f0d1"
      },
      "outputs": [
        {
          "output_type": "stream",
          "name": "stdout",
          "text": [
            "The vocabulary size : 133639\n",
            "The number of unknown words in the give vocabulary : 79544\n",
            "The shape of the embedding : (133639, 50)\n"
          ]
        }
      ],
      "source": [
        "unknown_words = set()\n",
        "\n",
        "for word in word_index.keys():\n",
        "  if word == OOV_TOKEN:\n",
        "    None\n",
        "  else:\n",
        "    embedding = glove_dict.get(word)\n",
        "    id = word_index[word]\n",
        "\n",
        "    if embedding is not None:\n",
        "        embedding_matrix[id,:] = embedding\n",
        "    else:\n",
        "      unknown_words.add(word)\n",
        "\n",
        "print(f'The vocabulary size : {len(word_index.keys())}')\n",
        "print(f'The number of unknown words in the give vocabulary : {len(unknown_words)}')\n",
        "print(f'The shape of the embedding : {embedding_matrix.shape}')"
      ]
    },
    {
      "cell_type": "markdown",
      "source": [
        "# Create the data pipeline"
      ],
      "metadata": {
        "id": "wpjDM9E5loqW"
      }
    },
    {
      "cell_type": "code",
      "source": [
        "train_ds = tf.data.Dataset.from_tensor_slices((train_pad, train_label))\n",
        "test_ds = tf.data.Dataset.from_tensor_slices((test_pad, test_label))\n",
        "\n",
        "train_ds, test_ds"
      ],
      "metadata": {
        "colab": {
          "base_uri": "https://localhost:8080/"
        },
        "id": "A7teFwCrlr5-",
        "outputId": "4303a617-446b-40bd-8920-88ad4b2b694c"
      },
      "execution_count": 29,
      "outputs": [
        {
          "output_type": "execute_result",
          "data": {
            "text/plain": [
              "(<_TensorSliceDataset element_spec=(TensorSpec(shape=(124,), dtype=tf.int32, name=None), TensorSpec(shape=(), dtype=tf.int64, name=None))>,\n",
              " <_TensorSliceDataset element_spec=(TensorSpec(shape=(124,), dtype=tf.int32, name=None), TensorSpec(shape=(), dtype=tf.int64, name=None))>)"
            ]
          },
          "metadata": {},
          "execution_count": 29
        }
      ]
    },
    {
      "cell_type": "code",
      "source": [
        "train_ds = train_ds.shuffle(1000).batch(BATCH_SIZE).prefetch(tf.data.AUTOTUNE)\n",
        "test_ds = test_ds.batch(BATCH_SIZE).prefetch(tf.data.AUTOTUNE)\n",
        "\n",
        "train_ds, test_ds"
      ],
      "metadata": {
        "colab": {
          "base_uri": "https://localhost:8080/"
        },
        "id": "EEoI3TE5mL6c",
        "outputId": "5b30ff4e-8352-4895-f401-2e9796da19ed"
      },
      "execution_count": 30,
      "outputs": [
        {
          "output_type": "execute_result",
          "data": {
            "text/plain": [
              "(<_PrefetchDataset element_spec=(TensorSpec(shape=(None, 124), dtype=tf.int32, name=None), TensorSpec(shape=(None,), dtype=tf.int64, name=None))>,\n",
              " <_PrefetchDataset element_spec=(TensorSpec(shape=(None, 124), dtype=tf.int32, name=None), TensorSpec(shape=(None,), dtype=tf.int64, name=None))>)"
            ]
          },
          "metadata": {},
          "execution_count": 30
        }
      ]
    },
    {
      "cell_type": "markdown",
      "source": [
        "# Building the Model\n",
        "\n",
        "- Bi LSTM\n",
        "- with Glove Embedding Weights"
      ],
      "metadata": {
        "id": "Du8P6YpIc9hh"
      }
    },
    {
      "cell_type": "code",
      "source": [
        "from tensorflow.keras import layers"
      ],
      "metadata": {
        "id": "t2Fom5TPbAJC"
      },
      "execution_count": 31,
      "outputs": []
    },
    {
      "cell_type": "code",
      "source": [
        "inputs = tf.keras.Input(shape = (None,), name = 'input_layer')\n",
        "x = layers.Embedding(input_dim = vocab_arrived_size, output_dim = EMBED_LEN, mask_zero = True, weights = [embedding_matrix], trainable = False)(inputs)\n",
        "x = layers.Bidirectional(layers.LSTM(units = 64, return_sequences = True))(x)\n",
        "x = layers.Dropout(rate = 0.40)(x)\n",
        "x = layers.Bidirectional(layers.LSTM(units = 64))(x)\n",
        "x = layers.Dropout(rate = 0.35)(x)\n",
        "x = layers.Dense(units = 16, activation = 'relu')(x)\n",
        "outputs = layers.Dense(units = 1, activation = 'sigmoid')(x)\n",
        "model_1 = tf.keras.Model(inputs, outputs, name = 'model_1')\n",
        "\n",
        "model_1.compile(loss = tf.keras.losses.binary_crossentropy,\n",
        "                optimizer = tf.keras.optimizers.Adam(),\n",
        "                metrics = ['accuracy'])\n",
        "model_1.summary()"
      ],
      "metadata": {
        "colab": {
          "base_uri": "https://localhost:8080/"
        },
        "id": "eaW9TrsFdNH9",
        "outputId": "3ebfe1b7-e65d-4772-da3a-c6f825650a20"
      },
      "execution_count": 32,
      "outputs": [
        {
          "output_type": "stream",
          "name": "stdout",
          "text": [
            "Model: \"model_1\"\n",
            "_________________________________________________________________\n",
            " Layer (type)                Output Shape              Param #   \n",
            "=================================================================\n",
            " input_layer (InputLayer)    [(None, None)]            0         \n",
            "                                                                 \n",
            " embedding (Embedding)       (None, None, 50)          6681950   \n",
            "                                                                 \n",
            " bidirectional (Bidirectiona  (None, None, 128)        58880     \n",
            " l)                                                              \n",
            "                                                                 \n",
            " dropout (Dropout)           (None, None, 128)         0         \n",
            "                                                                 \n",
            " bidirectional_1 (Bidirectio  (None, 128)              98816     \n",
            " nal)                                                            \n",
            "                                                                 \n",
            " dropout_1 (Dropout)         (None, 128)               0         \n",
            "                                                                 \n",
            " dense (Dense)               (None, 16)                2064      \n",
            "                                                                 \n",
            " dense_1 (Dense)             (None, 1)                 17        \n",
            "                                                                 \n",
            "=================================================================\n",
            "Total params: 6,841,727\n",
            "Trainable params: 159,777\n",
            "Non-trainable params: 6,681,950\n",
            "_________________________________________________________________\n"
          ]
        }
      ]
    },
    {
      "cell_type": "markdown",
      "source": [
        "> Fit the model"
      ],
      "metadata": {
        "id": "QXXIG8jcmkQ3"
      }
    },
    {
      "cell_type": "code",
      "execution_count": 33,
      "metadata": {
        "id": "G-EQoRrZOul7",
        "colab": {
          "base_uri": "https://localhost:8080/"
        },
        "outputId": "fe1813b0-447d-4da5-944c-52adb6defbce"
      },
      "outputs": [
        {
          "output_type": "stream",
          "name": "stdout",
          "text": [
            "Epoch 1/25\n",
            "250/250 [==============================] - 38s 64ms/step - loss: 0.5805 - accuracy: 0.6916 - val_loss: 0.5454 - val_accuracy: 0.7240 - lr: 0.0010\n",
            "Epoch 2/25\n",
            "250/250 [==============================] - 11s 46ms/step - loss: 0.5021 - accuracy: 0.7560 - val_loss: 0.4820 - val_accuracy: 0.7659 - lr: 0.0010\n",
            "Epoch 3/25\n",
            "250/250 [==============================] - 11s 46ms/step - loss: 0.4807 - accuracy: 0.7714 - val_loss: 0.4711 - val_accuracy: 0.7782 - lr: 0.0010\n",
            "Epoch 4/25\n",
            "250/250 [==============================] - 11s 46ms/step - loss: 0.4498 - accuracy: 0.7877 - val_loss: 0.4361 - val_accuracy: 0.7932 - lr: 0.0010\n",
            "Epoch 5/25\n",
            "250/250 [==============================] - 11s 44ms/step - loss: 0.4272 - accuracy: 0.8040 - val_loss: 0.4461 - val_accuracy: 0.7885 - lr: 0.0010\n",
            "Epoch 6/25\n",
            "250/250 [==============================] - 11s 43ms/step - loss: 0.4130 - accuracy: 0.8108 - val_loss: 0.4138 - val_accuracy: 0.8095 - lr: 0.0010\n",
            "Epoch 7/25\n",
            "250/250 [==============================] - 12s 46ms/step - loss: 0.3948 - accuracy: 0.8203 - val_loss: 0.4032 - val_accuracy: 0.8137 - lr: 0.0010\n",
            "Epoch 8/25\n",
            "250/250 [==============================] - 11s 45ms/step - loss: 0.3780 - accuracy: 0.8304 - val_loss: 0.4140 - val_accuracy: 0.8062 - lr: 0.0010\n",
            "Epoch 9/25\n",
            "250/250 [==============================] - 11s 46ms/step - loss: 0.3689 - accuracy: 0.8356 - val_loss: 0.4067 - val_accuracy: 0.8168 - lr: 0.0010\n",
            "Epoch 10/25\n",
            "250/250 [==============================] - 11s 45ms/step - loss: 0.3520 - accuracy: 0.8445 - val_loss: 0.4040 - val_accuracy: 0.8154 - lr: 0.0010\n",
            "Epoch 11/25\n",
            "250/250 [==============================] - 13s 52ms/step - loss: 0.3415 - accuracy: 0.8506 - val_loss: 0.3961 - val_accuracy: 0.8185 - lr: 0.0010\n",
            "Epoch 12/25\n",
            "250/250 [==============================] - 11s 46ms/step - loss: 0.3250 - accuracy: 0.8608 - val_loss: 0.4056 - val_accuracy: 0.8173 - lr: 0.0010\n",
            "Epoch 13/25\n",
            "250/250 [==============================] - 11s 46ms/step - loss: 0.3155 - accuracy: 0.8652 - val_loss: 0.4228 - val_accuracy: 0.8162 - lr: 0.0010\n",
            "Epoch 14/25\n",
            "250/250 [==============================] - 11s 45ms/step - loss: 0.2985 - accuracy: 0.8721 - val_loss: 0.4181 - val_accuracy: 0.8152 - lr: 0.0010\n",
            "Epoch 15/25\n",
            "250/250 [==============================] - 11s 45ms/step - loss: 0.2844 - accuracy: 0.8804 - val_loss: 0.4348 - val_accuracy: 0.8126 - lr: 0.0010\n",
            "Epoch 16/25\n",
            "250/250 [==============================] - 11s 46ms/step - loss: 0.2633 - accuracy: 0.8906 - val_loss: 0.4581 - val_accuracy: 0.8103 - lr: 0.0010\n",
            "Epoch 17/25\n",
            "249/250 [============================>.] - ETA: 0s - loss: 0.2546 - accuracy: 0.8932\n",
            "Epoch 17: ReduceLROnPlateau reducing learning rate to 0.00010000000474974513.\n",
            "250/250 [==============================] - 11s 44ms/step - loss: 0.2545 - accuracy: 0.8933 - val_loss: 0.4889 - val_accuracy: 0.8166 - lr: 0.0010\n",
            "Epoch 18/25\n",
            "250/250 [==============================] - 13s 51ms/step - loss: 0.2095 - accuracy: 0.9151 - val_loss: 0.4977 - val_accuracy: 0.8173 - lr: 1.0000e-04\n",
            "Epoch 19/25\n",
            "250/250 [==============================] - 11s 46ms/step - loss: 0.1933 - accuracy: 0.9232 - val_loss: 0.5098 - val_accuracy: 0.8157 - lr: 1.0000e-04\n",
            "Epoch 20/25\n",
            "250/250 [==============================] - 11s 46ms/step - loss: 0.1873 - accuracy: 0.9260 - val_loss: 0.5230 - val_accuracy: 0.8148 - lr: 1.0000e-04\n",
            "Epoch 21/25\n",
            "250/250 [==============================] - 11s 44ms/step - loss: 0.1793 - accuracy: 0.9292 - val_loss: 0.5411 - val_accuracy: 0.8148 - lr: 1.0000e-04\n",
            "Epoch 22/25\n",
            "250/250 [==============================] - 11s 43ms/step - loss: 0.1753 - accuracy: 0.9316 - val_loss: 0.5540 - val_accuracy: 0.8124 - lr: 1.0000e-04\n",
            "Epoch 23/25\n",
            "249/250 [============================>.] - ETA: 0s - loss: 0.1707 - accuracy: 0.9345\n",
            "Epoch 23: ReduceLROnPlateau reducing learning rate to 1.0000000474974514e-05.\n",
            "250/250 [==============================] - 10s 42ms/step - loss: 0.1709 - accuracy: 0.9344 - val_loss: 0.5603 - val_accuracy: 0.8129 - lr: 1.0000e-04\n",
            "Epoch 24/25\n",
            "250/250 [==============================] - 11s 46ms/step - loss: 0.1631 - accuracy: 0.9374 - val_loss: 0.5557 - val_accuracy: 0.8131 - lr: 1.0000e-05\n",
            "Epoch 25/25\n",
            "250/250 [==============================] - 11s 45ms/step - loss: 0.1611 - accuracy: 0.9400 - val_loss: 0.5570 - val_accuracy: 0.8126 - lr: 1.0000e-05\n"
          ]
        }
      ],
      "source": [
        "history_1 = model_1.fit(train_ds, \n",
        "                        epochs = 25,\n",
        "                        steps_per_epoch = len(train_ds),\n",
        "                        validation_data = test_ds, \n",
        "                        validation_steps = len(test_ds),\n",
        "                        callbacks = [hf.create_model_checkpoint(monitor = 'val_accuracy', model_name = model_1.name),\n",
        "                                     hf.reduce_learning_rate_callback(monitor = 'val_accuracy', patience = 6)])"
      ]
    },
    {
      "cell_type": "code",
      "source": [
        "model_1.load_weights('checkpoints/model_1.h5')"
      ],
      "metadata": {
        "id": "MkMKdX-PnTFa"
      },
      "execution_count": 34,
      "outputs": []
    },
    {
      "cell_type": "code",
      "source": [
        "model_1.evaluate(test_ds)"
      ],
      "metadata": {
        "colab": {
          "base_uri": "https://localhost:8080/"
        },
        "id": "QDe92FOEnTC7",
        "outputId": "035831d9-c660-4e28-883e-541504db8c75"
      },
      "execution_count": 35,
      "outputs": [
        {
          "output_type": "stream",
          "name": "stdout",
          "text": [
            "250/250 [==============================] - 3s 13ms/step - loss: 0.3961 - accuracy: 0.8185\n"
          ]
        },
        {
          "output_type": "execute_result",
          "data": {
            "text/plain": [
              "[0.39612120389938354, 0.8184800148010254]"
            ]
          },
          "metadata": {},
          "execution_count": 35
        }
      ]
    },
    {
      "cell_type": "code",
      "source": [
        "# function to show the classification results\n",
        "\n",
        "def calculate_results(model, val_ds):\n",
        "  pred_prob = np.squeeze(model.predict(test_ds))\n",
        "  pred = np.round(pred_prob)\n",
        "  y_true = [x.numpy() for x in val_ds.unbatch().map(lambda x,y : y)]\n",
        "  y_true = np.array(y_true)\n",
        "  results = hf.calculate_results(y_true = y_true, y_pred = pred)\n",
        "  return results"
      ],
      "metadata": {
        "id": "-RKS73QSvNRo"
      },
      "execution_count": 36,
      "outputs": []
    },
    {
      "cell_type": "code",
      "source": [
        "results_1 = calculate_results(model_1, test_ds)\n",
        "results_1"
      ],
      "metadata": {
        "colab": {
          "base_uri": "https://localhost:8080/"
        },
        "id": "nSx64FvdvNPP",
        "outputId": "c1a4f368-31ad-40ef-fc51-07b3972e42f5"
      },
      "execution_count": 37,
      "outputs": [
        {
          "output_type": "stream",
          "name": "stdout",
          "text": [
            "250/250 [==============================] - 8s 13ms/step\n"
          ]
        },
        {
          "output_type": "execute_result",
          "data": {
            "text/plain": [
              "{'accuracy': 0.81848,\n",
              " 'precision': 0.8185716344546492,\n",
              " 'recall': 0.81848,\n",
              " 'f1': 0.8184669458854654}"
            ]
          },
          "metadata": {},
          "execution_count": 37
        }
      ]
    },
    {
      "cell_type": "code",
      "source": [
        "hf.plot_loss_curves(history_1)"
      ],
      "metadata": {
        "colab": {
          "base_uri": "https://localhost:8080/",
          "height": 927
        },
        "id": "rfjlZZh-nTAN",
        "outputId": "ca65ff00-195d-409a-e683-ebbc55c59f05"
      },
      "execution_count": 38,
      "outputs": [
        {
          "output_type": "display_data",
          "data": {
            "text/plain": [
              "<Figure size 640x480 with 1 Axes>"
            ],
            "image/png": "[encoded data removed]"
          },
          "metadata": {}
        },
        {
          "output_type": "display_data",
          "data": {
            "text/plain": [
              "<Figure size 640x480 with 1 Axes>"
            ],
            "image/png": "[encoded data removed]"
          },
          "metadata": {}
        }
      ]
    },
    {
      "cell_type": "markdown",
      "metadata": {
        "id": "KSHgZ1Y18xPy"
      },
      "source": [
        "# Model 2\n",
        "\n",
        "-  Fine Tuning the Glove Embedding"
      ]
    },
    {
      "cell_type": "code",
      "source": [
        "# Making the embedding layer, Trainable = True\n",
        "\n",
        "inputs = tf.keras.Input(shape = (None,), name = 'input_layer')\n",
        "x = layers.Embedding(input_dim = vocab_arrived_size, output_dim = EMBED_LEN, mask_zero = True, weights = [embedding_matrix], trainable = True)(inputs) # Trainable = True\n",
        "x = layers.Bidirectional(layers.LSTM(units = 64, return_sequences = True))(x)\n",
        "x = layers.Dropout(rate = 0.40)(x)\n",
        "x = layers.Bidirectional(layers.LSTM(units = 64))(x)\n",
        "x = layers.Dropout(rate = 0.35)(x)\n",
        "x = layers.Dense(units = 16, activation = 'relu')(x)\n",
        "outputs = layers.Dense(units = 1, activation = 'sigmoid')(x)\n",
        "model_2 = tf.keras.Model(inputs, outputs, name = 'model_2')\n",
        "\n",
        "model_2.compile(loss = tf.keras.losses.binary_crossentropy,\n",
        "                optimizer = tf.keras.optimizers.Adam(),\n",
        "                metrics = ['accuracy'])\n",
        "model_2.summary()"
      ],
      "metadata": {
        "colab": {
          "base_uri": "https://localhost:8080/"
        },
        "id": "c9a2uoD14rVb",
        "outputId": "34fd7c51-f196-41fc-ad88-061a3aefef41"
      },
      "execution_count": 39,
      "outputs": [
        {
          "output_type": "stream",
          "name": "stdout",
          "text": [
            "Model: \"model_2\"\n",
            "_________________________________________________________________\n",
            " Layer (type)                Output Shape              Param #   \n",
            "=================================================================\n",
            " input_layer (InputLayer)    [(None, None)]            0         \n",
            "                                                                 \n",
            " embedding_1 (Embedding)     (None, None, 50)          6681950   \n",
            "                                                                 \n",
            " bidirectional_2 (Bidirectio  (None, None, 128)        58880     \n",
            " nal)                                                            \n",
            "                                                                 \n",
            " dropout_2 (Dropout)         (None, None, 128)         0         \n",
            "                                                                 \n",
            " bidirectional_3 (Bidirectio  (None, 128)              98816     \n",
            " nal)                                                            \n",
            "                                                                 \n",
            " dropout_3 (Dropout)         (None, 128)               0         \n",
            "                                                                 \n",
            " dense_2 (Dense)             (None, 16)                2064      \n",
            "                                                                 \n",
            " dense_3 (Dense)             (None, 1)                 17        \n",
            "                                                                 \n",
            "=================================================================\n",
            "Total params: 6,841,727\n",
            "Trainable params: 6,841,727\n",
            "Non-trainable params: 0\n",
            "_________________________________________________________________\n"
          ]
        }
      ]
    },
    {
      "cell_type": "code",
      "source": [
        "history_2 = model_2.fit(train_ds, \n",
        "                        epochs = 25,\n",
        "                        steps_per_epoch = len(train_ds),\n",
        "                        validation_data = test_ds, \n",
        "                        validation_steps = len(test_ds),\n",
        "                        callbacks = [hf.create_model_checkpoint(monitor = 'val_accuracy', model_name = model_2.name),\n",
        "                                     hf.reduce_learning_rate_callback(monitor = 'val_accuracy', patience = 6)])"
      ],
      "metadata": {
        "colab": {
          "base_uri": "https://localhost:8080/"
        },
        "id": "kpLNBHOu47z4",
        "outputId": "775ccf52-6e76-4868-bf3e-b4bc28cfc3a8"
      },
      "execution_count": 40,
      "outputs": [
        {
          "output_type": "stream",
          "name": "stdout",
          "text": [
            "Epoch 1/25\n",
            "250/250 [==============================] - 68s 205ms/step - loss: 0.5575 - accuracy: 0.7044 - val_loss: 0.4736 - val_accuracy: 0.7724 - lr: 0.0010\n",
            "Epoch 2/25\n",
            "250/250 [==============================] - 30s 119ms/step - loss: 0.3929 - accuracy: 0.8268 - val_loss: 0.4125 - val_accuracy: 0.8243 - lr: 0.0010\n",
            "Epoch 3/25\n",
            "250/250 [==============================] - 19s 76ms/step - loss: 0.2889 - accuracy: 0.8814 - val_loss: 0.3970 - val_accuracy: 0.8231 - lr: 0.0010\n",
            "Epoch 4/25\n",
            "250/250 [==============================] - 17s 69ms/step - loss: 0.2015 - accuracy: 0.9255 - val_loss: 0.5143 - val_accuracy: 0.8228 - lr: 0.0010\n",
            "Epoch 5/25\n",
            "250/250 [==============================] - 18s 73ms/step - loss: 0.1197 - accuracy: 0.9578 - val_loss: 0.5491 - val_accuracy: 0.8150 - lr: 0.0010\n",
            "Epoch 6/25\n",
            "250/250 [==============================] - 15s 61ms/step - loss: 0.0613 - accuracy: 0.9811 - val_loss: 0.8303 - val_accuracy: 0.8044 - lr: 0.0010\n",
            "Epoch 7/25\n",
            "250/250 [==============================] - 16s 62ms/step - loss: 0.0312 - accuracy: 0.9910 - val_loss: 0.8663 - val_accuracy: 0.8001 - lr: 0.0010\n",
            "Epoch 8/25\n",
            "249/250 [============================>.] - ETA: 0s - loss: 0.0168 - accuracy: 0.9955\n",
            "Epoch 8: ReduceLROnPlateau reducing learning rate to 0.00010000000474974513.\n",
            "250/250 [==============================] - 14s 55ms/step - loss: 0.0168 - accuracy: 0.9955 - val_loss: 1.0429 - val_accuracy: 0.7830 - lr: 0.0010\n",
            "Epoch 9/25\n",
            "250/250 [==============================] - 13s 51ms/step - loss: 0.0066 - accuracy: 0.9985 - val_loss: 1.1014 - val_accuracy: 0.7935 - lr: 1.0000e-04\n",
            "Epoch 10/25\n",
            "250/250 [==============================] - 14s 55ms/step - loss: 0.0050 - accuracy: 0.9991 - val_loss: 1.1637 - val_accuracy: 0.7922 - lr: 1.0000e-04\n",
            "Epoch 11/25\n",
            "250/250 [==============================] - 13s 51ms/step - loss: 0.0039 - accuracy: 0.9994 - val_loss: 1.2248 - val_accuracy: 0.7908 - lr: 1.0000e-04\n",
            "Epoch 12/25\n",
            "250/250 [==============================] - 15s 60ms/step - loss: 0.0035 - accuracy: 0.9993 - val_loss: 1.2734 - val_accuracy: 0.7892 - lr: 1.0000e-04\n",
            "Epoch 13/25\n",
            "250/250 [==============================] - 12s 49ms/step - loss: 0.0032 - accuracy: 0.9995 - val_loss: 1.3313 - val_accuracy: 0.7872 - lr: 1.0000e-04\n",
            "Epoch 14/25\n",
            "250/250 [==============================] - ETA: 0s - loss: 0.0026 - accuracy: 0.9996\n",
            "Epoch 14: ReduceLROnPlateau reducing learning rate to 1.0000000474974514e-05.\n",
            "250/250 [==============================] - 13s 51ms/step - loss: 0.0026 - accuracy: 0.9996 - val_loss: 1.3899 - val_accuracy: 0.7870 - lr: 1.0000e-04\n",
            "Epoch 15/25\n",
            "250/250 [==============================] - 13s 52ms/step - loss: 0.0024 - accuracy: 0.9997 - val_loss: 1.3949 - val_accuracy: 0.7873 - lr: 1.0000e-05\n",
            "Epoch 16/25\n",
            "250/250 [==============================] - 13s 53ms/step - loss: 0.0023 - accuracy: 0.9997 - val_loss: 1.4021 - val_accuracy: 0.7870 - lr: 1.0000e-05\n",
            "Epoch 17/25\n",
            "250/250 [==============================] - 12s 48ms/step - loss: 0.0022 - accuracy: 0.9997 - val_loss: 1.4100 - val_accuracy: 0.7868 - lr: 1.0000e-05\n",
            "Epoch 18/25\n",
            "250/250 [==============================] - 14s 54ms/step - loss: 0.0022 - accuracy: 0.9997 - val_loss: 1.4181 - val_accuracy: 0.7868 - lr: 1.0000e-05\n",
            "Epoch 19/25\n",
            "250/250 [==============================] - 12s 49ms/step - loss: 0.0021 - accuracy: 0.9998 - val_loss: 1.4258 - val_accuracy: 0.7864 - lr: 1.0000e-05\n",
            "Epoch 20/25\n",
            "250/250 [==============================] - ETA: 0s - loss: 0.0020 - accuracy: 0.9997\n",
            "Epoch 20: ReduceLROnPlateau reducing learning rate to 1.0000000656873453e-06.\n",
            "250/250 [==============================] - 13s 50ms/step - loss: 0.0020 - accuracy: 0.9997 - val_loss: 1.4276 - val_accuracy: 0.7865 - lr: 1.0000e-05\n",
            "Epoch 21/25\n",
            "250/250 [==============================] - 12s 49ms/step - loss: 0.0020 - accuracy: 0.9998 - val_loss: 1.4289 - val_accuracy: 0.7864 - lr: 1.0000e-06\n",
            "Epoch 22/25\n",
            "250/250 [==============================] - 12s 47ms/step - loss: 0.0021 - accuracy: 0.9997 - val_loss: 1.4299 - val_accuracy: 0.7864 - lr: 1.0000e-06\n",
            "Epoch 23/25\n",
            "250/250 [==============================] - 12s 49ms/step - loss: 0.0020 - accuracy: 0.9997 - val_loss: 1.4316 - val_accuracy: 0.7864 - lr: 1.0000e-06\n",
            "Epoch 24/25\n",
            "250/250 [==============================] - 13s 51ms/step - loss: 0.0019 - accuracy: 0.9997 - val_loss: 1.4333 - val_accuracy: 0.7864 - lr: 1.0000e-06\n",
            "Epoch 25/25\n",
            "250/250 [==============================] - 12s 50ms/step - loss: 0.0019 - accuracy: 0.9997 - val_loss: 1.4348 - val_accuracy: 0.7864 - lr: 1.0000e-06\n"
          ]
        }
      ]
    },
    {
      "cell_type": "code",
      "source": [
        "model_2.load_weights('checkpoints/model_2.h5')"
      ],
      "metadata": {
        "id": "1fvpiZSv6C9e"
      },
      "execution_count": 41,
      "outputs": []
    },
    {
      "cell_type": "code",
      "source": [
        "results_2 = calculate_results(model_2, test_ds)\n",
        "results_2"
      ],
      "metadata": {
        "colab": {
          "base_uri": "https://localhost:8080/"
        },
        "id": "EKRaU_Nc6C66",
        "outputId": "0aa520ef-e5cd-4305-cb7a-536066f158c5"
      },
      "execution_count": 42,
      "outputs": [
        {
          "output_type": "stream",
          "name": "stdout",
          "text": [
            "250/250 [==============================] - 7s 12ms/step\n"
          ]
        },
        {
          "output_type": "execute_result",
          "data": {
            "text/plain": [
              "{'accuracy': 0.82432,\n",
              " 'precision': 0.8245982840815516,\n",
              " 'recall': 0.82432,\n",
              " 'f1': 0.8242823385038986}"
            ]
          },
          "metadata": {},
          "execution_count": 42
        }
      ]
    },
    {
      "cell_type": "code",
      "source": [
        "hf.plot_loss_curves(history_2)"
      ],
      "metadata": {
        "colab": {
          "base_uri": "https://localhost:8080/",
          "height": 927
        },
        "id": "3mCI-C_56C4T",
        "outputId": "3a0a8e5f-3550-49f8-b000-0c748299f9f5"
      },
      "execution_count": 43,
      "outputs": [
        {
          "output_type": "display_data",
          "data": {
            "text/plain": [
              "<Figure size 640x480 with 1 Axes>"
            ],
            "image/png": "[encoded data removed]"
          },
          "metadata": {}
        },
        {
          "output_type": "display_data",
          "data": {
            "text/plain": [
              "<Figure size 640x480 with 1 Axes>"
            ],
            "image/png": "[encoded data removed]"
          },
          "metadata": {}
        }
      ]
    },
    {
      "cell_type": "markdown",
      "metadata": {
        "id": "2t_5WLBV8xP1"
      },
      "source": [
        "# BERT Based Transfer Learning With HuggingFace"
      ]
    },
    {
      "cell_type": "code",
      "execution_count": 44,
      "metadata": {
        "id": "Rjg3zBoz8xP1"
      },
      "outputs": [],
      "source": [
        "# To clean up and free up GPU memory\n",
        "tf.keras.backend.clear_session()"
      ]
    },
    {
      "cell_type": "code",
      "source": [
        "!pip install transformers\n",
        "clear_output()"
      ],
      "metadata": {
        "id": "WxdR7IB_8J0A"
      },
      "execution_count": 45,
      "outputs": []
    },
    {
      "cell_type": "code",
      "source": [
        "from transformers import BertTokenizer"
      ],
      "metadata": {
        "id": "cy82Pl6u7bPb"
      },
      "execution_count": 46,
      "outputs": []
    },
    {
      "cell_type": "code",
      "source": [
        "bert_name = 'bert-base-cased'\n",
        "\n",
        "bert_tokenizer = BertTokenizer.from_pretrained(bert_name,\n",
        "                                               do_lower_case=False,\n",
        "                                               add_special_tokens=True,\n",
        "                                               max_length=150,\n",
        "                                               padding=True,\n",
        "                                               truncation=True)"
      ],
      "metadata": {
        "colab": {
          "base_uri": "https://localhost:8080/",
          "height": 113,
          "referenced_widgets": [
            "cb89606fc25d48d3967b58a82ed94feb",
            "36e83cdaa33548999979cbe9b86ef140",
            "c180d6128b6a439a909729687c88c910",
            "d4a0a0f3c2f14c36a0e16b21efeb4dba",
            "56558095013a426cbc1b4d3b7e73a25d",
            "435da5ef59bd4600b66c410cbc34d4e2",
            "cf0278f69d824de3820ae677157184ac",
            "81f75a465d1f49aabbd200ccdf587933",
            "255c58a2b4d74b538f83f15c99408a66",
            "3477dd2f7c924ce1873ece3a1cf594e2",
            "d0831e1cec5c47ac9f12cad9a9086099",
            "88cb4a6c51bb42cfbdec07cacefd40b7",
            "ea09b5d1c41c45af94c4903d0eb5db3a",
            "e6ebc7a1bcb04f27803343eef054abb3",
            "a57935d980a14a329c46eadf6c806f9b",
            "0bdc62566e244f0f8daeb47f62368937",
            "8a6150b3e8de4627ae1fedfff6c0735e",
            "5ca1e7c66add40329d86d1cf895ddd0c",
            "398c693559e94bba8edcc135061aa7b0",
            "263080a824fb441e94acb9ed5f3e9877",
            "16715cf884e743b5a7e4227fa601ecc4",
            "24c0340c6d7848039e3783e2ded3585e",
            "02979c4c5fd34dcea1995111dcaa8ca1",
            "e9b8674aa1fb455c893d4c74feeb46a3",
            "672f9dae4dce473487456e57ca098f44",
            "1c097738df0e4e9aa08a4600cc8fc683",
            "ec26f2f2cdc04073b8e2f598d37d1697",
            "e6d99654445148b1b9b8725298dcc7ff",
            "6ae21efc7ade476094b5d12fec3c3315",
            "fccce8f9320b427390502e87fe4e7cd5",
            "f960d3c1d2c54641bb1813b24ee7d6b6",
            "6c647fd6fa4e438c88e316486d9fe1a8",
            "66355ad588444be191a6aa1a528cb65a"
          ]
        },
        "id": "5MNeZN597bK-",
        "outputId": "99236531-72e3-4b66-f4e5-a8406910ebcd"
      },
      "execution_count": 47,
      "outputs": [
        {
          "output_type": "display_data",
          "data": {
            "text/plain": [
              "Downloading (…)solve/main/vocab.txt:   0%|          | 0.00/213k [00:00<?, ?B/s]"
            ],
            "application/vnd.jupyter.widget-view+json": {
              "version_major": 2,
              "version_minor": 0,
              "model_id": "cb89606fc25d48d3967b58a82ed94feb"
            }
          },
          "metadata": {}
        },
        {
          "output_type": "display_data",
          "data": {
            "text/plain": [
              "Downloading (…)okenizer_config.json:   0%|          | 0.00/29.0 [00:00<?, ?B/s]"
            ],
            "application/vnd.jupyter.widget-view+json": {
              "version_major": 2,
              "version_minor": 0,
              "model_id": "88cb4a6c51bb42cfbdec07cacefd40b7"
            }
          },
          "metadata": {}
        },
        {
          "output_type": "display_data",
          "data": {
            "text/plain": [
              "Downloading (…)lve/main/config.json:   0%|          | 0.00/570 [00:00<?, ?B/s]"
            ],
            "application/vnd.jupyter.widget-view+json": {
              "version_major": 2,
              "version_minor": 0,
              "model_id": "02979c4c5fd34dcea1995111dcaa8ca1"
            }
          },
          "metadata": {}
        }
      ]
    },
    {
      "cell_type": "markdown",
      "metadata": {
        "id": "F2IacKx08xP1"
      },
      "source": [
        "## Tokenization and Normalization with BERT"
      ]
    },
    {
      "cell_type": "markdown",
      "source": [
        "> Sample Tokenization"
      ],
      "metadata": {
        "id": "wEKMyfq-_Mi7"
      }
    },
    {
      "cell_type": "code",
      "source": [
        "sample_sentence = \"This was an absolutely terrible movie. Don't be lured in by Christopher Walken or Michael Ironside.\"\n",
        "\n",
        "sample_tokens = bert_tokenizer.encode(sample_sentence)\n",
        "sample_decode = bert_tokenizer.decode(sample_tokens)\n",
        "\n",
        "print(f'Sample encoding (tokenizing):\\n{sample_tokens}\\n')\n",
        "print(f'Sample decoding : \\n{sample_decode}')"
      ],
      "metadata": {
        "colab": {
          "base_uri": "https://localhost:8080/"
        },
        "id": "uH-KIZbf7bIz",
        "outputId": "63967eea-a14d-42ae-b8ab-526262fc0182"
      },
      "execution_count": 48,
      "outputs": [
        {
          "output_type": "stream",
          "name": "stdout",
          "text": [
            "Sample encoding (tokenizing):\n",
            "[101, 1188, 1108, 1126, 7284, 6434, 2523, 119, 1790, 112, 189, 1129, 19615, 1181, 1107, 1118, 4978, 10065, 1424, 1137, 1847, 5621, 5570, 119, 102]\n",
            "\n",
            "Sample decoding : \n",
            "[CLS] This was an absolutely terrible movie. Don't be lured in by Christopher Walken or Michael Ironside. [SEP]\n"
          ]
        }
      ]
    },
    {
      "cell_type": "code",
      "source": [
        "bert_tokenizer = BertTokenizer.from_pretrained(bert_name,\n",
        "                                               do_lower_case=False,\n",
        "                                               add_special_tokens=True,\n",
        "                                               max_length=150,\n",
        "                                               padding=True,\n",
        "                                               truncation=True)"
      ],
      "metadata": {
        "id": "qtwggFX1LjaC"
      },
      "execution_count": 49,
      "outputs": []
    },
    {
      "cell_type": "markdown",
      "source": [
        "> Create function to tokenize using the bert tokenizer"
      ],
      "metadata": {
        "id": "C4oSbmnYRp9I"
      }
    },
    {
      "cell_type": "code",
      "source": [
        "# .encode and .encode_plus : .encode_plus give additional informtaion as output such as return_attention_mask, return_token_type_ids etc\n",
        "\n",
        "def bert_encoder(text):\n",
        "\n",
        "  encoded = bert_tokenizer.encode_plus(text = text, \n",
        "                                       add_special_tokens=True,\n",
        "                                       max_length=150,\n",
        "                                       pad_to_max_length=True,\n",
        "                                       return_attention_mask=True,\n",
        "                                       return_token_type_ids=True,\n",
        "                                       truncation=True)\n",
        "  input_ids = encoded['input_ids']\n",
        "  token_type_id = encoded['token_type_ids']\n",
        "  attention_mask = encoded['attention_mask']\n",
        "\n",
        "  return (input_ids,token_type_id,attention_mask)"
      ],
      "metadata": {
        "id": "0JQYSAjdMZgd"
      },
      "execution_count": 50,
      "outputs": []
    },
    {
      "cell_type": "markdown",
      "source": [
        "> Encode the Train Data"
      ],
      "metadata": {
        "id": "neGnq3Uub1hj"
      }
    },
    {
      "cell_type": "code",
      "source": [
        "bert_train = [bert_encoder(x) for x in train_data]\n",
        "\n",
        "bert_train = np.array(bert_train)\n",
        "bert_train.shape"
      ],
      "metadata": {
        "colab": {
          "base_uri": "https://localhost:8080/"
        },
        "id": "uQTexreKFY5D",
        "outputId": "4ce0f792-f5f5-41c3-ac5b-adfe018b869d"
      },
      "execution_count": 51,
      "outputs": [
        {
          "output_type": "execute_result",
          "data": {
            "text/plain": [
              "(25000, 3, 150)"
            ]
          },
          "metadata": {},
          "execution_count": 51
        }
      ]
    },
    {
      "cell_type": "markdown",
      "source": [
        "> Encode the Test Data"
      ],
      "metadata": {
        "id": "0TzcSRtTb6Cd"
      }
    },
    {
      "cell_type": "code",
      "source": [
        "bert_test = [bert_encoder(x) for x in test_data]\n",
        "\n",
        "bert_test = np.array(bert_test)\n",
        "bert_test.shape"
      ],
      "metadata": {
        "colab": {
          "base_uri": "https://localhost:8080/"
        },
        "id": "39SR5aBMT6c9",
        "outputId": "4a0a4d14-3f01-43fa-bdb7-9463bca100fb"
      },
      "execution_count": 52,
      "outputs": [
        {
          "output_type": "execute_result",
          "data": {
            "text/plain": [
              "(25000, 3, 150)"
            ]
          },
          "metadata": {},
          "execution_count": 52
        }
      ]
    },
    {
      "cell_type": "code",
      "source": [
        "train_reviews, train_segments, train_masks = np.split(bert_train, 3, axis = 1)\n",
        "test_reviews, test_segments, test_masks = np.split(bert_test, 3, axis = 1)\n",
        "\n",
        "train_reviews.shape, train_segments.shape, train_masks.shape"
      ],
      "metadata": {
        "colab": {
          "base_uri": "https://localhost:8080/"
        },
        "id": "ZIZKeryVdV7V",
        "outputId": "21876c1b-7b3d-478b-a12b-9bdab3fdf553"
      },
      "execution_count": 53,
      "outputs": [
        {
          "output_type": "execute_result",
          "data": {
            "text/plain": [
              "((25000, 1, 150), (25000, 1, 150), (25000, 1, 150))"
            ]
          },
          "metadata": {},
          "execution_count": 53
        }
      ]
    },
    {
      "cell_type": "code",
      "source": [
        "train_reviews = np.squeeze(train_reviews)\n",
        "train_segments = np.squeeze(train_segments)\n",
        "train_masks = np.squeeze(train_masks)\n",
        "\n",
        "test_reviews = np.squeeze(test_reviews)\n",
        "test_segments = np.squeeze(test_segments)\n",
        "test_masks = np.squeeze(test_masks)\n",
        "\n",
        "train_reviews.shape, train_segments.shape, train_masks.shape"
      ],
      "metadata": {
        "colab": {
          "base_uri": "https://localhost:8080/"
        },
        "id": "Ka1ZKVYTdV5R",
        "outputId": "0d0592cf-fe13-4181-af8d-b8e6f99c32ba"
      },
      "execution_count": 54,
      "outputs": [
        {
          "output_type": "execute_result",
          "data": {
            "text/plain": [
              "((25000, 150), (25000, 150), (25000, 150))"
            ]
          },
          "metadata": {},
          "execution_count": 54
        }
      ]
    },
    {
      "cell_type": "markdown",
      "source": [
        "> Convert the labels into categorical"
      ],
      "metadata": {
        "id": "8gxVkrSBoAKj"
      }
    },
    {
      "cell_type": "code",
      "source": [
        "train_label_categorical = tf.keras.utils.to_categorical(train_label, num_classes = 2)\n",
        "test_label_categorical = tf.keras.utils.to_categorical(test_label, num_classes = 2)\n",
        "\n",
        "train_label_categorical.shape, test_label_categorical.shape"
      ],
      "metadata": {
        "colab": {
          "base_uri": "https://localhost:8080/"
        },
        "id": "yF1g9tdWoAl0",
        "outputId": "f4b94fe4-c820-45b6-e016-93edc0c3b601"
      },
      "execution_count": 55,
      "outputs": [
        {
          "output_type": "execute_result",
          "data": {
            "text/plain": [
              "((25000, 2), (25000, 2))"
            ]
          },
          "metadata": {},
          "execution_count": 55
        }
      ]
    },
    {
      "cell_type": "markdown",
      "source": [
        "> Create a function to take data and map into features"
      ],
      "metadata": {
        "id": "bIHD_ZEnjx6o"
      }
    },
    {
      "cell_type": "code",
      "source": [
        "def example_to_features(input_ids, attention_masks,token_type_ids,label):\n",
        "  data_features = {'input_ids':input_ids,\n",
        "                   'attention_mask':attention_masks,\n",
        "                   'token_type_ids':token_type_ids}\n",
        "  features_and_label = (data_features,label)\n",
        "  return features_and_label"
      ],
      "metadata": {
        "id": "REjRg6UpkaWp"
      },
      "execution_count": 56,
      "outputs": []
    },
    {
      "cell_type": "markdown",
      "source": [
        "# Create a data pipeline"
      ],
      "metadata": {
        "id": "i5ZTTUZAfRSy"
      }
    },
    {
      "cell_type": "code",
      "source": [
        "train_items = (train_reviews,train_masks,train_segments,train_label_categorical)\n",
        "test_items = (test_reviews,test_masks,test_segments,test_label_categorical)\n",
        "\n",
        "train_ds_bert = tf.data.Dataset.from_tensor_slices(train_items).map(example_to_features)\n",
        "test_ds_bert = tf.data.Dataset.from_tensor_slices(test_items).map(example_to_features)\n",
        "\n",
        "print(train_ds_bert,'\\n')\n",
        "print(test_ds_bert)"
      ],
      "metadata": {
        "colab": {
          "base_uri": "https://localhost:8080/"
        },
        "id": "pGe5uwh07bGH",
        "outputId": "16e43240-a318-4282-b551-af7d1c257763"
      },
      "execution_count": 57,
      "outputs": [
        {
          "output_type": "stream",
          "name": "stdout",
          "text": [
            "<_MapDataset element_spec=({'input_ids': TensorSpec(shape=(150,), dtype=tf.int64, name=None), 'attention_mask': TensorSpec(shape=(150,), dtype=tf.int64, name=None), 'token_type_ids': TensorSpec(shape=(150,), dtype=tf.int64, name=None)}, TensorSpec(shape=(2,), dtype=tf.float32, name=None))> \n",
            "\n",
            "<_MapDataset element_spec=({'input_ids': TensorSpec(shape=(150,), dtype=tf.int64, name=None), 'attention_mask': TensorSpec(shape=(150,), dtype=tf.int64, name=None), 'token_type_ids': TensorSpec(shape=(150,), dtype=tf.int64, name=None)}, TensorSpec(shape=(2,), dtype=tf.float32, name=None))>\n"
          ]
        }
      ]
    },
    {
      "cell_type": "code",
      "source": [
        "BATCH_SIZE = 16 # reducing the batch because of the graph execution error\n",
        "\n",
        "train_ds_bert = train_ds_bert.shuffle(100).batch(BATCH_SIZE).prefetch(tf.data.AUTOTUNE)\n",
        "test_ds_bert = test_ds_bert.batch(BATCH_SIZE).prefetch(tf.data.AUTOTUNE)\n",
        "\n",
        "print(train_ds_bert,'\\n')\n",
        "print(test_ds_bert)"
      ],
      "metadata": {
        "colab": {
          "base_uri": "https://localhost:8080/"
        },
        "id": "AXL7D4hEm1pN",
        "outputId": "3b96bbeb-dbca-42cc-8f7b-39d2dcad2b82"
      },
      "execution_count": 58,
      "outputs": [
        {
          "output_type": "stream",
          "name": "stdout",
          "text": [
            "<_PrefetchDataset element_spec=({'input_ids': TensorSpec(shape=(None, 150), dtype=tf.int64, name=None), 'attention_mask': TensorSpec(shape=(None, 150), dtype=tf.int64, name=None), 'token_type_ids': TensorSpec(shape=(None, 150), dtype=tf.int64, name=None)}, TensorSpec(shape=(None, 2), dtype=tf.float32, name=None))> \n",
            "\n",
            "<_PrefetchDataset element_spec=({'input_ids': TensorSpec(shape=(None, 150), dtype=tf.int64, name=None), 'attention_mask': TensorSpec(shape=(None, 150), dtype=tf.int64, name=None), 'token_type_ids': TensorSpec(shape=(None, 150), dtype=tf.int64, name=None)}, TensorSpec(shape=(None, 2), dtype=tf.float32, name=None))>\n"
          ]
        }
      ]
    },
    {
      "cell_type": "code",
      "source": [
        "train_ds_bert.element_spec"
      ],
      "metadata": {
        "colab": {
          "base_uri": "https://localhost:8080/"
        },
        "id": "QlYL92RonVvY",
        "outputId": "4806e333-a030-423b-faa2-f687601dc5d4"
      },
      "execution_count": 59,
      "outputs": [
        {
          "output_type": "execute_result",
          "data": {
            "text/plain": [
              "({'input_ids': TensorSpec(shape=(None, 150), dtype=tf.int64, name=None),\n",
              "  'attention_mask': TensorSpec(shape=(None, 150), dtype=tf.int64, name=None),\n",
              "  'token_type_ids': TensorSpec(shape=(None, 150), dtype=tf.int64, name=None)},\n",
              " TensorSpec(shape=(None, 2), dtype=tf.float32, name=None))"
            ]
          },
          "metadata": {},
          "execution_count": 59
        }
      ]
    },
    {
      "cell_type": "markdown",
      "metadata": {
        "id": "oSK_n0MM8xQI"
      },
      "source": [
        "## Pre-Built BERT Model for Classification"
      ]
    },
    {
      "cell_type": "markdown",
      "source": [
        "# Model 3:\n",
        "\n",
        "> TF Bert Model for Sequence Classification"
      ],
      "metadata": {
        "id": "8v73uqqIgU4N"
      }
    },
    {
      "cell_type": "code",
      "source": [
        "from transformers import TFBertForSequenceClassification"
      ],
      "metadata": {
        "id": "SHPfgsiphg-g"
      },
      "execution_count": 60,
      "outputs": []
    },
    {
      "cell_type": "code",
      "source": [
        "bert_name = 'bert-base-cased'\n",
        "\n",
        "model_3 = TFBertForSequenceClassification.from_pretrained(bert_name)"
      ],
      "metadata": {
        "colab": {
          "base_uri": "https://localhost:8080/",
          "height": 118,
          "referenced_widgets": [
            "7b658b2d976f43fa95daa615e74433df",
            "2ae0707366c54f3ba0b4beeeac904336",
            "bcf4f40227144d0c902226cd00855503",
            "35c104a0529d49fcb6e43119b70dfa6c",
            "f66924bb4e6140779950dfa65fdcef28",
            "30a5efd78f4140dc95abadec9b9eacaa",
            "27890e6ae816442ba7f7053565ddccc7",
            "3528a766360743168272a1328bdecdc8",
            "66656d7bd90f4b719c15933c6bea8539",
            "37ec83a2d223484980c22f8a2a4389cb",
            "bc81b4e3d3ba46fd83abdd22fb26bff1"
          ]
        },
        "id": "BuBEs2j9gcMJ",
        "outputId": "a489fcc4-23bf-4275-cec2-541fb6ec6738"
      },
      "execution_count": 61,
      "outputs": [
        {
          "output_type": "display_data",
          "data": {
            "text/plain": [
              "Downloading tf_model.h5:   0%|          | 0.00/527M [00:00<?, ?B/s]"
            ],
            "application/vnd.jupyter.widget-view+json": {
              "version_major": 2,
              "version_minor": 0,
              "model_id": "7b658b2d976f43fa95daa615e74433df"
            }
          },
          "metadata": {}
        },
        {
          "output_type": "stream",
          "name": "stderr",
          "text": [
            "All model checkpoint layers were used when initializing TFBertForSequenceClassification.\n",
            "\n",
            "Some layers of TFBertForSequenceClassification were not initialized from the model checkpoint at bert-base-cased and are newly initialized: ['classifier']\n",
            "You should probably TRAIN this model on a down-stream task to be able to use it for predictions and inference.\n"
          ]
        }
      ]
    },
    {
      "cell_type": "code",
      "source": [
        "model_3.compile(loss = tf.keras.losses.BinaryCrossentropy(from_logits = True),\n",
        "                   optimizer = tf.keras.optimizers.Adam(learning_rate = 2e-5), # check bert documentation\n",
        "                   metrics = ['accuracy'])"
      ],
      "metadata": {
        "id": "dDs-44C2gcHM"
      },
      "execution_count": 62,
      "outputs": []
    },
    {
      "cell_type": "code",
      "source": [
        "model_3._name = 'model_3'"
      ],
      "metadata": {
        "id": "PMQsBMx-jWme"
      },
      "execution_count": 63,
      "outputs": []
    },
    {
      "cell_type": "code",
      "source": [
        "model_3.summary()"
      ],
      "metadata": {
        "colab": {
          "base_uri": "https://localhost:8080/"
        },
        "id": "yeLLmldfjJxe",
        "outputId": "8a6a2f49-a3bb-423a-c207-d77831c32bdb"
      },
      "execution_count": 64,
      "outputs": [
        {
          "output_type": "stream",
          "name": "stdout",
          "text": [
            "Model: \"model_3\"\n",
            "_________________________________________________________________\n",
            " Layer (type)                Output Shape              Param #   \n",
            "=================================================================\n",
            " bert (TFBertMainLayer)      multiple                  108310272 \n",
            "                                                                 \n",
            " dropout_37 (Dropout)        multiple                  0         \n",
            "                                                                 \n",
            " classifier (Dense)          multiple                  1538      \n",
            "                                                                 \n",
            "=================================================================\n",
            "Total params: 108,311,810\n",
            "Trainable params: 108,311,810\n",
            "Non-trainable params: 0\n",
            "_________________________________________________________________\n"
          ]
        }
      ]
    },
    {
      "cell_type": "code",
      "source": [
        "history_3 = model_3.fit(train_ds_bert,\n",
        "                        epochs = 2, # bert sugget 2-4 numebrs of epochs\n",
        "                        steps_per_epoch = len(train_ds_bert)) "
      ],
      "metadata": {
        "colab": {
          "base_uri": "https://localhost:8080/"
        },
        "id": "3vbhxHoxgcEq",
        "outputId": "8af23303-9b7d-4222-ad6d-ba0fabb52f0a"
      },
      "execution_count": 65,
      "outputs": [
        {
          "output_type": "stream",
          "name": "stdout",
          "text": [
            "Epoch 1/2\n",
            "1563/1563 [==============================] - 831s 499ms/step - loss: 0.3485 - accuracy: 0.8444\n",
            "Epoch 2/2\n",
            "1563/1563 [==============================] - 773s 495ms/step - loss: 0.1978 - accuracy: 0.9248\n"
          ]
        }
      ]
    },
    {
      "cell_type": "code",
      "source": [
        "model_3.evaluate(test_ds_bert)"
      ],
      "metadata": {
        "id": "pBUzQ23RHSj_",
        "colab": {
          "base_uri": "https://localhost:8080/"
        },
        "outputId": "16606420-94b4-45b3-fe9c-f8e2c80e5c5e"
      },
      "execution_count": 66,
      "outputs": [
        {
          "output_type": "stream",
          "name": "stdout",
          "text": [
            "1563/1563 [==============================] - 279s 177ms/step - loss: 0.3069 - accuracy: 0.8822\n"
          ]
        },
        {
          "output_type": "execute_result",
          "data": {
            "text/plain": [
              "[0.306877076625824, 0.8822399973869324]"
            ]
          },
          "metadata": {},
          "execution_count": 66
        }
      ]
    },
    {
      "cell_type": "markdown",
      "metadata": {
        "id": "R90GAEex8xQK"
      },
      "source": [
        "# Model 4 :\n",
        "## Custom Model With BERT"
      ]
    },
    {
      "cell_type": "code",
      "source": [
        "from transformers import TFBertModel"
      ],
      "metadata": {
        "id": "vGJKozcYPdvV"
      },
      "execution_count": 67,
      "outputs": []
    },
    {
      "cell_type": "code",
      "source": [
        "bert_name = 'bert-base-cased'\n",
        "bert_model = TFBertModel.from_pretrained(bert_name)"
      ],
      "metadata": {
        "colab": {
          "base_uri": "https://localhost:8080/"
        },
        "id": "ifSZWvhwPrNx",
        "outputId": "5c307ff1-2582-4b42-d5ba-8abf10b3480f"
      },
      "execution_count": 83,
      "outputs": [
        {
          "output_type": "stream",
          "name": "stderr",
          "text": [
            "Some layers from the model checkpoint at bert-base-cased were not used when initializing TFBertModel: ['nsp___cls', 'mlm___cls']\n",
            "- This IS expected if you are initializing TFBertModel from the checkpoint of a model trained on another task or with another architecture (e.g. initializing a BertForSequenceClassification model from a BertForPreTraining model).\n",
            "- This IS NOT expected if you are initializing TFBertModel from the checkpoint of a model that you expect to be exactly identical (initializing a BertForSequenceClassification model from a BertForSequenceClassification model).\n",
            "All the layers of TFBertModel were initialized from the model checkpoint at bert-base-cased.\n",
            "If your task is similar to the task the model of the checkpoint was trained on, you can already use TFBertModel for predictions without further training.\n"
          ]
        }
      ]
    },
    {
      "cell_type": "code",
      "execution_count": 84,
      "metadata": {
        "id": "STpZY1dq8xQK",
        "colab": {
          "base_uri": "https://localhost:8080/"
        },
        "outputId": "d69a77cc-685d-4535-8af1-a2836ddd5477"
      },
      "outputs": [
        {
          "output_type": "stream",
          "name": "stdout",
          "text": [
            "Model: \"tf_bert_model_1\"\n",
            "_________________________________________________________________\n",
            " Layer (type)                Output Shape              Param #   \n",
            "=================================================================\n",
            " bert (TFBertMainLayer)      multiple                  108310272 \n",
            "                                                                 \n",
            "=================================================================\n",
            "Total params: 108,310,272\n",
            "Trainable params: 108,310,272\n",
            "Non-trainable params: 0\n",
            "_________________________________________________________________\n"
          ]
        }
      ],
      "source": [
        "bert_model.summary()"
      ]
    },
    {
      "cell_type": "markdown",
      "source": [
        "> Define Input layers"
      ],
      "metadata": {
        "id": "3jPBz0XlXieU"
      }
    },
    {
      "cell_type": "code",
      "source": [
        "from tensorflow.keras import layers"
      ],
      "metadata": {
        "id": "NLrTCnBASTz_"
      },
      "execution_count": 85,
      "outputs": []
    },
    {
      "cell_type": "code",
      "source": [
        "max_seq_len = 150\n",
        "\n",
        "input_input_ids = layers.Input(shape = (max_seq_len,), dtype = tf.int64, name = 'input_ids')\n",
        "input_attention_mask = layers.Input(shape = (max_seq_len,), dtype = tf.int64, name = 'attention_mask')\n",
        "input_token_type_ids = layers.Input(shape = (max_seq_len,), dtype = tf.int64, name = 'token_type_ids')"
      ],
      "metadata": {
        "id": "qXydkHS0XmOW"
      },
      "execution_count": 86,
      "outputs": []
    },
    {
      "cell_type": "code",
      "source": [
        "inputs_dict = {'input_ids' :input_input_ids,\n",
        "               'attention_mask':input_attention_mask,\n",
        "               'token_type_ids':input_token_type_ids}"
      ],
      "metadata": {
        "id": "lE0S-g_RXr1B"
      },
      "execution_count": 87,
      "outputs": []
    },
    {
      "cell_type": "markdown",
      "source": [
        "> Define Bert layer"
      ],
      "metadata": {
        "id": "bItgr9uJXpP6"
      }
    },
    {
      "cell_type": "code",
      "source": [
        "bert_model.trainable = False\n",
        "bert_layer = bert_model(inputs_dict)"
      ],
      "metadata": {
        "id": "6C65KP4VXrPK"
      },
      "execution_count": 88,
      "outputs": []
    },
    {
      "cell_type": "code",
      "source": [
        "print(bert_layer[0])\n",
        "print(bert_layer[1])"
      ],
      "metadata": {
        "colab": {
          "base_uri": "https://localhost:8080/"
        },
        "id": "xek4G_dyXxuh",
        "outputId": "91dbd22f-514c-4085-9787-f0dc65b62857"
      },
      "execution_count": 89,
      "outputs": [
        {
          "output_type": "stream",
          "name": "stdout",
          "text": [
            "KerasTensor(type_spec=TensorSpec(shape=(None, 150, 768), dtype=tf.float32, name=None), name='tf_bert_model_1/bert/encoder/layer_._11/output/LayerNorm/batchnorm/add_1:0', description=\"created by layer 'tf_bert_model_1'\")\n",
            "KerasTensor(type_spec=TensorSpec(shape=(None, 768), dtype=tf.float32, name=None), name='tf_bert_model_1/bert/pooler/dense/Tanh:0', description=\"created by layer 'tf_bert_model_1'\")\n"
          ]
        }
      ]
    },
    {
      "cell_type": "markdown",
      "source": [
        "> Define the remaining layers and the output layer of the model"
      ],
      "metadata": {
        "id": "1CAZuqWuRwjE"
      }
    },
    {
      "cell_type": "code",
      "source": [
        "x = layers.Dropout(rate = 0.2)(bert_layer[1])\n",
        "x = layers.Dense(units = 200, activation = 'relu')(x)\n",
        "x = layers.Dropout(rate = 0.2)(x)\n",
        "outputs = layers.Dense(units = 2, activation = 'softmax')(x)"
      ],
      "metadata": {
        "id": "Tj9Zck6jX47D"
      },
      "execution_count": 90,
      "outputs": []
    },
    {
      "cell_type": "markdown",
      "source": [
        "> Create model structure"
      ],
      "metadata": {
        "id": "NaZrmKifX9jZ"
      }
    },
    {
      "cell_type": "code",
      "source": [
        "model_4 = tf.keras.Model(inputs = inputs_dict,\n",
        "                         outputs = outputs,\n",
        "                         name = 'model_4')\n",
        "\n",
        "model_4.compile(loss = tf.keras.losses.binary_crossentropy,  #from_logits=True\n",
        "                optimizer = tf.keras.optimizers.Adam(),\n",
        "                metrics = ['accuracy']) # with standard learning rate\n",
        "\n",
        "model_4.summary()"
      ],
      "metadata": {
        "colab": {
          "base_uri": "https://localhost:8080/"
        },
        "id": "xDrpoql5R9sc",
        "outputId": "912ecf7d-42a8-4c34-c123-8344f09dda76"
      },
      "execution_count": 91,
      "outputs": [
        {
          "output_type": "stream",
          "name": "stdout",
          "text": [
            "Model: \"model_4\"\n",
            "__________________________________________________________________________________________________\n",
            " Layer (type)                   Output Shape         Param #     Connected to                     \n",
            "==================================================================================================\n",
            " attention_mask (InputLayer)    [(None, 150)]        0           []                               \n",
            "                                                                                                  \n",
            " input_ids (InputLayer)         [(None, 150)]        0           []                               \n",
            "                                                                                                  \n",
            " token_type_ids (InputLayer)    [(None, 150)]        0           []                               \n",
            "                                                                                                  \n",
            " tf_bert_model_1 (TFBertModel)  TFBaseModelOutputWi  108310272   ['attention_mask[0][0]',         \n",
            "                                thPoolingAndCrossAt               'input_ids[0][0]',              \n",
            "                                tentions(last_hidde               'token_type_ids[0][0]']         \n",
            "                                n_state=(None, 150,                                               \n",
            "                                 768),                                                            \n",
            "                                 pooler_output=(Non                                               \n",
            "                                e, 768),                                                          \n",
            "                                 past_key_values=No                                               \n",
            "                                ne, hidden_states=N                                               \n",
            "                                one, attentions=Non                                               \n",
            "                                e, cross_attentions                                               \n",
            "                                =None)                                                            \n",
            "                                                                                                  \n",
            " dropout_116 (Dropout)          (None, 768)          0           ['tf_bert_model_1[0][1]']        \n",
            "                                                                                                  \n",
            " dense_4 (Dense)                (None, 200)          153800      ['dropout_116[0][0]']            \n",
            "                                                                                                  \n",
            " dropout_117 (Dropout)          (None, 200)          0           ['dense_4[0][0]']                \n",
            "                                                                                                  \n",
            " dense_5 (Dense)                (None, 2)            402         ['dropout_117[0][0]']            \n",
            "                                                                                                  \n",
            "==================================================================================================\n",
            "Total params: 108,464,474\n",
            "Trainable params: 154,202\n",
            "Non-trainable params: 108,310,272\n",
            "__________________________________________________________________________________________________\n"
          ]
        }
      ]
    },
    {
      "cell_type": "markdown",
      "source": [
        "> Fit the model"
      ],
      "metadata": {
        "id": "ZhDCIytJYi38"
      }
    },
    {
      "cell_type": "code",
      "source": [
        "history_4 = model_4.fit(train_ds_bert, \n",
        "                        epochs=10,\n",
        "                        steps_per_epoch = len(train_ds_bert))"
      ],
      "metadata": {
        "colab": {
          "base_uri": "https://localhost:8080/"
        },
        "id": "TJMyz7VEYmXc",
        "outputId": "9f9cff33-a192-4fa4-a61e-fab33c0b03ef"
      },
      "execution_count": 92,
      "outputs": [
        {
          "output_type": "stream",
          "name": "stdout",
          "text": [
            "Epoch 1/10\n",
            "1563/1563 [==============================] - 306s 187ms/step - loss: 0.6897 - accuracy: 0.5529\n",
            "Epoch 2/10\n",
            "1563/1563 [==============================] - 292s 187ms/step - loss: 0.6684 - accuracy: 0.5878\n",
            "Epoch 3/10\n",
            "1563/1563 [==============================] - 292s 187ms/step - loss: 0.6633 - accuracy: 0.5970\n",
            "Epoch 4/10\n",
            "1563/1563 [==============================] - 294s 188ms/step - loss: 0.6590 - accuracy: 0.6042\n",
            "Epoch 5/10\n",
            "1563/1563 [==============================] - 293s 187ms/step - loss: 0.6566 - accuracy: 0.6106\n",
            "Epoch 6/10\n",
            "1563/1563 [==============================] - 294s 188ms/step - loss: 0.6525 - accuracy: 0.6081\n",
            "Epoch 7/10\n",
            "1563/1563 [==============================] - 293s 188ms/step - loss: 0.6539 - accuracy: 0.6128\n",
            "Epoch 8/10\n",
            "1563/1563 [==============================] - 293s 187ms/step - loss: 0.6487 - accuracy: 0.6168\n",
            "Epoch 9/10\n",
            "1563/1563 [==============================] - 298s 191ms/step - loss: 0.6503 - accuracy: 0.6171\n",
            "Epoch 10/10\n",
            "1563/1563 [==============================] - 295s 189ms/step - loss: 0.6468 - accuracy: 0.6214\n"
          ]
        }
      ]
    },
    {
      "cell_type": "code",
      "source": [
        "model_4.evaluate(test_ds_bert)"
      ],
      "metadata": {
        "colab": {
          "base_uri": "https://localhost:8080/"
        },
        "id": "VlmRKbMqcov6",
        "outputId": "f50f979d-1848-40f6-fe1d-f43612fe1d72"
      },
      "execution_count": 93,
      "outputs": [
        {
          "output_type": "stream",
          "name": "stdout",
          "text": [
            "1563/1563 [==============================] - 278s 176ms/step - loss: 0.6222 - accuracy: 0.6542\n"
          ]
        },
        {
          "output_type": "execute_result",
          "data": {
            "text/plain": [
              "[0.6221843361854553, 0.6541600227355957]"
            ]
          },
          "metadata": {},
          "execution_count": 93
        }
      ]
    },
    {
      "cell_type": "markdown",
      "source": [
        "# Model 5\n",
        "\n",
        "### Fine Tuning the custom Model"
      ],
      "metadata": {
        "id": "WNyDbKiLcGHN"
      }
    },
    {
      "cell_type": "code",
      "execution_count": 95,
      "metadata": {
        "id": "brn5k1ND8xQM",
        "colab": {
          "base_uri": "https://localhost:8080/"
        },
        "outputId": "41f3af47-7520-4c83-c7d5-c159ac766ce3"
      },
      "outputs": [
        {
          "output_type": "stream",
          "name": "stderr",
          "text": [
            "Some layers from the model checkpoint at bert-base-cased were not used when initializing TFBertModel: ['nsp___cls', 'mlm___cls']\n",
            "- This IS expected if you are initializing TFBertModel from the checkpoint of a model trained on another task or with another architecture (e.g. initializing a BertForSequenceClassification model from a BertForPreTraining model).\n",
            "- This IS NOT expected if you are initializing TFBertModel from the checkpoint of a model that you expect to be exactly identical (initializing a BertForSequenceClassification model from a BertForSequenceClassification model).\n",
            "All the layers of TFBertModel were initialized from the model checkpoint at bert-base-cased.\n",
            "If your task is similar to the task the model of the checkpoint was trained on, you can already use TFBertModel for predictions without further training.\n"
          ]
        },
        {
          "output_type": "stream",
          "name": "stdout",
          "text": [
            "Model: \"model_5\"\n",
            "__________________________________________________________________________________________________\n",
            " Layer (type)                   Output Shape         Param #     Connected to                     \n",
            "==================================================================================================\n",
            " attention_mask (InputLayer)    [(None, 150)]        0           []                               \n",
            "                                                                                                  \n",
            " input_ids (InputLayer)         [(None, 150)]        0           []                               \n",
            "                                                                                                  \n",
            " token_type_ids (InputLayer)    [(None, 150)]        0           []                               \n",
            "                                                                                                  \n",
            " tf_bert_model_3 (TFBertModel)  TFBaseModelOutputWi  108310272   ['attention_mask[0][0]',         \n",
            "                                thPoolingAndCrossAt               'input_ids[0][0]',              \n",
            "                                tentions(last_hidde               'token_type_ids[0][0]']         \n",
            "                                n_state=(None, 150,                                               \n",
            "                                 768),                                                            \n",
            "                                 pooler_output=(Non                                               \n",
            "                                e, 768),                                                          \n",
            "                                 past_key_values=No                                               \n",
            "                                ne, hidden_states=N                                               \n",
            "                                one, attentions=Non                                               \n",
            "                                e, cross_attentions                                               \n",
            "                                =None)                                                            \n",
            "                                                                                                  \n",
            " dropout_194 (Dropout)          (None, 768)          0           ['tf_bert_model_3[0][1]']        \n",
            "                                                                                                  \n",
            " dense_8 (Dense)                (None, 200)          153800      ['dropout_194[0][0]']            \n",
            "                                                                                                  \n",
            " dropout_195 (Dropout)          (None, 200)          0           ['dense_8[0][0]']                \n",
            "                                                                                                  \n",
            " dense_9 (Dense)                (None, 2)            402         ['dropout_195[0][0]']            \n",
            "                                                                                                  \n",
            "==================================================================================================\n",
            "Total params: 108,464,474\n",
            "Trainable params: 108,464,474\n",
            "Non-trainable params: 0\n",
            "__________________________________________________________________________________________________\n"
          ]
        }
      ],
      "source": [
        "bert_name = 'bert-base-cased'\n",
        "bert_model = TFBertModel.from_pretrained(bert_name)\n",
        "bert_model.trainable = True # Fine tuning the bert model\n",
        "\n",
        "\n",
        "input_input_ids = layers.Input(shape = (max_seq_len,), dtype = tf.int64, name = 'input_ids')\n",
        "input_attention_mask = layers.Input(shape = (max_seq_len,), dtype = tf.int64, name = 'attention_mask')\n",
        "input_token_type_ids = layers.Input(shape = (max_seq_len,), dtype = tf.int64, name = 'token_type_ids')\n",
        "\n",
        "inputs_dict = {'input_ids' :input_input_ids,\n",
        "               'attention_mask':input_attention_mask,\n",
        "               'token_type_ids':input_token_type_ids}\n",
        "\n",
        "bert_layer = bert_model(inputs_dict)\n",
        "\n",
        "x = layers.Dropout(rate = 0.2)(bert_layer[1])\n",
        "x = layers.Dense(units = 200, activation = 'relu')(x)\n",
        "x = layers.Dropout(rate = 0.2)(x)\n",
        "outputs = layers.Dense(units = 2, activation = 'softmax')(x)\n",
        "\n",
        "model_5 = tf.keras.Model(inputs = inputs_dict,\n",
        "                         outputs = outputs,\n",
        "                         name = 'model_5')\n",
        "\n",
        "model_5.compile(loss = tf.keras.losses.binary_crossentropy,\n",
        "                optimizer = tf.keras.optimizers.Adam(),\n",
        "                metrics = ['accuracy']) # with standard learning rate\n",
        "\n",
        "model_5.summary()"
      ]
    },
    {
      "cell_type": "markdown",
      "source": [
        "> Fit the model"
      ],
      "metadata": {
        "id": "Uxpb7hRzdoIf"
      }
    },
    {
      "cell_type": "code",
      "source": [
        "history_5 = model_5.fit(train_ds_bert, \n",
        "                        epochs=2, # training the bert layer, hence 2 epochs\n",
        "                        steps_per_epoch = len(train_ds_bert))"
      ],
      "metadata": {
        "colab": {
          "base_uri": "https://localhost:8080/"
        },
        "id": "8gHvoDRRc6Fb",
        "outputId": "b5bcf6ec-dfb0-4a70-cb8a-69f94427628e"
      },
      "execution_count": null,
      "outputs": [
        {
          "output_type": "stream",
          "name": "stdout",
          "text": [
            "Epoch 1/2\n",
            "1563/1563 [==============================] - 777s 468ms/step - loss: 0.7001 - accuracy: 0.4952\n",
            "Epoch 2/2\n",
            "  31/1563 [..............................] - ETA: 11:46 - loss: 0.6932 - accuracy: 0.5081"
          ]
        }
      ]
    },
    {
      "cell_type": "markdown",
      "source": [
        "> Evaluate the model"
      ],
      "metadata": {
        "id": "hNydn7VBdqTt"
      }
    },
    {
      "cell_type": "code",
      "source": [
        "model_5.evaluate(test_ds_bert)"
      ],
      "metadata": {
        "id": "LSO63pqjc5Py"
      },
      "execution_count": null,
      "outputs": []
    },
    {
      "cell_type": "markdown",
      "source": [
        "_End of the Notebook"
      ],
      "metadata": {
        "id": "TrtGDOhrdOUM"
      }
    }
  ],
  "metadata": {
    "colab": {
      "provenance": [],
      "gpuType": "T4",
      "include_colab_link": true
    },
    "gpuClass": "standard",
    "kernelspec": {
      "display_name": "Python 3",
      "name": "python3"
    },
    "language_info": {
      "name": "python"
    },
    "toc": {
      "base_numbering": 1,
      "nav_menu": {},
      "number_sections": true,
      "sideBar": true,
      "skip_h1_title": false,
      "title_cell": "Table of Contents",
      "title_sidebar": "Contents",
      "toc_cell": false,
      "toc_position": {},
      "toc_section_display": true,
      "toc_window_display": true
    },
    "varInspector": {
      "cols": {
        "lenName": 16,
        "lenType": 16,
        "lenVar": 40
      },
      "kernels_config": {
        "python": {
          "delete_cmd_postfix": "",
          "delete_cmd_prefix": "del ",
          "library": "var_list.py",
          "varRefreshCmd": "print(var_dic_list())"
        },
        "r": {
          "delete_cmd_postfix": ") ",
          "delete_cmd_prefix": "rm(",
          "library": "var_list.r",
          "varRefreshCmd": "cat(var_dic_list()) "
        }
      },
      "position": {
        "height": "348px",
        "left": "799px",
        "right": "20px",
        "top": "120px",
        "width": "358px"
      },
      "types_to_exclude": [
        "module",
        "function",
        "builtin_function_or_method",
        "instance",
        "_Feature"
      ],
      "window_display": false
    },
    "widgets": {
      "application/vnd.jupyter.widget-state+json": {
        "b764f9fbb78c40d7ad910304eba5cf2f": {
          "model_module": "@jupyter-widgets/controls",
          "model_name": "HBoxModel",
          "model_module_version": "1.5.0",
          "state": {
            "_dom_classes": [],
            "_model_module": "@jupyter-widgets/controls",
            "_model_module_version": "1.5.0",
            "_model_name": "HBoxModel",
            "_view_count": null,
            "_view_module": "@jupyter-widgets/controls",
            "_view_module_version": "1.5.0",
            "_view_name": "HBoxView",
            "box_style": "",
            "children": [
              "IPY_MODEL_7d17e0b91a1744f7bbb5df28618fcab8",
              "IPY_MODEL_ef02e206a3e548cab6b9c184499e411f",
              "IPY_MODEL_a29bcfa8cfd34c769fa3f941d1715c06"
            ],
            "layout": "IPY_MODEL_f6697dc407dd4c3cb7d487e67e5ee6dd"
          }
        },
        "7d17e0b91a1744f7bbb5df28618fcab8": {
          "model_module": "@jupyter-widgets/controls",
          "model_name": "HTMLModel",
          "model_module_version": "1.5.0",
          "state": {
            "_dom_classes": [],
            "_model_module": "@jupyter-widgets/controls",
            "_model_module_version": "1.5.0",
            "_model_name": "HTMLModel",
            "_view_count": null,
            "_view_module": "@jupyter-widgets/controls",
            "_view_module_version": "1.5.0",
            "_view_name": "HTMLView",
            "description": "",
            "description_tooltip": null,
            "layout": "IPY_MODEL_e3a852e0e4474f15a579bf1abe2977ec",
            "placeholder": "​",
            "style": "IPY_MODEL_6edd3311abb546f9a66aeca0ccbf130d",
            "value": "Dl Completed...: 100%"
          }
        },
        "ef02e206a3e548cab6b9c184499e411f": {
          "model_module": "@jupyter-widgets/controls",
          "model_name": "FloatProgressModel",
          "model_module_version": "1.5.0",
          "state": {
            "_dom_classes": [],
            "_model_module": "@jupyter-widgets/controls",
            "_model_module_version": "1.5.0",
            "_model_name": "FloatProgressModel",
            "_view_count": null,
            "_view_module": "@jupyter-widgets/controls",
            "_view_module_version": "1.5.0",
            "_view_name": "ProgressView",
            "bar_style": "success",
            "description": "",
            "description_tooltip": null,
            "layout": "IPY_MODEL_fa77624fff404e5981c6ce99bc68a7ca",
            "max": 1,
            "min": 0,
            "orientation": "horizontal",
            "style": "IPY_MODEL_6f6debfa485d44d786b55d605e8618a1",
            "value": 1
          }
        },
        "a29bcfa8cfd34c769fa3f941d1715c06": {
          "model_module": "@jupyter-widgets/controls",
          "model_name": "HTMLModel",
          "model_module_version": "1.5.0",
          "state": {
            "_dom_classes": [],
            "_model_module": "@jupyter-widgets/controls",
            "_model_module_version": "1.5.0",
            "_model_name": "HTMLModel",
            "_view_count": null,
            "_view_module": "@jupyter-widgets/controls",
            "_view_module_version": "1.5.0",
            "_view_name": "HTMLView",
            "description": "",
            "description_tooltip": null,
            "layout": "IPY_MODEL_c42041862561484a91d84401c5ca49ce",
            "placeholder": "​",
            "style": "IPY_MODEL_e3183dcc6d91445eaf357e4abe71adad",
            "value": " 1/1 [00:02&lt;00:00,  2.71s/ url]"
          }
        },
        "f6697dc407dd4c3cb7d487e67e5ee6dd": {
          "model_module": "@jupyter-widgets/base",
          "model_name": "LayoutModel",
          "model_module_version": "1.2.0",
          "state": {
            "_model_module": "@jupyter-widgets/base",
            "_model_module_version": "1.2.0",
            "_model_name": "LayoutModel",
            "_view_count": null,
            "_view_module": "@jupyter-widgets/base",
            "_view_module_version": "1.2.0",
            "_view_name": "LayoutView",
            "align_content": null,
            "align_items": null,
            "align_self": null,
            "border": null,
            "bottom": null,
            "display": null,
            "flex": null,
            "flex_flow": null,
            "grid_area": null,
            "grid_auto_columns": null,
            "grid_auto_flow": null,
            "grid_auto_rows": null,
            "grid_column": null,
            "grid_gap": null,
            "grid_row": null,
            "grid_template_areas": null,
            "grid_template_columns": null,
            "grid_template_rows": null,
            "height": null,
            "justify_content": null,
            "justify_items": null,
            "left": null,
            "margin": null,
            "max_height": null,
            "max_width": null,
            "min_height": null,
            "min_width": null,
            "object_fit": null,
            "object_position": null,
            "order": null,
            "overflow": null,
            "overflow_x": null,
            "overflow_y": null,
            "padding": null,
            "right": null,
            "top": null,
            "visibility": null,
            "width": null
          }
        },
        "e3a852e0e4474f15a579bf1abe2977ec": {
          "model_module": "@jupyter-widgets/base",
          "model_name": "LayoutModel",
          "model_module_version": "1.2.0",
          "state": {
            "_model_module": "@jupyter-widgets/base",
            "_model_module_version": "1.2.0",
            "_model_name": "LayoutModel",
            "_view_count": null,
            "_view_module": "@jupyter-widgets/base",
            "_view_module_version": "1.2.0",
            "_view_name": "LayoutView",
            "align_content": null,
            "align_items": null,
            "align_self": null,
            "border": null,
            "bottom": null,
            "display": null,
            "flex": null,
            "flex_flow": null,
            "grid_area": null,
            "grid_auto_columns": null,
            "grid_auto_flow": null,
            "grid_auto_rows": null,
            "grid_column": null,
            "grid_gap": null,
            "grid_row": null,
            "grid_template_areas": null,
            "grid_template_columns": null,
            "grid_template_rows": null,
            "height": null,
            "justify_content": null,
            "justify_items": null,
            "left": null,
            "margin": null,
            "max_height": null,
            "max_width": null,
            "min_height": null,
            "min_width": null,
            "object_fit": null,
            "object_position": null,
            "order": null,
            "overflow": null,
            "overflow_x": null,
            "overflow_y": null,
            "padding": null,
            "right": null,
            "top": null,
            "visibility": null,
            "width": null
          }
        },
        "6edd3311abb546f9a66aeca0ccbf130d": {
          "model_module": "@jupyter-widgets/controls",
          "model_name": "DescriptionStyleModel",
          "model_module_version": "1.5.0",
          "state": {
            "_model_module": "@jupyter-widgets/controls",
            "_model_module_version": "1.5.0",
            "_model_name": "DescriptionStyleModel",
            "_view_count": null,
            "_view_module": "@jupyter-widgets/base",
            "_view_module_version": "1.2.0",
            "_view_name": "StyleView",
            "description_width": ""
          }
        },
        "fa77624fff404e5981c6ce99bc68a7ca": {
          "model_module": "@jupyter-widgets/base",
          "model_name": "LayoutModel",
          "model_module_version": "1.2.0",
          "state": {
            "_model_module": "@jupyter-widgets/base",
            "_model_module_version": "1.2.0",
            "_model_name": "LayoutModel",
            "_view_count": null,
            "_view_module": "@jupyter-widgets/base",
            "_view_module_version": "1.2.0",
            "_view_name": "LayoutView",
            "align_content": null,
            "align_items": null,
            "align_self": null,
            "border": null,
            "bottom": null,
            "display": null,
            "flex": null,
            "flex_flow": null,
            "grid_area": null,
            "grid_auto_columns": null,
            "grid_auto_flow": null,
            "grid_auto_rows": null,
            "grid_column": null,
            "grid_gap": null,
            "grid_row": null,
            "grid_template_areas": null,
            "grid_template_columns": null,
            "grid_template_rows": null,
            "height": null,
            "justify_content": null,
            "justify_items": null,
            "left": null,
            "margin": null,
            "max_height": null,
            "max_width": null,
            "min_height": null,
            "min_width": null,
            "object_fit": null,
            "object_position": null,
            "order": null,
            "overflow": null,
            "overflow_x": null,
            "overflow_y": null,
            "padding": null,
            "right": null,
            "top": null,
            "visibility": null,
            "width": "20px"
          }
        },
        "6f6debfa485d44d786b55d605e8618a1": {
          "model_module": "@jupyter-widgets/controls",
          "model_name": "ProgressStyleModel",
          "model_module_version": "1.5.0",
          "state": {
            "_model_module": "@jupyter-widgets/controls",
            "_model_module_version": "1.5.0",
            "_model_name": "ProgressStyleModel",
            "_view_count": null,
            "_view_module": "@jupyter-widgets/base",
            "_view_module_version": "1.2.0",
            "_view_name": "StyleView",
            "bar_color": null,
            "description_width": ""
          }
        },
        "c42041862561484a91d84401c5ca49ce": {
          "model_module": "@jupyter-widgets/base",
          "model_name": "LayoutModel",
          "model_module_version": "1.2.0",
          "state": {
            "_model_module": "@jupyter-widgets/base",
            "_model_module_version": "1.2.0",
            "_model_name": "LayoutModel",
            "_view_count": null,
            "_view_module": "@jupyter-widgets/base",
            "_view_module_version": "1.2.0",
            "_view_name": "LayoutView",
            "align_content": null,
            "align_items": null,
            "align_self": null,
            "border": null,
            "bottom": null,
            "display": null,
            "flex": null,
            "flex_flow": null,
            "grid_area": null,
            "grid_auto_columns": null,
            "grid_auto_flow": null,
            "grid_auto_rows": null,
            "grid_column": null,
            "grid_gap": null,
            "grid_row": null,
            "grid_template_areas": null,
            "grid_template_columns": null,
            "grid_template_rows": null,
            "height": null,
            "justify_content": null,
            "justify_items": null,
            "left": null,
            "margin": null,
            "max_height": null,
            "max_width": null,
            "min_height": null,
            "min_width": null,
            "object_fit": null,
            "object_position": null,
            "order": null,
            "overflow": null,
            "overflow_x": null,
            "overflow_y": null,
            "padding": null,
            "right": null,
            "top": null,
            "visibility": null,
            "width": null
          }
        },
        "e3183dcc6d91445eaf357e4abe71adad": {
          "model_module": "@jupyter-widgets/controls",
          "model_name": "DescriptionStyleModel",
          "model_module_version": "1.5.0",
          "state": {
            "_model_module": "@jupyter-widgets/controls",
            "_model_module_version": "1.5.0",
            "_model_name": "DescriptionStyleModel",
            "_view_count": null,
            "_view_module": "@jupyter-widgets/base",
            "_view_module_version": "1.2.0",
            "_view_name": "StyleView",
            "description_width": ""
          }
        },
        "b921ca19d1104f17a9167cf7756ff896": {
          "model_module": "@jupyter-widgets/controls",
          "model_name": "HBoxModel",
          "model_module_version": "1.5.0",
          "state": {
            "_dom_classes": [],
            "_model_module": "@jupyter-widgets/controls",
            "_model_module_version": "1.5.0",
            "_model_name": "HBoxModel",
            "_view_count": null,
            "_view_module": "@jupyter-widgets/controls",
            "_view_module_version": "1.5.0",
            "_view_name": "HBoxView",
            "box_style": "",
            "children": [
              "IPY_MODEL_4a86457542b64b0ba7b7796bc8cc6769",
              "IPY_MODEL_7571021280464355b8ec18654f0000f3",
              "IPY_MODEL_373fc3f5242f40078f64c9e98aa7421c"
            ],
            "layout": "IPY_MODEL_9e37dbfe82a74b5198668fcae544303e"
          }
        },
        "4a86457542b64b0ba7b7796bc8cc6769": {
          "model_module": "@jupyter-widgets/controls",
          "model_name": "HTMLModel",
          "model_module_version": "1.5.0",
          "state": {
            "_dom_classes": [],
            "_model_module": "@jupyter-widgets/controls",
            "_model_module_version": "1.5.0",
            "_model_name": "HTMLModel",
            "_view_count": null,
            "_view_module": "@jupyter-widgets/controls",
            "_view_module_version": "1.5.0",
            "_view_name": "HTMLView",
            "description": "",
            "description_tooltip": null,
            "layout": "IPY_MODEL_a1b997edf68e4f5ab0989902c4d273b9",
            "placeholder": "​",
            "style": "IPY_MODEL_7d3779c989194495b288b83948075b7d",
            "value": "Dl Size...: 100%"
          }
        },
        "7571021280464355b8ec18654f0000f3": {
          "model_module": "@jupyter-widgets/controls",
          "model_name": "FloatProgressModel",
          "model_module_version": "1.5.0",
          "state": {
            "_dom_classes": [],
            "_model_module": "@jupyter-widgets/controls",
            "_model_module_version": "1.5.0",
            "_model_name": "FloatProgressModel",
            "_view_count": null,
            "_view_module": "@jupyter-widgets/controls",
            "_view_module_version": "1.5.0",
            "_view_name": "ProgressView",
            "bar_style": "success",
            "description": "",
            "description_tooltip": null,
            "layout": "IPY_MODEL_9d4178dfbd2b4e48b33a52f2269a1556",
            "max": 1,
            "min": 0,
            "orientation": "horizontal",
            "style": "IPY_MODEL_5b09be4cdcaf45138874123bf474526f",
            "value": 1
          }
        },
        "373fc3f5242f40078f64c9e98aa7421c": {
          "model_module": "@jupyter-widgets/controls",
          "model_name": "HTMLModel",
          "model_module_version": "1.5.0",
          "state": {
            "_dom_classes": [],
            "_model_module": "@jupyter-widgets/controls",
            "_model_module_version": "1.5.0",
            "_model_name": "HTMLModel",
            "_view_count": null,
            "_view_module": "@jupyter-widgets/controls",
            "_view_module_version": "1.5.0",
            "_view_name": "HTMLView",
            "description": "",
            "description_tooltip": null,
            "layout": "IPY_MODEL_bdb6dac6b32b446193e8a77388cc7718",
            "placeholder": "​",
            "style": "IPY_MODEL_f0387efbb28748e3942aad1c7f0e7e33",
            "value": " 80/80 [00:02&lt;00:00, 55.76 MiB/s]"
          }
        },
        "9e37dbfe82a74b5198668fcae544303e": {
          "model_module": "@jupyter-widgets/base",
          "model_name": "LayoutModel",
          "model_module_version": "1.2.0",
          "state": {
            "_model_module": "@jupyter-widgets/base",
            "_model_module_version": "1.2.0",
            "_model_name": "LayoutModel",
            "_view_count": null,
            "_view_module": "@jupyter-widgets/base",
            "_view_module_version": "1.2.0",
            "_view_name": "LayoutView",
            "align_content": null,
            "align_items": null,
            "align_self": null,
            "border": null,
            "bottom": null,
            "display": null,
            "flex": null,
            "flex_flow": null,
            "grid_area": null,
            "grid_auto_columns": null,
            "grid_auto_flow": null,
            "grid_auto_rows": null,
            "grid_column": null,
            "grid_gap": null,
            "grid_row": null,
            "grid_template_areas": null,
            "grid_template_columns": null,
            "grid_template_rows": null,
            "height": null,
            "justify_content": null,
            "justify_items": null,
            "left": null,
            "margin": null,
            "max_height": null,
            "max_width": null,
            "min_height": null,
            "min_width": null,
            "object_fit": null,
            "object_position": null,
            "order": null,
            "overflow": null,
            "overflow_x": null,
            "overflow_y": null,
            "padding": null,
            "right": null,
            "top": null,
            "visibility": null,
            "width": null
          }
        },
        "a1b997edf68e4f5ab0989902c4d273b9": {
          "model_module": "@jupyter-widgets/base",
          "model_name": "LayoutModel",
          "model_module_version": "1.2.0",
          "state": {
            "_model_module": "@jupyter-widgets/base",
            "_model_module_version": "1.2.0",
            "_model_name": "LayoutModel",
            "_view_count": null,
            "_view_module": "@jupyter-widgets/base",
            "_view_module_version": "1.2.0",
            "_view_name": "LayoutView",
            "align_content": null,
            "align_items": null,
            "align_self": null,
            "border": null,
            "bottom": null,
            "display": null,
            "flex": null,
            "flex_flow": null,
            "grid_area": null,
            "grid_auto_columns": null,
            "grid_auto_flow": null,
            "grid_auto_rows": null,
            "grid_column": null,
            "grid_gap": null,
            "grid_row": null,
            "grid_template_areas": null,
            "grid_template_columns": null,
            "grid_template_rows": null,
            "height": null,
            "justify_content": null,
            "justify_items": null,
            "left": null,
            "margin": null,
            "max_height": null,
            "max_width": null,
            "min_height": null,
            "min_width": null,
            "object_fit": null,
            "object_position": null,
            "order": null,
            "overflow": null,
            "overflow_x": null,
            "overflow_y": null,
            "padding": null,
            "right": null,
            "top": null,
            "visibility": null,
            "width": null
          }
        },
        "7d3779c989194495b288b83948075b7d": {
          "model_module": "@jupyter-widgets/controls",
          "model_name": "DescriptionStyleModel",
          "model_module_version": "1.5.0",
          "state": {
            "_model_module": "@jupyter-widgets/controls",
            "_model_module_version": "1.5.0",
            "_model_name": "DescriptionStyleModel",
            "_view_count": null,
            "_view_module": "@jupyter-widgets/base",
            "_view_module_version": "1.2.0",
            "_view_name": "StyleView",
            "description_width": ""
          }
        },
        "9d4178dfbd2b4e48b33a52f2269a1556": {
          "model_module": "@jupyter-widgets/base",
          "model_name": "LayoutModel",
          "model_module_version": "1.2.0",
          "state": {
            "_model_module": "@jupyter-widgets/base",
            "_model_module_version": "1.2.0",
            "_model_name": "LayoutModel",
            "_view_count": null,
            "_view_module": "@jupyter-widgets/base",
            "_view_module_version": "1.2.0",
            "_view_name": "LayoutView",
            "align_content": null,
            "align_items": null,
            "align_self": null,
            "border": null,
            "bottom": null,
            "display": null,
            "flex": null,
            "flex_flow": null,
            "grid_area": null,
            "grid_auto_columns": null,
            "grid_auto_flow": null,
            "grid_auto_rows": null,
            "grid_column": null,
            "grid_gap": null,
            "grid_row": null,
            "grid_template_areas": null,
            "grid_template_columns": null,
            "grid_template_rows": null,
            "height": null,
            "justify_content": null,
            "justify_items": null,
            "left": null,
            "margin": null,
            "max_height": null,
            "max_width": null,
            "min_height": null,
            "min_width": null,
            "object_fit": null,
            "object_position": null,
            "order": null,
            "overflow": null,
            "overflow_x": null,
            "overflow_y": null,
            "padding": null,
            "right": null,
            "top": null,
            "visibility": null,
            "width": "20px"
          }
        },
        "5b09be4cdcaf45138874123bf474526f": {
          "model_module": "@jupyter-widgets/controls",
          "model_name": "ProgressStyleModel",
          "model_module_version": "1.5.0",
          "state": {
            "_model_module": "@jupyter-widgets/controls",
            "_model_module_version": "1.5.0",
            "_model_name": "ProgressStyleModel",
            "_view_count": null,
            "_view_module": "@jupyter-widgets/base",
            "_view_module_version": "1.2.0",
            "_view_name": "StyleView",
            "bar_color": null,
            "description_width": ""
          }
        },
        "bdb6dac6b32b446193e8a77388cc7718": {
          "model_module": "@jupyter-widgets/base",
          "model_name": "LayoutModel",
          "model_module_version": "1.2.0",
          "state": {
            "_model_module": "@jupyter-widgets/base",
            "_model_module_version": "1.2.0",
            "_model_name": "LayoutModel",
            "_view_count": null,
            "_view_module": "@jupyter-widgets/base",
            "_view_module_version": "1.2.0",
            "_view_name": "LayoutView",
            "align_content": null,
            "align_items": null,
            "align_self": null,
            "border": null,
            "bottom": null,
            "display": null,
            "flex": null,
            "flex_flow": null,
            "grid_area": null,
            "grid_auto_columns": null,
            "grid_auto_flow": null,
            "grid_auto_rows": null,
            "grid_column": null,
            "grid_gap": null,
            "grid_row": null,
            "grid_template_areas": null,
            "grid_template_columns": null,
            "grid_template_rows": null,
            "height": null,
            "justify_content": null,
            "justify_items": null,
            "left": null,
            "margin": null,
            "max_height": null,
            "max_width": null,
            "min_height": null,
            "min_width": null,
            "object_fit": null,
            "object_position": null,
            "order": null,
            "overflow": null,
            "overflow_x": null,
            "overflow_y": null,
            "padding": null,
            "right": null,
            "top": null,
            "visibility": null,
            "width": null
          }
        },
        "f0387efbb28748e3942aad1c7f0e7e33": {
          "model_module": "@jupyter-widgets/controls",
          "model_name": "DescriptionStyleModel",
          "model_module_version": "1.5.0",
          "state": {
            "_model_module": "@jupyter-widgets/controls",
            "_model_module_version": "1.5.0",
            "_model_name": "DescriptionStyleModel",
            "_view_count": null,
            "_view_module": "@jupyter-widgets/base",
            "_view_module_version": "1.2.0",
            "_view_name": "StyleView",
            "description_width": ""
          }
        },
        "88fc1f953caa4bcfa79d1fc8031f220c": {
          "model_module": "@jupyter-widgets/controls",
          "model_name": "HBoxModel",
          "model_module_version": "1.5.0",
          "state": {
            "_dom_classes": [],
            "_model_module": "@jupyter-widgets/controls",
            "_model_module_version": "1.5.0",
            "_model_name": "HBoxModel",
            "_view_count": null,
            "_view_module": "@jupyter-widgets/controls",
            "_view_module_version": "1.5.0",
            "_view_name": "HBoxView",
            "box_style": "",
            "children": [
              "IPY_MODEL_8619970aef0842ac8cf75d65862ed9ef",
              "IPY_MODEL_8e73c9d4bdb947738f5f9f790b4401cc",
              "IPY_MODEL_12fc97abf0e44272ae4635977cd97887"
            ],
            "layout": "IPY_MODEL_ea2233badb7f49fcb416c4bec9953e1d"
          }
        },
        "8619970aef0842ac8cf75d65862ed9ef": {
          "model_module": "@jupyter-widgets/controls",
          "model_name": "HTMLModel",
          "model_module_version": "1.5.0",
          "state": {
            "_dom_classes": [],
            "_model_module": "@jupyter-widgets/controls",
            "_model_module_version": "1.5.0",
            "_model_name": "HTMLModel",
            "_view_count": null,
            "_view_module": "@jupyter-widgets/controls",
            "_view_module_version": "1.5.0",
            "_view_name": "HTMLView",
            "description": "",
            "description_tooltip": null,
            "layout": "IPY_MODEL_d7b5ed4e319f43319e6100c0d9575d1c",
            "placeholder": "​",
            "style": "IPY_MODEL_94cc901e5a79477fad0e88c502ab4e1b",
            "value": "Generating splits...: 100%"
          }
        },
        "8e73c9d4bdb947738f5f9f790b4401cc": {
          "model_module": "@jupyter-widgets/controls",
          "model_name": "FloatProgressModel",
          "model_module_version": "1.5.0",
          "state": {
            "_dom_classes": [],
            "_model_module": "@jupyter-widgets/controls",
            "_model_module_version": "1.5.0",
            "_model_name": "FloatProgressModel",
            "_view_count": null,
            "_view_module": "@jupyter-widgets/controls",
            "_view_module_version": "1.5.0",
            "_view_name": "ProgressView",
            "bar_style": "",
            "description": "",
            "description_tooltip": null,
            "layout": "IPY_MODEL_46ac0e20f5dc43c7b652db1d128020ea",
            "max": 3,
            "min": 0,
            "orientation": "horizontal",
            "style": "IPY_MODEL_eff082b90d0a4acd8ca6a411eddac798",
            "value": 3
          }
        },
        "12fc97abf0e44272ae4635977cd97887": {
          "model_module": "@jupyter-widgets/controls",
          "model_name": "HTMLModel",
          "model_module_version": "1.5.0",
          "state": {
            "_dom_classes": [],
            "_model_module": "@jupyter-widgets/controls",
            "_model_module_version": "1.5.0",
            "_model_name": "HTMLModel",
            "_view_count": null,
            "_view_module": "@jupyter-widgets/controls",
            "_view_module_version": "1.5.0",
            "_view_name": "HTMLView",
            "description": "",
            "description_tooltip": null,
            "layout": "IPY_MODEL_1f40ce749020465cbbea4985dfc4bb65",
            "placeholder": "​",
            "style": "IPY_MODEL_f876f42276e7441a8cfe35ae5daf54a4",
            "value": " 3/3 [00:43&lt;00:00, 15.30s/ splits]"
          }
        },
        "ea2233badb7f49fcb416c4bec9953e1d": {
          "model_module": "@jupyter-widgets/base",
          "model_name": "LayoutModel",
          "model_module_version": "1.2.0",
          "state": {
            "_model_module": "@jupyter-widgets/base",
            "_model_module_version": "1.2.0",
            "_model_name": "LayoutModel",
            "_view_count": null,
            "_view_module": "@jupyter-widgets/base",
            "_view_module_version": "1.2.0",
            "_view_name": "LayoutView",
            "align_content": null,
            "align_items": null,
            "align_self": null,
            "border": null,
            "bottom": null,
            "display": null,
            "flex": null,
            "flex_flow": null,
            "grid_area": null,
            "grid_auto_columns": null,
            "grid_auto_flow": null,
            "grid_auto_rows": null,
            "grid_column": null,
            "grid_gap": null,
            "grid_row": null,
            "grid_template_areas": null,
            "grid_template_columns": null,
            "grid_template_rows": null,
            "height": null,
            "justify_content": null,
            "justify_items": null,
            "left": null,
            "margin": null,
            "max_height": null,
            "max_width": null,
            "min_height": null,
            "min_width": null,
            "object_fit": null,
            "object_position": null,
            "order": null,
            "overflow": null,
            "overflow_x": null,
            "overflow_y": null,
            "padding": null,
            "right": null,
            "top": null,
            "visibility": "hidden",
            "width": null
          }
        },
        "d7b5ed4e319f43319e6100c0d9575d1c": {
          "model_module": "@jupyter-widgets/base",
          "model_name": "LayoutModel",
          "model_module_version": "1.2.0",
          "state": {
            "_model_module": "@jupyter-widgets/base",
            "_model_module_version": "1.2.0",
            "_model_name": "LayoutModel",
            "_view_count": null,
            "_view_module": "@jupyter-widgets/base",
            "_view_module_version": "1.2.0",
            "_view_name": "LayoutView",
            "align_content": null,
            "align_items": null,
            "align_self": null,
            "border": null,
            "bottom": null,
            "display": null,
            "flex": null,
            "flex_flow": null,
            "grid_area": null,
            "grid_auto_columns": null,
            "grid_auto_flow": null,
            "grid_auto_rows": null,
            "grid_column": null,
            "grid_gap": null,
            "grid_row": null,
            "grid_template_areas": null,
            "grid_template_columns": null,
            "grid_template_rows": null,
            "height": null,
            "justify_content": null,
            "justify_items": null,
            "left": null,
            "margin": null,
            "max_height": null,
            "max_width": null,
            "min_height": null,
            "min_width": null,
            "object_fit": null,
            "object_position": null,
            "order": null,
            "overflow": null,
            "overflow_x": null,
            "overflow_y": null,
            "padding": null,
            "right": null,
            "top": null,
            "visibility": null,
            "width": null
          }
        },
        "94cc901e5a79477fad0e88c502ab4e1b": {
          "model_module": "@jupyter-widgets/controls",
          "model_name": "DescriptionStyleModel",
          "model_module_version": "1.5.0",
          "state": {
            "_model_module": "@jupyter-widgets/controls",
            "_model_module_version": "1.5.0",
            "_model_name": "DescriptionStyleModel",
            "_view_count": null,
            "_view_module": "@jupyter-widgets/base",
            "_view_module_version": "1.2.0",
            "_view_name": "StyleView",
            "description_width": ""
          }
        },
        "46ac0e20f5dc43c7b652db1d128020ea": {
          "model_module": "@jupyter-widgets/base",
          "model_name": "LayoutModel",
          "model_module_version": "1.2.0",
          "state": {
            "_model_module": "@jupyter-widgets/base",
            "_model_module_version": "1.2.0",
            "_model_name": "LayoutModel",
            "_view_count": null,
            "_view_module": "@jupyter-widgets/base",
            "_view_module_version": "1.2.0",
            "_view_name": "LayoutView",
            "align_content": null,
            "align_items": null,
            "align_self": null,
            "border": null,
            "bottom": null,
            "display": null,
            "flex": null,
            "flex_flow": null,
            "grid_area": null,
            "grid_auto_columns": null,
            "grid_auto_flow": null,
            "grid_auto_rows": null,
            "grid_column": null,
            "grid_gap": null,
            "grid_row": null,
            "grid_template_areas": null,
            "grid_template_columns": null,
            "grid_template_rows": null,
            "height": null,
            "justify_content": null,
            "justify_items": null,
            "left": null,
            "margin": null,
            "max_height": null,
            "max_width": null,
            "min_height": null,
            "min_width": null,
            "object_fit": null,
            "object_position": null,
            "order": null,
            "overflow": null,
            "overflow_x": null,
            "overflow_y": null,
            "padding": null,
            "right": null,
            "top": null,
            "visibility": null,
            "width": null
          }
        },
        "eff082b90d0a4acd8ca6a411eddac798": {
          "model_module": "@jupyter-widgets/controls",
          "model_name": "ProgressStyleModel",
          "model_module_version": "1.5.0",
          "state": {
            "_model_module": "@jupyter-widgets/controls",
            "_model_module_version": "1.5.0",
            "_model_name": "ProgressStyleModel",
            "_view_count": null,
            "_view_module": "@jupyter-widgets/base",
            "_view_module_version": "1.2.0",
            "_view_name": "StyleView",
            "bar_color": null,
            "description_width": ""
          }
        },
        "1f40ce749020465cbbea4985dfc4bb65": {
          "model_module": "@jupyter-widgets/base",
          "model_name": "LayoutModel",
          "model_module_version": "1.2.0",
          "state": {
            "_model_module": "@jupyter-widgets/base",
            "_model_module_version": "1.2.0",
            "_model_name": "LayoutModel",
            "_view_count": null,
            "_view_module": "@jupyter-widgets/base",
            "_view_module_version": "1.2.0",
            "_view_name": "LayoutView",
            "align_content": null,
            "align_items": null,
            "align_self": null,
            "border": null,
            "bottom": null,
            "display": null,
            "flex": null,
            "flex_flow": null,
            "grid_area": null,
            "grid_auto_columns": null,
            "grid_auto_flow": null,
            "grid_auto_rows": null,
            "grid_column": null,
            "grid_gap": null,
            "grid_row": null,
            "grid_template_areas": null,
            "grid_template_columns": null,
            "grid_template_rows": null,
            "height": null,
            "justify_content": null,
            "justify_items": null,
            "left": null,
            "margin": null,
            "max_height": null,
            "max_width": null,
            "min_height": null,
            "min_width": null,
            "object_fit": null,
            "object_position": null,
            "order": null,
            "overflow": null,
            "overflow_x": null,
            "overflow_y": null,
            "padding": null,
            "right": null,
            "top": null,
            "visibility": null,
            "width": null
          }
        },
        "f876f42276e7441a8cfe35ae5daf54a4": {
          "model_module": "@jupyter-widgets/controls",
          "model_name": "DescriptionStyleModel",
          "model_module_version": "1.5.0",
          "state": {
            "_model_module": "@jupyter-widgets/controls",
            "_model_module_version": "1.5.0",
            "_model_name": "DescriptionStyleModel",
            "_view_count": null,
            "_view_module": "@jupyter-widgets/base",
            "_view_module_version": "1.2.0",
            "_view_name": "StyleView",
            "description_width": ""
          }
        },
        "b41dc65329f4434383b2b8bb6e744e84": {
          "model_module": "@jupyter-widgets/controls",
          "model_name": "HBoxModel",
          "model_module_version": "1.5.0",
          "state": {
            "_dom_classes": [],
            "_model_module": "@jupyter-widgets/controls",
            "_model_module_version": "1.5.0",
            "_model_name": "HBoxModel",
            "_view_count": null,
            "_view_module": "@jupyter-widgets/controls",
            "_view_module_version": "1.5.0",
            "_view_name": "HBoxView",
            "box_style": "",
            "children": [
              "IPY_MODEL_cdb57b5252ac4af89814a94cf1daaef0",
              "IPY_MODEL_871873eace9f4085be57607f44331ab9",
              "IPY_MODEL_534e0a9652cd4fffb14d31e24b619c99"
            ],
            "layout": "IPY_MODEL_c3aa33da60da4129ab24b73d36bd789d"
          }
        },
        "cdb57b5252ac4af89814a94cf1daaef0": {
          "model_module": "@jupyter-widgets/controls",
          "model_name": "HTMLModel",
          "model_module_version": "1.5.0",
          "state": {
            "_dom_classes": [],
            "_model_module": "@jupyter-widgets/controls",
            "_model_module_version": "1.5.0",
            "_model_name": "HTMLModel",
            "_view_count": null,
            "_view_module": "@jupyter-widgets/controls",
            "_view_module_version": "1.5.0",
            "_view_name": "HTMLView",
            "description": "",
            "description_tooltip": null,
            "layout": "IPY_MODEL_711f7d3395ed4e62857f3433cab75a5e",
            "placeholder": "​",
            "style": "IPY_MODEL_1877ddc8a3d14ee3a801c9501e3dc992",
            "value": "Generating train examples...: 100%"
          }
        },
        "871873eace9f4085be57607f44331ab9": {
          "model_module": "@jupyter-widgets/controls",
          "model_name": "FloatProgressModel",
          "model_module_version": "1.5.0",
          "state": {
            "_dom_classes": [],
            "_model_module": "@jupyter-widgets/controls",
            "_model_module_version": "1.5.0",
            "_model_name": "FloatProgressModel",
            "_view_count": null,
            "_view_module": "@jupyter-widgets/controls",
            "_view_module_version": "1.5.0",
            "_view_name": "ProgressView",
            "bar_style": "",
            "description": "",
            "description_tooltip": null,
            "layout": "IPY_MODEL_6e352f038ddb406f96ba723d451ad8d9",
            "max": 25000,
            "min": 0,
            "orientation": "horizontal",
            "style": "IPY_MODEL_489cb86ee0c34a3c9b889d304de06fc7",
            "value": 25000
          }
        },
        "534e0a9652cd4fffb14d31e24b619c99": {
          "model_module": "@jupyter-widgets/controls",
          "model_name": "HTMLModel",
          "model_module_version": "1.5.0",
          "state": {
            "_dom_classes": [],
            "_model_module": "@jupyter-widgets/controls",
            "_model_module_version": "1.5.0",
            "_model_name": "HTMLModel",
            "_view_count": null,
            "_view_module": "@jupyter-widgets/controls",
            "_view_module_version": "1.5.0",
            "_view_name": "HTMLView",
            "description": "",
            "description_tooltip": null,
            "layout": "IPY_MODEL_fc0deed3275e4b6b81bd6639d0cfae70",
            "placeholder": "​",
            "style": "IPY_MODEL_0d4dce048e7f474cb4808a47fccd43c7",
            "value": " 24946/25000 [00:07&lt;00:00, 5490.45 examples/s]"
          }
        },
        "c3aa33da60da4129ab24b73d36bd789d": {
          "model_module": "@jupyter-widgets/base",
          "model_name": "LayoutModel",
          "model_module_version": "1.2.0",
          "state": {
            "_model_module": "@jupyter-widgets/base",
            "_model_module_version": "1.2.0",
            "_model_name": "LayoutModel",
            "_view_count": null,
            "_view_module": "@jupyter-widgets/base",
            "_view_module_version": "1.2.0",
            "_view_name": "LayoutView",
            "align_content": null,
            "align_items": null,
            "align_self": null,
            "border": null,
            "bottom": null,
            "display": null,
            "flex": null,
            "flex_flow": null,
            "grid_area": null,
            "grid_auto_columns": null,
            "grid_auto_flow": null,
            "grid_auto_rows": null,
            "grid_column": null,
            "grid_gap": null,
            "grid_row": null,
            "grid_template_areas": null,
            "grid_template_columns": null,
            "grid_template_rows": null,
            "height": null,
            "justify_content": null,
            "justify_items": null,
            "left": null,
            "margin": null,
            "max_height": null,
            "max_width": null,
            "min_height": null,
            "min_width": null,
            "object_fit": null,
            "object_position": null,
            "order": null,
            "overflow": null,
            "overflow_x": null,
            "overflow_y": null,
            "padding": null,
            "right": null,
            "top": null,
            "visibility": "hidden",
            "width": null
          }
        },
        "711f7d3395ed4e62857f3433cab75a5e": {
          "model_module": "@jupyter-widgets/base",
          "model_name": "LayoutModel",
          "model_module_version": "1.2.0",
          "state": {
            "_model_module": "@jupyter-widgets/base",
            "_model_module_version": "1.2.0",
            "_model_name": "LayoutModel",
            "_view_count": null,
            "_view_module": "@jupyter-widgets/base",
            "_view_module_version": "1.2.0",
            "_view_name": "LayoutView",
            "align_content": null,
            "align_items": null,
            "align_self": null,
            "border": null,
            "bottom": null,
            "display": null,
            "flex": null,
            "flex_flow": null,
            "grid_area": null,
            "grid_auto_columns": null,
            "grid_auto_flow": null,
            "grid_auto_rows": null,
            "grid_column": null,
            "grid_gap": null,
            "grid_row": null,
            "grid_template_areas": null,
            "grid_template_columns": null,
            "grid_template_rows": null,
            "height": null,
            "justify_content": null,
            "justify_items": null,
            "left": null,
            "margin": null,
            "max_height": null,
            "max_width": null,
            "min_height": null,
            "min_width": null,
            "object_fit": null,
            "object_position": null,
            "order": null,
            "overflow": null,
            "overflow_x": null,
            "overflow_y": null,
            "padding": null,
            "right": null,
            "top": null,
            "visibility": null,
            "width": null
          }
        },
        "1877ddc8a3d14ee3a801c9501e3dc992": {
          "model_module": "@jupyter-widgets/controls",
          "model_name": "DescriptionStyleModel",
          "model_module_version": "1.5.0",
          "state": {
            "_model_module": "@jupyter-widgets/controls",
            "_model_module_version": "1.5.0",
            "_model_name": "DescriptionStyleModel",
            "_view_count": null,
            "_view_module": "@jupyter-widgets/base",
            "_view_module_version": "1.2.0",
            "_view_name": "StyleView",
            "description_width": ""
          }
        },
        "6e352f038ddb406f96ba723d451ad8d9": {
          "model_module": "@jupyter-widgets/base",
          "model_name": "LayoutModel",
          "model_module_version": "1.2.0",
          "state": {
            "_model_module": "@jupyter-widgets/base",
            "_model_module_version": "1.2.0",
            "_model_name": "LayoutModel",
            "_view_count": null,
            "_view_module": "@jupyter-widgets/base",
            "_view_module_version": "1.2.0",
            "_view_name": "LayoutView",
            "align_content": null,
            "align_items": null,
            "align_self": null,
            "border": null,
            "bottom": null,
            "display": null,
            "flex": null,
            "flex_flow": null,
            "grid_area": null,
            "grid_auto_columns": null,
            "grid_auto_flow": null,
            "grid_auto_rows": null,
            "grid_column": null,
            "grid_gap": null,
            "grid_row": null,
            "grid_template_areas": null,
            "grid_template_columns": null,
            "grid_template_rows": null,
            "height": null,
            "justify_content": null,
            "justify_items": null,
            "left": null,
            "margin": null,
            "max_height": null,
            "max_width": null,
            "min_height": null,
            "min_width": null,
            "object_fit": null,
            "object_position": null,
            "order": null,
            "overflow": null,
            "overflow_x": null,
            "overflow_y": null,
            "padding": null,
            "right": null,
            "top": null,
            "visibility": null,
            "width": null
          }
        },
        "489cb86ee0c34a3c9b889d304de06fc7": {
          "model_module": "@jupyter-widgets/controls",
          "model_name": "ProgressStyleModel",
          "model_module_version": "1.5.0",
          "state": {
            "_model_module": "@jupyter-widgets/controls",
            "_model_module_version": "1.5.0",
            "_model_name": "ProgressStyleModel",
            "_view_count": null,
            "_view_module": "@jupyter-widgets/base",
            "_view_module_version": "1.2.0",
            "_view_name": "StyleView",
            "bar_color": null,
            "description_width": ""
          }
        },
        "fc0deed3275e4b6b81bd6639d0cfae70": {
          "model_module": "@jupyter-widgets/base",
          "model_name": "LayoutModel",
          "model_module_version": "1.2.0",
          "state": {
            "_model_module": "@jupyter-widgets/base",
            "_model_module_version": "1.2.0",
            "_model_name": "LayoutModel",
            "_view_count": null,
            "_view_module": "@jupyter-widgets/base",
            "_view_module_version": "1.2.0",
            "_view_name": "LayoutView",
            "align_content": null,
            "align_items": null,
            "align_self": null,
            "border": null,
            "bottom": null,
            "display": null,
            "flex": null,
            "flex_flow": null,
            "grid_area": null,
            "grid_auto_columns": null,
            "grid_auto_flow": null,
            "grid_auto_rows": null,
            "grid_column": null,
            "grid_gap": null,
            "grid_row": null,
            "grid_template_areas": null,
            "grid_template_columns": null,
            "grid_template_rows": null,
            "height": null,
            "justify_content": null,
            "justify_items": null,
            "left": null,
            "margin": null,
            "max_height": null,
            "max_width": null,
            "min_height": null,
            "min_width": null,
            "object_fit": null,
            "object_position": null,
            "order": null,
            "overflow": null,
            "overflow_x": null,
            "overflow_y": null,
            "padding": null,
            "right": null,
            "top": null,
            "visibility": null,
            "width": null
          }
        },
        "0d4dce048e7f474cb4808a47fccd43c7": {
          "model_module": "@jupyter-widgets/controls",
          "model_name": "DescriptionStyleModel",
          "model_module_version": "1.5.0",
          "state": {
            "_model_module": "@jupyter-widgets/controls",
            "_model_module_version": "1.5.0",
            "_model_name": "DescriptionStyleModel",
            "_view_count": null,
            "_view_module": "@jupyter-widgets/base",
            "_view_module_version": "1.2.0",
            "_view_name": "StyleView",
            "description_width": ""
          }
        },
        "07c3a0fd77ea41cd99cc16966abb1d4a": {
          "model_module": "@jupyter-widgets/controls",
          "model_name": "HBoxModel",
          "model_module_version": "1.5.0",
          "state": {
            "_dom_classes": [],
            "_model_module": "@jupyter-widgets/controls",
            "_model_module_version": "1.5.0",
            "_model_name": "HBoxModel",
            "_view_count": null,
            "_view_module": "@jupyter-widgets/controls",
            "_view_module_version": "1.5.0",
            "_view_name": "HBoxView",
            "box_style": "",
            "children": [
              "IPY_MODEL_9bb76f5155dd4aa4a07b4d8167944f8a",
              "IPY_MODEL_3a7ee5c4d726491989c9a0e75a53ec39",
              "IPY_MODEL_0d0ce43610f447fba7b1b3fc00d2dd80"
            ],
            "layout": "IPY_MODEL_0b3a97e6ab0b436e9afbda26104db4de"
          }
        },
        "9bb76f5155dd4aa4a07b4d8167944f8a": {
          "model_module": "@jupyter-widgets/controls",
          "model_name": "HTMLModel",
          "model_module_version": "1.5.0",
          "state": {
            "_dom_classes": [],
            "_model_module": "@jupyter-widgets/controls",
            "_model_module_version": "1.5.0",
            "_model_name": "HTMLModel",
            "_view_count": null,
            "_view_module": "@jupyter-widgets/controls",
            "_view_module_version": "1.5.0",
            "_view_name": "HTMLView",
            "description": "",
            "description_tooltip": null,
            "layout": "IPY_MODEL_4f5a4ed8a78e41bc9e80ab1eaceaf7d0",
            "placeholder": "​",
            "style": "IPY_MODEL_a07d3fff5c1c4a7a9f878c36b2312e89",
            "value": "Shuffling /root/tensorflow_datasets/imdb_reviews/plain_text/1.0.0.incomplete5ZM36W/imdb_reviews-train.tfrecord*...:  43%"
          }
        },
        "3a7ee5c4d726491989c9a0e75a53ec39": {
          "model_module": "@jupyter-widgets/controls",
          "model_name": "FloatProgressModel",
          "model_module_version": "1.5.0",
          "state": {
            "_dom_classes": [],
            "_model_module": "@jupyter-widgets/controls",
            "_model_module_version": "1.5.0",
            "_model_name": "FloatProgressModel",
            "_view_count": null,
            "_view_module": "@jupyter-widgets/controls",
            "_view_module_version": "1.5.0",
            "_view_name": "ProgressView",
            "bar_style": "",
            "description": "",
            "description_tooltip": null,
            "layout": "IPY_MODEL_1fd3939887f444bb91aca70bcf13b8a3",
            "max": 25000,
            "min": 0,
            "orientation": "horizontal",
            "style": "IPY_MODEL_f6f02a35535d4e52aca91835165da0bf",
            "value": 25000
          }
        },
        "0d0ce43610f447fba7b1b3fc00d2dd80": {
          "model_module": "@jupyter-widgets/controls",
          "model_name": "HTMLModel",
          "model_module_version": "1.5.0",
          "state": {
            "_dom_classes": [],
            "_model_module": "@jupyter-widgets/controls",
            "_model_module_version": "1.5.0",
            "_model_name": "HTMLModel",
            "_view_count": null,
            "_view_module": "@jupyter-widgets/controls",
            "_view_module_version": "1.5.0",
            "_view_name": "HTMLView",
            "description": "",
            "description_tooltip": null,
            "layout": "IPY_MODEL_987337fc590a40babb0109afe6f0e579",
            "placeholder": "​",
            "style": "IPY_MODEL_4a505270b671436f835ae14cd5107e62",
            "value": " 10815/25000 [00:00&lt;00:00, 108140.31 examples/s]"
          }
        },
        "0b3a97e6ab0b436e9afbda26104db4de": {
          "model_module": "@jupyter-widgets/base",
          "model_name": "LayoutModel",
          "model_module_version": "1.2.0",
          "state": {
            "_model_module": "@jupyter-widgets/base",
            "_model_module_version": "1.2.0",
            "_model_name": "LayoutModel",
            "_view_count": null,
            "_view_module": "@jupyter-widgets/base",
            "_view_module_version": "1.2.0",
            "_view_name": "LayoutView",
            "align_content": null,
            "align_items": null,
            "align_self": null,
            "border": null,
            "bottom": null,
            "display": null,
            "flex": null,
            "flex_flow": null,
            "grid_area": null,
            "grid_auto_columns": null,
            "grid_auto_flow": null,
            "grid_auto_rows": null,
            "grid_column": null,
            "grid_gap": null,
            "grid_row": null,
            "grid_template_areas": null,
            "grid_template_columns": null,
            "grid_template_rows": null,
            "height": null,
            "justify_content": null,
            "justify_items": null,
            "left": null,
            "margin": null,
            "max_height": null,
            "max_width": null,
            "min_height": null,
            "min_width": null,
            "object_fit": null,
            "object_position": null,
            "order": null,
            "overflow": null,
            "overflow_x": null,
            "overflow_y": null,
            "padding": null,
            "right": null,
            "top": null,
            "visibility": "hidden",
            "width": null
          }
        },
        "4f5a4ed8a78e41bc9e80ab1eaceaf7d0": {
          "model_module": "@jupyter-widgets/base",
          "model_name": "LayoutModel",
          "model_module_version": "1.2.0",
          "state": {
            "_model_module": "@jupyter-widgets/base",
            "_model_module_version": "1.2.0",
            "_model_name": "LayoutModel",
            "_view_count": null,
            "_view_module": "@jupyter-widgets/base",
            "_view_module_version": "1.2.0",
            "_view_name": "LayoutView",
            "align_content": null,
            "align_items": null,
            "align_self": null,
            "border": null,
            "bottom": null,
            "display": null,
            "flex": null,
            "flex_flow": null,
            "grid_area": null,
            "grid_auto_columns": null,
            "grid_auto_flow": null,
            "grid_auto_rows": null,
            "grid_column": null,
            "grid_gap": null,
            "grid_row": null,
            "grid_template_areas": null,
            "grid_template_columns": null,
            "grid_template_rows": null,
            "height": null,
            "justify_content": null,
            "justify_items": null,
            "left": null,
            "margin": null,
            "max_height": null,
            "max_width": null,
            "min_height": null,
            "min_width": null,
            "object_fit": null,
            "object_position": null,
            "order": null,
            "overflow": null,
            "overflow_x": null,
            "overflow_y": null,
            "padding": null,
            "right": null,
            "top": null,
            "visibility": null,
            "width": null
          }
        },
        "a07d3fff5c1c4a7a9f878c36b2312e89": {
          "model_module": "@jupyter-widgets/controls",
          "model_name": "DescriptionStyleModel",
          "model_module_version": "1.5.0",
          "state": {
            "_model_module": "@jupyter-widgets/controls",
            "_model_module_version": "1.5.0",
            "_model_name": "DescriptionStyleModel",
            "_view_count": null,
            "_view_module": "@jupyter-widgets/base",
            "_view_module_version": "1.2.0",
            "_view_name": "StyleView",
            "description_width": ""
          }
        },
        "1fd3939887f444bb91aca70bcf13b8a3": {
          "model_module": "@jupyter-widgets/base",
          "model_name": "LayoutModel",
          "model_module_version": "1.2.0",
          "state": {
            "_model_module": "@jupyter-widgets/base",
            "_model_module_version": "1.2.0",
            "_model_name": "LayoutModel",
            "_view_count": null,
            "_view_module": "@jupyter-widgets/base",
            "_view_module_version": "1.2.0",
            "_view_name": "LayoutView",
            "align_content": null,
            "align_items": null,
            "align_self": null,
            "border": null,
            "bottom": null,
            "display": null,
            "flex": null,
            "flex_flow": null,
            "grid_area": null,
            "grid_auto_columns": null,
            "grid_auto_flow": null,
            "grid_auto_rows": null,
            "grid_column": null,
            "grid_gap": null,
            "grid_row": null,
            "grid_template_areas": null,
            "grid_template_columns": null,
            "grid_template_rows": null,
            "height": null,
            "justify_content": null,
            "justify_items": null,
            "left": null,
            "margin": null,
            "max_height": null,
            "max_width": null,
            "min_height": null,
            "min_width": null,
            "object_fit": null,
            "object_position": null,
            "order": null,
            "overflow": null,
            "overflow_x": null,
            "overflow_y": null,
            "padding": null,
            "right": null,
            "top": null,
            "visibility": null,
            "width": null
          }
        },
        "f6f02a35535d4e52aca91835165da0bf": {
          "model_module": "@jupyter-widgets/controls",
          "model_name": "ProgressStyleModel",
          "model_module_version": "1.5.0",
          "state": {
            "_model_module": "@jupyter-widgets/controls",
            "_model_module_version": "1.5.0",
            "_model_name": "ProgressStyleModel",
            "_view_count": null,
            "_view_module": "@jupyter-widgets/base",
            "_view_module_version": "1.2.0",
            "_view_name": "StyleView",
            "bar_color": null,
            "description_width": ""
          }
        },
        "987337fc590a40babb0109afe6f0e579": {
          "model_module": "@jupyter-widgets/base",
          "model_name": "LayoutModel",
          "model_module_version": "1.2.0",
          "state": {
            "_model_module": "@jupyter-widgets/base",
            "_model_module_version": "1.2.0",
            "_model_name": "LayoutModel",
            "_view_count": null,
            "_view_module": "@jupyter-widgets/base",
            "_view_module_version": "1.2.0",
            "_view_name": "LayoutView",
            "align_content": null,
            "align_items": null,
            "align_self": null,
            "border": null,
            "bottom": null,
            "display": null,
            "flex": null,
            "flex_flow": null,
            "grid_area": null,
            "grid_auto_columns": null,
            "grid_auto_flow": null,
            "grid_auto_rows": null,
            "grid_column": null,
            "grid_gap": null,
            "grid_row": null,
            "grid_template_areas": null,
            "grid_template_columns": null,
            "grid_template_rows": null,
            "height": null,
            "justify_content": null,
            "justify_items": null,
            "left": null,
            "margin": null,
            "max_height": null,
            "max_width": null,
            "min_height": null,
            "min_width": null,
            "object_fit": null,
            "object_position": null,
            "order": null,
            "overflow": null,
            "overflow_x": null,
            "overflow_y": null,
            "padding": null,
            "right": null,
            "top": null,
            "visibility": null,
            "width": null
          }
        },
        "4a505270b671436f835ae14cd5107e62": {
          "model_module": "@jupyter-widgets/controls",
          "model_name": "DescriptionStyleModel",
          "model_module_version": "1.5.0",
          "state": {
            "_model_module": "@jupyter-widgets/controls",
            "_model_module_version": "1.5.0",
            "_model_name": "DescriptionStyleModel",
            "_view_count": null,
            "_view_module": "@jupyter-widgets/base",
            "_view_module_version": "1.2.0",
            "_view_name": "StyleView",
            "description_width": ""
          }
        },
        "a585f5c9ada0441489c7ffe328431ace": {
          "model_module": "@jupyter-widgets/controls",
          "model_name": "HBoxModel",
          "model_module_version": "1.5.0",
          "state": {
            "_dom_classes": [],
            "_model_module": "@jupyter-widgets/controls",
            "_model_module_version": "1.5.0",
            "_model_name": "HBoxModel",
            "_view_count": null,
            "_view_module": "@jupyter-widgets/controls",
            "_view_module_version": "1.5.0",
            "_view_name": "HBoxView",
            "box_style": "",
            "children": [
              "IPY_MODEL_89cd65cc834c439c9f1231c46e6582b8",
              "IPY_MODEL_2990df7ac3c74d10aad504f522061521",
              "IPY_MODEL_b02d86f5422e4411bf46340575c5ecc3"
            ],
            "layout": "IPY_MODEL_1d6a2b79911e40a682874b1e4309f94f"
          }
        },
        "89cd65cc834c439c9f1231c46e6582b8": {
          "model_module": "@jupyter-widgets/controls",
          "model_name": "HTMLModel",
          "model_module_version": "1.5.0",
          "state": {
            "_dom_classes": [],
            "_model_module": "@jupyter-widgets/controls",
            "_model_module_version": "1.5.0",
            "_model_name": "HTMLModel",
            "_view_count": null,
            "_view_module": "@jupyter-widgets/controls",
            "_view_module_version": "1.5.0",
            "_view_name": "HTMLView",
            "description": "",
            "description_tooltip": null,
            "layout": "IPY_MODEL_743c72159c95442685e9a73da5b2902c",
            "placeholder": "​",
            "style": "IPY_MODEL_3f9e98930e95449680f501dee4252d6b",
            "value": "Generating test examples...: 100%"
          }
        },
        "2990df7ac3c74d10aad504f522061521": {
          "model_module": "@jupyter-widgets/controls",
          "model_name": "FloatProgressModel",
          "model_module_version": "1.5.0",
          "state": {
            "_dom_classes": [],
            "_model_module": "@jupyter-widgets/controls",
            "_model_module_version": "1.5.0",
            "_model_name": "FloatProgressModel",
            "_view_count": null,
            "_view_module": "@jupyter-widgets/controls",
            "_view_module_version": "1.5.0",
            "_view_name": "ProgressView",
            "bar_style": "",
            "description": "",
            "description_tooltip": null,
            "layout": "IPY_MODEL_544259954c364e95a2b50b1e97f0c8bd",
            "max": 25000,
            "min": 0,
            "orientation": "horizontal",
            "style": "IPY_MODEL_a06a47a8da0c4a5dac45032a667320c0",
            "value": 25000
          }
        },
        "b02d86f5422e4411bf46340575c5ecc3": {
          "model_module": "@jupyter-widgets/controls",
          "model_name": "HTMLModel",
          "model_module_version": "1.5.0",
          "state": {
            "_dom_classes": [],
            "_model_module": "@jupyter-widgets/controls",
            "_model_module_version": "1.5.0",
            "_model_name": "HTMLModel",
            "_view_count": null,
            "_view_module": "@jupyter-widgets/controls",
            "_view_module_version": "1.5.0",
            "_view_name": "HTMLView",
            "description": "",
            "description_tooltip": null,
            "layout": "IPY_MODEL_bb620e8fe14a4a98a4c93c19bcc67f15",
            "placeholder": "​",
            "style": "IPY_MODEL_678b609ba5804e848a82018581a71e75",
            "value": " 24989/25000 [00:16&lt;00:00, 3434.10 examples/s]"
          }
        },
        "1d6a2b79911e40a682874b1e4309f94f": {
          "model_module": "@jupyter-widgets/base",
          "model_name": "LayoutModel",
          "model_module_version": "1.2.0",
          "state": {
            "_model_module": "@jupyter-widgets/base",
            "_model_module_version": "1.2.0",
            "_model_name": "LayoutModel",
            "_view_count": null,
            "_view_module": "@jupyter-widgets/base",
            "_view_module_version": "1.2.0",
            "_view_name": "LayoutView",
            "align_content": null,
            "align_items": null,
            "align_self": null,
            "border": null,
            "bottom": null,
            "display": null,
            "flex": null,
            "flex_flow": null,
            "grid_area": null,
            "grid_auto_columns": null,
            "grid_auto_flow": null,
            "grid_auto_rows": null,
            "grid_column": null,
            "grid_gap": null,
            "grid_row": null,
            "grid_template_areas": null,
            "grid_template_columns": null,
            "grid_template_rows": null,
            "height": null,
            "justify_content": null,
            "justify_items": null,
            "left": null,
            "margin": null,
            "max_height": null,
            "max_width": null,
            "min_height": null,
            "min_width": null,
            "object_fit": null,
            "object_position": null,
            "order": null,
            "overflow": null,
            "overflow_x": null,
            "overflow_y": null,
            "padding": null,
            "right": null,
            "top": null,
            "visibility": "hidden",
            "width": null
          }
        },
        "743c72159c95442685e9a73da5b2902c": {
          "model_module": "@jupyter-widgets/base",
          "model_name": "LayoutModel",
          "model_module_version": "1.2.0",
          "state": {
            "_model_module": "@jupyter-widgets/base",
            "_model_module_version": "1.2.0",
            "_model_name": "LayoutModel",
            "_view_count": null,
            "_view_module": "@jupyter-widgets/base",
            "_view_module_version": "1.2.0",
            "_view_name": "LayoutView",
            "align_content": null,
            "align_items": null,
            "align_self": null,
            "border": null,
            "bottom": null,
            "display": null,
            "flex": null,
            "flex_flow": null,
            "grid_area": null,
            "grid_auto_columns": null,
            "grid_auto_flow": null,
            "grid_auto_rows": null,
            "grid_column": null,
            "grid_gap": null,
            "grid_row": null,
            "grid_template_areas": null,
            "grid_template_columns": null,
            "grid_template_rows": null,
            "height": null,
            "justify_content": null,
            "justify_items": null,
            "left": null,
            "margin": null,
            "max_height": null,
            "max_width": null,
            "min_height": null,
            "min_width": null,
            "object_fit": null,
            "object_position": null,
            "order": null,
            "overflow": null,
            "overflow_x": null,
            "overflow_y": null,
            "padding": null,
            "right": null,
            "top": null,
            "visibility": null,
            "width": null
          }
        },
        "3f9e98930e95449680f501dee4252d6b": {
          "model_module": "@jupyter-widgets/controls",
          "model_name": "DescriptionStyleModel",
          "model_module_version": "1.5.0",
          "state": {
            "_model_module": "@jupyter-widgets/controls",
            "_model_module_version": "1.5.0",
            "_model_name": "DescriptionStyleModel",
            "_view_count": null,
            "_view_module": "@jupyter-widgets/base",
            "_view_module_version": "1.2.0",
            "_view_name": "StyleView",
            "description_width": ""
          }
        },
        "544259954c364e95a2b50b1e97f0c8bd": {
          "model_module": "@jupyter-widgets/base",
          "model_name": "LayoutModel",
          "model_module_version": "1.2.0",
          "state": {
            "_model_module": "@jupyter-widgets/base",
            "_model_module_version": "1.2.0",
            "_model_name": "LayoutModel",
            "_view_count": null,
            "_view_module": "@jupyter-widgets/base",
            "_view_module_version": "1.2.0",
            "_view_name": "LayoutView",
            "align_content": null,
            "align_items": null,
            "align_self": null,
            "border": null,
            "bottom": null,
            "display": null,
            "flex": null,
            "flex_flow": null,
            "grid_area": null,
            "grid_auto_columns": null,
            "grid_auto_flow": null,
            "grid_auto_rows": null,
            "grid_column": null,
            "grid_gap": null,
            "grid_row": null,
            "grid_template_areas": null,
            "grid_template_columns": null,
            "grid_template_rows": null,
            "height": null,
            "justify_content": null,
            "justify_items": null,
            "left": null,
            "margin": null,
            "max_height": null,
            "max_width": null,
            "min_height": null,
            "min_width": null,
            "object_fit": null,
            "object_position": null,
            "order": null,
            "overflow": null,
            "overflow_x": null,
            "overflow_y": null,
            "padding": null,
            "right": null,
            "top": null,
            "visibility": null,
            "width": null
          }
        },
        "a06a47a8da0c4a5dac45032a667320c0": {
          "model_module": "@jupyter-widgets/controls",
          "model_name": "ProgressStyleModel",
          "model_module_version": "1.5.0",
          "state": {
            "_model_module": "@jupyter-widgets/controls",
            "_model_module_version": "1.5.0",
            "_model_name": "ProgressStyleModel",
            "_view_count": null,
            "_view_module": "@jupyter-widgets/base",
            "_view_module_version": "1.2.0",
            "_view_name": "StyleView",
            "bar_color": null,
            "description_width": ""
          }
        },
        "bb620e8fe14a4a98a4c93c19bcc67f15": {
          "model_module": "@jupyter-widgets/base",
          "model_name": "LayoutModel",
          "model_module_version": "1.2.0",
          "state": {
            "_model_module": "@jupyter-widgets/base",
            "_model_module_version": "1.2.0",
            "_model_name": "LayoutModel",
            "_view_count": null,
            "_view_module": "@jupyter-widgets/base",
            "_view_module_version": "1.2.0",
            "_view_name": "LayoutView",
            "align_content": null,
            "align_items": null,
            "align_self": null,
            "border": null,
            "bottom": null,
            "display": null,
            "flex": null,
            "flex_flow": null,
            "grid_area": null,
            "grid_auto_columns": null,
            "grid_auto_flow": null,
            "grid_auto_rows": null,
            "grid_column": null,
            "grid_gap": null,
            "grid_row": null,
            "grid_template_areas": null,
            "grid_template_columns": null,
            "grid_template_rows": null,
            "height": null,
            "justify_content": null,
            "justify_items": null,
            "left": null,
            "margin": null,
            "max_height": null,
            "max_width": null,
            "min_height": null,
            "min_width": null,
            "object_fit": null,
            "object_position": null,
            "order": null,
            "overflow": null,
            "overflow_x": null,
            "overflow_y": null,
            "padding": null,
            "right": null,
            "top": null,
            "visibility": null,
            "width": null
          }
        },
        "678b609ba5804e848a82018581a71e75": {
          "model_module": "@jupyter-widgets/controls",
          "model_name": "DescriptionStyleModel",
          "model_module_version": "1.5.0",
          "state": {
            "_model_module": "@jupyter-widgets/controls",
            "_model_module_version": "1.5.0",
            "_model_name": "DescriptionStyleModel",
            "_view_count": null,
            "_view_module": "@jupyter-widgets/base",
            "_view_module_version": "1.2.0",
            "_view_name": "StyleView",
            "description_width": ""
          }
        },
        "48dbd2aa70df4145bac37b9da0147f67": {
          "model_module": "@jupyter-widgets/controls",
          "model_name": "HBoxModel",
          "model_module_version": "1.5.0",
          "state": {
            "_dom_classes": [],
            "_model_module": "@jupyter-widgets/controls",
            "_model_module_version": "1.5.0",
            "_model_name": "HBoxModel",
            "_view_count": null,
            "_view_module": "@jupyter-widgets/controls",
            "_view_module_version": "1.5.0",
            "_view_name": "HBoxView",
            "box_style": "",
            "children": [
              "IPY_MODEL_02213d76b41044de9f59774b16303deb",
              "IPY_MODEL_745c806b272a437b93ee2e5895b5a5e9",
              "IPY_MODEL_44bc1bcd3d9546339ece5a974dfb60fa"
            ],
            "layout": "IPY_MODEL_4986ae3044774b9ca7b86239d478ddef"
          }
        },
        "02213d76b41044de9f59774b16303deb": {
          "model_module": "@jupyter-widgets/controls",
          "model_name": "HTMLModel",
          "model_module_version": "1.5.0",
          "state": {
            "_dom_classes": [],
            "_model_module": "@jupyter-widgets/controls",
            "_model_module_version": "1.5.0",
            "_model_name": "HTMLModel",
            "_view_count": null,
            "_view_module": "@jupyter-widgets/controls",
            "_view_module_version": "1.5.0",
            "_view_name": "HTMLView",
            "description": "",
            "description_tooltip": null,
            "layout": "IPY_MODEL_f8d37494aee74cbabd9f61c516d4ad5f",
            "placeholder": "​",
            "style": "IPY_MODEL_95a37f1b902941248790a0a710f01d3c",
            "value": "Shuffling /root/tensorflow_datasets/imdb_reviews/plain_text/1.0.0.incomplete5ZM36W/imdb_reviews-test.tfrecord*...:  76%"
          }
        },
        "745c806b272a437b93ee2e5895b5a5e9": {
          "model_module": "@jupyter-widgets/controls",
          "model_name": "FloatProgressModel",
          "model_module_version": "1.5.0",
          "state": {
            "_dom_classes": [],
            "_model_module": "@jupyter-widgets/controls",
            "_model_module_version": "1.5.0",
            "_model_name": "FloatProgressModel",
            "_view_count": null,
            "_view_module": "@jupyter-widgets/controls",
            "_view_module_version": "1.5.0",
            "_view_name": "ProgressView",
            "bar_style": "",
            "description": "",
            "description_tooltip": null,
            "layout": "IPY_MODEL_724049e517594bf98b9d72b2e51ac6ac",
            "max": 25000,
            "min": 0,
            "orientation": "horizontal",
            "style": "IPY_MODEL_0dbeefe357114c9799195c44b5a11102",
            "value": 25000
          }
        },
        "44bc1bcd3d9546339ece5a974dfb60fa": {
          "model_module": "@jupyter-widgets/controls",
          "model_name": "HTMLModel",
          "model_module_version": "1.5.0",
          "state": {
            "_dom_classes": [],
            "_model_module": "@jupyter-widgets/controls",
            "_model_module_version": "1.5.0",
            "_model_name": "HTMLModel",
            "_view_count": null,
            "_view_module": "@jupyter-widgets/controls",
            "_view_module_version": "1.5.0",
            "_view_name": "HTMLView",
            "description": "",
            "description_tooltip": null,
            "layout": "IPY_MODEL_b74683eaa05d499dbaac900d9837f325",
            "placeholder": "​",
            "style": "IPY_MODEL_9856dd30484d40048060df454d5fa368",
            "value": " 19121/25000 [00:00&lt;00:00, 106199.73 examples/s]"
          }
        },
        "4986ae3044774b9ca7b86239d478ddef": {
          "model_module": "@jupyter-widgets/base",
          "model_name": "LayoutModel",
          "model_module_version": "1.2.0",
          "state": {
            "_model_module": "@jupyter-widgets/base",
            "_model_module_version": "1.2.0",
            "_model_name": "LayoutModel",
            "_view_count": null,
            "_view_module": "@jupyter-widgets/base",
            "_view_module_version": "1.2.0",
            "_view_name": "LayoutView",
            "align_content": null,
            "align_items": null,
            "align_self": null,
            "border": null,
            "bottom": null,
            "display": null,
            "flex": null,
            "flex_flow": null,
            "grid_area": null,
            "grid_auto_columns": null,
            "grid_auto_flow": null,
            "grid_auto_rows": null,
            "grid_column": null,
            "grid_gap": null,
            "grid_row": null,
            "grid_template_areas": null,
            "grid_template_columns": null,
            "grid_template_rows": null,
            "height": null,
            "justify_content": null,
            "justify_items": null,
            "left": null,
            "margin": null,
            "max_height": null,
            "max_width": null,
            "min_height": null,
            "min_width": null,
            "object_fit": null,
            "object_position": null,
            "order": null,
            "overflow": null,
            "overflow_x": null,
            "overflow_y": null,
            "padding": null,
            "right": null,
            "top": null,
            "visibility": "hidden",
            "width": null
          }
        },
        "f8d37494aee74cbabd9f61c516d4ad5f": {
          "model_module": "@jupyter-widgets/base",
          "model_name": "LayoutModel",
          "model_module_version": "1.2.0",
          "state": {
            "_model_module": "@jupyter-widgets/base",
            "_model_module_version": "1.2.0",
            "_model_name": "LayoutModel",
            "_view_count": null,
            "_view_module": "@jupyter-widgets/base",
            "_view_module_version": "1.2.0",
            "_view_name": "LayoutView",
            "align_content": null,
            "align_items": null,
            "align_self": null,
            "border": null,
            "bottom": null,
            "display": null,
            "flex": null,
            "flex_flow": null,
            "grid_area": null,
            "grid_auto_columns": null,
            "grid_auto_flow": null,
            "grid_auto_rows": null,
            "grid_column": null,
            "grid_gap": null,
            "grid_row": null,
            "grid_template_areas": null,
            "grid_template_columns": null,
            "grid_template_rows": null,
            "height": null,
            "justify_content": null,
            "justify_items": null,
            "left": null,
            "margin": null,
            "max_height": null,
            "max_width": null,
            "min_height": null,
            "min_width": null,
            "object_fit": null,
            "object_position": null,
            "order": null,
            "overflow": null,
            "overflow_x": null,
            "overflow_y": null,
            "padding": null,
            "right": null,
            "top": null,
            "visibility": null,
            "width": null
          }
        },
        "95a37f1b902941248790a0a710f01d3c": {
          "model_module": "@jupyter-widgets/controls",
          "model_name": "DescriptionStyleModel",
          "model_module_version": "1.5.0",
          "state": {
            "_model_module": "@jupyter-widgets/controls",
            "_model_module_version": "1.5.0",
            "_model_name": "DescriptionStyleModel",
            "_view_count": null,
            "_view_module": "@jupyter-widgets/base",
            "_view_module_version": "1.2.0",
            "_view_name": "StyleView",
            "description_width": ""
          }
        },
        "724049e517594bf98b9d72b2e51ac6ac": {
          "model_module": "@jupyter-widgets/base",
          "model_name": "LayoutModel",
          "model_module_version": "1.2.0",
          "state": {
            "_model_module": "@jupyter-widgets/base",
            "_model_module_version": "1.2.0",
            "_model_name": "LayoutModel",
            "_view_count": null,
            "_view_module": "@jupyter-widgets/base",
            "_view_module_version": "1.2.0",
            "_view_name": "LayoutView",
            "align_content": null,
            "align_items": null,
            "align_self": null,
            "border": null,
            "bottom": null,
            "display": null,
            "flex": null,
            "flex_flow": null,
            "grid_area": null,
            "grid_auto_columns": null,
            "grid_auto_flow": null,
            "grid_auto_rows": null,
            "grid_column": null,
            "grid_gap": null,
            "grid_row": null,
            "grid_template_areas": null,
            "grid_template_columns": null,
            "grid_template_rows": null,
            "height": null,
            "justify_content": null,
            "justify_items": null,
            "left": null,
            "margin": null,
            "max_height": null,
            "max_width": null,
            "min_height": null,
            "min_width": null,
            "object_fit": null,
            "object_position": null,
            "order": null,
            "overflow": null,
            "overflow_x": null,
            "overflow_y": null,
            "padding": null,
            "right": null,
            "top": null,
            "visibility": null,
            "width": null
          }
        },
        "0dbeefe357114c9799195c44b5a11102": {
          "model_module": "@jupyter-widgets/controls",
          "model_name": "ProgressStyleModel",
          "model_module_version": "1.5.0",
          "state": {
            "_model_module": "@jupyter-widgets/controls",
            "_model_module_version": "1.5.0",
            "_model_name": "ProgressStyleModel",
            "_view_count": null,
            "_view_module": "@jupyter-widgets/base",
            "_view_module_version": "1.2.0",
            "_view_name": "StyleView",
            "bar_color": null,
            "description_width": ""
          }
        },
        "b74683eaa05d499dbaac900d9837f325": {
          "model_module": "@jupyter-widgets/base",
          "model_name": "LayoutModel",
          "model_module_version": "1.2.0",
          "state": {
            "_model_module": "@jupyter-widgets/base",
            "_model_module_version": "1.2.0",
            "_model_name": "LayoutModel",
            "_view_count": null,
            "_view_module": "@jupyter-widgets/base",
            "_view_module_version": "1.2.0",
            "_view_name": "LayoutView",
            "align_content": null,
            "align_items": null,
            "align_self": null,
            "border": null,
            "bottom": null,
            "display": null,
            "flex": null,
            "flex_flow": null,
            "grid_area": null,
            "grid_auto_columns": null,
            "grid_auto_flow": null,
            "grid_auto_rows": null,
            "grid_column": null,
            "grid_gap": null,
            "grid_row": null,
            "grid_template_areas": null,
            "grid_template_columns": null,
            "grid_template_rows": null,
            "height": null,
            "justify_content": null,
            "justify_items": null,
            "left": null,
            "margin": null,
            "max_height": null,
            "max_width": null,
            "min_height": null,
            "min_width": null,
            "object_fit": null,
            "object_position": null,
            "order": null,
            "overflow": null,
            "overflow_x": null,
            "overflow_y": null,
            "padding": null,
            "right": null,
            "top": null,
            "visibility": null,
            "width": null
          }
        },
        "9856dd30484d40048060df454d5fa368": {
          "model_module": "@jupyter-widgets/controls",
          "model_name": "DescriptionStyleModel",
          "model_module_version": "1.5.0",
          "state": {
            "_model_module": "@jupyter-widgets/controls",
            "_model_module_version": "1.5.0",
            "_model_name": "DescriptionStyleModel",
            "_view_count": null,
            "_view_module": "@jupyter-widgets/base",
            "_view_module_version": "1.2.0",
            "_view_name": "StyleView",
            "description_width": ""
          }
        },
        "a067dcac17d24bf182b6d4c9703adb1c": {
          "model_module": "@jupyter-widgets/controls",
          "model_name": "HBoxModel",
          "model_module_version": "1.5.0",
          "state": {
            "_dom_classes": [],
            "_model_module": "@jupyter-widgets/controls",
            "_model_module_version": "1.5.0",
            "_model_name": "HBoxModel",
            "_view_count": null,
            "_view_module": "@jupyter-widgets/controls",
            "_view_module_version": "1.5.0",
            "_view_name": "HBoxView",
            "box_style": "",
            "children": [
              "IPY_MODEL_d5f660f39002400289c29245d42e15c3",
              "IPY_MODEL_12f03d2d44f64721bf125f07ca632380",
              "IPY_MODEL_d05476b7e6cb4848b36f24930afd00f9"
            ],
            "layout": "IPY_MODEL_9ec122d7774145fbb7a0f9e51fb02335"
          }
        },
        "d5f660f39002400289c29245d42e15c3": {
          "model_module": "@jupyter-widgets/controls",
          "model_name": "HTMLModel",
          "model_module_version": "1.5.0",
          "state": {
            "_dom_classes": [],
            "_model_module": "@jupyter-widgets/controls",
            "_model_module_version": "1.5.0",
            "_model_name": "HTMLModel",
            "_view_count": null,
            "_view_module": "@jupyter-widgets/controls",
            "_view_module_version": "1.5.0",
            "_view_name": "HTMLView",
            "description": "",
            "description_tooltip": null,
            "layout": "IPY_MODEL_833221139bfa4f86bf77f44980ad2995",
            "placeholder": "​",
            "style": "IPY_MODEL_5a759fa1303b49ad80098307b588aa60",
            "value": "Generating unsupervised examples...:  99%"
          }
        },
        "12f03d2d44f64721bf125f07ca632380": {
          "model_module": "@jupyter-widgets/controls",
          "model_name": "FloatProgressModel",
          "model_module_version": "1.5.0",
          "state": {
            "_dom_classes": [],
            "_model_module": "@jupyter-widgets/controls",
            "_model_module_version": "1.5.0",
            "_model_name": "FloatProgressModel",
            "_view_count": null,
            "_view_module": "@jupyter-widgets/controls",
            "_view_module_version": "1.5.0",
            "_view_name": "ProgressView",
            "bar_style": "",
            "description": "",
            "description_tooltip": null,
            "layout": "IPY_MODEL_7ac37c924fc64dea803414e3cefdf4fe",
            "max": 50000,
            "min": 0,
            "orientation": "horizontal",
            "style": "IPY_MODEL_4a02267f524849279993f2779dddfc29",
            "value": 50000
          }
        },
        "d05476b7e6cb4848b36f24930afd00f9": {
          "model_module": "@jupyter-widgets/controls",
          "model_name": "HTMLModel",
          "model_module_version": "1.5.0",
          "state": {
            "_dom_classes": [],
            "_model_module": "@jupyter-widgets/controls",
            "_model_module_version": "1.5.0",
            "_model_name": "HTMLModel",
            "_view_count": null,
            "_view_module": "@jupyter-widgets/controls",
            "_view_module_version": "1.5.0",
            "_view_name": "HTMLView",
            "description": "",
            "description_tooltip": null,
            "layout": "IPY_MODEL_bbac2223e5d047acaef90db6d9a90c82",
            "placeholder": "​",
            "style": "IPY_MODEL_c38e4dd347cb46ea8b2ff035964b9912",
            "value": " 49510/50000 [00:15&lt;00:00, 5599.71 examples/s]"
          }
        },
        "9ec122d7774145fbb7a0f9e51fb02335": {
          "model_module": "@jupyter-widgets/base",
          "model_name": "LayoutModel",
          "model_module_version": "1.2.0",
          "state": {
            "_model_module": "@jupyter-widgets/base",
            "_model_module_version": "1.2.0",
            "_model_name": "LayoutModel",
            "_view_count": null,
            "_view_module": "@jupyter-widgets/base",
            "_view_module_version": "1.2.0",
            "_view_name": "LayoutView",
            "align_content": null,
            "align_items": null,
            "align_self": null,
            "border": null,
            "bottom": null,
            "display": null,
            "flex": null,
            "flex_flow": null,
            "grid_area": null,
            "grid_auto_columns": null,
            "grid_auto_flow": null,
            "grid_auto_rows": null,
            "grid_column": null,
            "grid_gap": null,
            "grid_row": null,
            "grid_template_areas": null,
            "grid_template_columns": null,
            "grid_template_rows": null,
            "height": null,
            "justify_content": null,
            "justify_items": null,
            "left": null,
            "margin": null,
            "max_height": null,
            "max_width": null,
            "min_height": null,
            "min_width": null,
            "object_fit": null,
            "object_position": null,
            "order": null,
            "overflow": null,
            "overflow_x": null,
            "overflow_y": null,
            "padding": null,
            "right": null,
            "top": null,
            "visibility": "hidden",
            "width": null
          }
        },
        "833221139bfa4f86bf77f44980ad2995": {
          "model_module": "@jupyter-widgets/base",
          "model_name": "LayoutModel",
          "model_module_version": "1.2.0",
          "state": {
            "_model_module": "@jupyter-widgets/base",
            "_model_module_version": "1.2.0",
            "_model_name": "LayoutModel",
            "_view_count": null,
            "_view_module": "@jupyter-widgets/base",
            "_view_module_version": "1.2.0",
            "_view_name": "LayoutView",
            "align_content": null,
            "align_items": null,
            "align_self": null,
            "border": null,
            "bottom": null,
            "display": null,
            "flex": null,
            "flex_flow": null,
            "grid_area": null,
            "grid_auto_columns": null,
            "grid_auto_flow": null,
            "grid_auto_rows": null,
            "grid_column": null,
            "grid_gap": null,
            "grid_row": null,
            "grid_template_areas": null,
            "grid_template_columns": null,
            "grid_template_rows": null,
            "height": null,
            "justify_content": null,
            "justify_items": null,
            "left": null,
            "margin": null,
            "max_height": null,
            "max_width": null,
            "min_height": null,
            "min_width": null,
            "object_fit": null,
            "object_position": null,
            "order": null,
            "overflow": null,
            "overflow_x": null,
            "overflow_y": null,
            "padding": null,
            "right": null,
            "top": null,
            "visibility": null,
            "width": null
          }
        },
        "5a759fa1303b49ad80098307b588aa60": {
          "model_module": "@jupyter-widgets/controls",
          "model_name": "DescriptionStyleModel",
          "model_module_version": "1.5.0",
          "state": {
            "_model_module": "@jupyter-widgets/controls",
            "_model_module_version": "1.5.0",
            "_model_name": "DescriptionStyleModel",
            "_view_count": null,
            "_view_module": "@jupyter-widgets/base",
            "_view_module_version": "1.2.0",
            "_view_name": "StyleView",
            "description_width": ""
          }
        },
        "7ac37c924fc64dea803414e3cefdf4fe": {
          "model_module": "@jupyter-widgets/base",
          "model_name": "LayoutModel",
          "model_module_version": "1.2.0",
          "state": {
            "_model_module": "@jupyter-widgets/base",
            "_model_module_version": "1.2.0",
            "_model_name": "LayoutModel",
            "_view_count": null,
            "_view_module": "@jupyter-widgets/base",
            "_view_module_version": "1.2.0",
            "_view_name": "LayoutView",
            "align_content": null,
            "align_items": null,
            "align_self": null,
            "border": null,
            "bottom": null,
            "display": null,
            "flex": null,
            "flex_flow": null,
            "grid_area": null,
            "grid_auto_columns": null,
            "grid_auto_flow": null,
            "grid_auto_rows": null,
            "grid_column": null,
            "grid_gap": null,
            "grid_row": null,
            "grid_template_areas": null,
            "grid_template_columns": null,
            "grid_template_rows": null,
            "height": null,
            "justify_content": null,
            "justify_items": null,
            "left": null,
            "margin": null,
            "max_height": null,
            "max_width": null,
            "min_height": null,
            "min_width": null,
            "object_fit": null,
            "object_position": null,
            "order": null,
            "overflow": null,
            "overflow_x": null,
            "overflow_y": null,
            "padding": null,
            "right": null,
            "top": null,
            "visibility": null,
            "width": null
          }
        },
        "4a02267f524849279993f2779dddfc29": {
          "model_module": "@jupyter-widgets/controls",
          "model_name": "ProgressStyleModel",
          "model_module_version": "1.5.0",
          "state": {
            "_model_module": "@jupyter-widgets/controls",
            "_model_module_version": "1.5.0",
            "_model_name": "ProgressStyleModel",
            "_view_count": null,
            "_view_module": "@jupyter-widgets/base",
            "_view_module_version": "1.2.0",
            "_view_name": "StyleView",
            "bar_color": null,
            "description_width": ""
          }
        },
        "bbac2223e5d047acaef90db6d9a90c82": {
          "model_module": "@jupyter-widgets/base",
          "model_name": "LayoutModel",
          "model_module_version": "1.2.0",
          "state": {
            "_model_module": "@jupyter-widgets/base",
            "_model_module_version": "1.2.0",
            "_model_name": "LayoutModel",
            "_view_count": null,
            "_view_module": "@jupyter-widgets/base",
            "_view_module_version": "1.2.0",
            "_view_name": "LayoutView",
            "align_content": null,
            "align_items": null,
            "align_self": null,
            "border": null,
            "bottom": null,
            "display": null,
            "flex": null,
            "flex_flow": null,
            "grid_area": null,
            "grid_auto_columns": null,
            "grid_auto_flow": null,
            "grid_auto_rows": null,
            "grid_column": null,
            "grid_gap": null,
            "grid_row": null,
            "grid_template_areas": null,
            "grid_template_columns": null,
            "grid_template_rows": null,
            "height": null,
            "justify_content": null,
            "justify_items": null,
            "left": null,
            "margin": null,
            "max_height": null,
            "max_width": null,
            "min_height": null,
            "min_width": null,
            "object_fit": null,
            "object_position": null,
            "order": null,
            "overflow": null,
            "overflow_x": null,
            "overflow_y": null,
            "padding": null,
            "right": null,
            "top": null,
            "visibility": null,
            "width": null
          }
        },
        "c38e4dd347cb46ea8b2ff035964b9912": {
          "model_module": "@jupyter-widgets/controls",
          "model_name": "DescriptionStyleModel",
          "model_module_version": "1.5.0",
          "state": {
            "_model_module": "@jupyter-widgets/controls",
            "_model_module_version": "1.5.0",
            "_model_name": "DescriptionStyleModel",
            "_view_count": null,
            "_view_module": "@jupyter-widgets/base",
            "_view_module_version": "1.2.0",
            "_view_name": "StyleView",
            "description_width": ""
          }
        },
        "dfc7df145a0e403c9586f2788c4c60d6": {
          "model_module": "@jupyter-widgets/controls",
          "model_name": "HBoxModel",
          "model_module_version": "1.5.0",
          "state": {
            "_dom_classes": [],
            "_model_module": "@jupyter-widgets/controls",
            "_model_module_version": "1.5.0",
            "_model_name": "HBoxModel",
            "_view_count": null,
            "_view_module": "@jupyter-widgets/controls",
            "_view_module_version": "1.5.0",
            "_view_name": "HBoxView",
            "box_style": "",
            "children": [
              "IPY_MODEL_e496f04b6c844228b9024c5f05343037",
              "IPY_MODEL_18b3c5ad50604adc8cb5e4a0915eaf01",
              "IPY_MODEL_b5bd54b273754546990eece96cffd125"
            ],
            "layout": "IPY_MODEL_f3f596e3977740d4838e3c8e7760323b"
          }
        },
        "e496f04b6c844228b9024c5f05343037": {
          "model_module": "@jupyter-widgets/controls",
          "model_name": "HTMLModel",
          "model_module_version": "1.5.0",
          "state": {
            "_dom_classes": [],
            "_model_module": "@jupyter-widgets/controls",
            "_model_module_version": "1.5.0",
            "_model_name": "HTMLModel",
            "_view_count": null,
            "_view_module": "@jupyter-widgets/controls",
            "_view_module_version": "1.5.0",
            "_view_name": "HTMLView",
            "description": "",
            "description_tooltip": null,
            "layout": "IPY_MODEL_01c3d59790ff4f56b6d8299278ee050c",
            "placeholder": "​",
            "style": "IPY_MODEL_21a3b6297a3f4b7daa3d57c278dfb6e7",
            "value": "Shuffling /root/tensorflow_datasets/imdb_reviews/plain_text/1.0.0.incomplete5ZM36W/imdb_reviews-unsupervised.tfrecord*...:  79%"
          }
        },
        "18b3c5ad50604adc8cb5e4a0915eaf01": {
          "model_module": "@jupyter-widgets/controls",
          "model_name": "FloatProgressModel",
          "model_module_version": "1.5.0",
          "state": {
            "_dom_classes": [],
            "_model_module": "@jupyter-widgets/controls",
            "_model_module_version": "1.5.0",
            "_model_name": "FloatProgressModel",
            "_view_count": null,
            "_view_module": "@jupyter-widgets/controls",
            "_view_module_version": "1.5.0",
            "_view_name": "ProgressView",
            "bar_style": "",
            "description": "",
            "description_tooltip": null,
            "layout": "IPY_MODEL_e6d00ab20d8143d8b670b56cbd2bd6b1",
            "max": 50000,
            "min": 0,
            "orientation": "horizontal",
            "style": "IPY_MODEL_0dd02d6142ef42b1b699f236edf99df7",
            "value": 50000
          }
        },
        "b5bd54b273754546990eece96cffd125": {
          "model_module": "@jupyter-widgets/controls",
          "model_name": "HTMLModel",
          "model_module_version": "1.5.0",
          "state": {
            "_dom_classes": [],
            "_model_module": "@jupyter-widgets/controls",
            "_model_module_version": "1.5.0",
            "_model_name": "HTMLModel",
            "_view_count": null,
            "_view_module": "@jupyter-widgets/controls",
            "_view_module_version": "1.5.0",
            "_view_name": "HTMLView",
            "description": "",
            "description_tooltip": null,
            "layout": "IPY_MODEL_746d33a8601f4a2cb6aec60c62c6a3c8",
            "placeholder": "​",
            "style": "IPY_MODEL_e3e3b22da5a6434785162c99c4535ee4",
            "value": " 39313/50000 [00:00&lt;00:00, 211778.07 examples/s]"
          }
        },
        "f3f596e3977740d4838e3c8e7760323b": {
          "model_module": "@jupyter-widgets/base",
          "model_name": "LayoutModel",
          "model_module_version": "1.2.0",
          "state": {
            "_model_module": "@jupyter-widgets/base",
            "_model_module_version": "1.2.0",
            "_model_name": "LayoutModel",
            "_view_count": null,
            "_view_module": "@jupyter-widgets/base",
            "_view_module_version": "1.2.0",
            "_view_name": "LayoutView",
            "align_content": null,
            "align_items": null,
            "align_self": null,
            "border": null,
            "bottom": null,
            "display": null,
            "flex": null,
            "flex_flow": null,
            "grid_area": null,
            "grid_auto_columns": null,
            "grid_auto_flow": null,
            "grid_auto_rows": null,
            "grid_column": null,
            "grid_gap": null,
            "grid_row": null,
            "grid_template_areas": null,
            "grid_template_columns": null,
            "grid_template_rows": null,
            "height": null,
            "justify_content": null,
            "justify_items": null,
            "left": null,
            "margin": null,
            "max_height": null,
            "max_width": null,
            "min_height": null,
            "min_width": null,
            "object_fit": null,
            "object_position": null,
            "order": null,
            "overflow": null,
            "overflow_x": null,
            "overflow_y": null,
            "padding": null,
            "right": null,
            "top": null,
            "visibility": "hidden",
            "width": null
          }
        },
        "01c3d59790ff4f56b6d8299278ee050c": {
          "model_module": "@jupyter-widgets/base",
          "model_name": "LayoutModel",
          "model_module_version": "1.2.0",
          "state": {
            "_model_module": "@jupyter-widgets/base",
            "_model_module_version": "1.2.0",
            "_model_name": "LayoutModel",
            "_view_count": null,
            "_view_module": "@jupyter-widgets/base",
            "_view_module_version": "1.2.0",
            "_view_name": "LayoutView",
            "align_content": null,
            "align_items": null,
            "align_self": null,
            "border": null,
            "bottom": null,
            "display": null,
            "flex": null,
            "flex_flow": null,
            "grid_area": null,
            "grid_auto_columns": null,
            "grid_auto_flow": null,
            "grid_auto_rows": null,
            "grid_column": null,
            "grid_gap": null,
            "grid_row": null,
            "grid_template_areas": null,
            "grid_template_columns": null,
            "grid_template_rows": null,
            "height": null,
            "justify_content": null,
            "justify_items": null,
            "left": null,
            "margin": null,
            "max_height": null,
            "max_width": null,
            "min_height": null,
            "min_width": null,
            "object_fit": null,
            "object_position": null,
            "order": null,
            "overflow": null,
            "overflow_x": null,
            "overflow_y": null,
            "padding": null,
            "right": null,
            "top": null,
            "visibility": null,
            "width": null
          }
        },
        "21a3b6297a3f4b7daa3d57c278dfb6e7": {
          "model_module": "@jupyter-widgets/controls",
          "model_name": "DescriptionStyleModel",
          "model_module_version": "1.5.0",
          "state": {
            "_model_module": "@jupyter-widgets/controls",
            "_model_module_version": "1.5.0",
            "_model_name": "DescriptionStyleModel",
            "_view_count": null,
            "_view_module": "@jupyter-widgets/base",
            "_view_module_version": "1.2.0",
            "_view_name": "StyleView",
            "description_width": ""
          }
        },
        "e6d00ab20d8143d8b670b56cbd2bd6b1": {
          "model_module": "@jupyter-widgets/base",
          "model_name": "LayoutModel",
          "model_module_version": "1.2.0",
          "state": {
            "_model_module": "@jupyter-widgets/base",
            "_model_module_version": "1.2.0",
            "_model_name": "LayoutModel",
            "_view_count": null,
            "_view_module": "@jupyter-widgets/base",
            "_view_module_version": "1.2.0",
            "_view_name": "LayoutView",
            "align_content": null,
            "align_items": null,
            "align_self": null,
            "border": null,
            "bottom": null,
            "display": null,
            "flex": null,
            "flex_flow": null,
            "grid_area": null,
            "grid_auto_columns": null,
            "grid_auto_flow": null,
            "grid_auto_rows": null,
            "grid_column": null,
            "grid_gap": null,
            "grid_row": null,
            "grid_template_areas": null,
            "grid_template_columns": null,
            "grid_template_rows": null,
            "height": null,
            "justify_content": null,
            "justify_items": null,
            "left": null,
            "margin": null,
            "max_height": null,
            "max_width": null,
            "min_height": null,
            "min_width": null,
            "object_fit": null,
            "object_position": null,
            "order": null,
            "overflow": null,
            "overflow_x": null,
            "overflow_y": null,
            "padding": null,
            "right": null,
            "top": null,
            "visibility": null,
            "width": null
          }
        },
        "0dd02d6142ef42b1b699f236edf99df7": {
          "model_module": "@jupyter-widgets/controls",
          "model_name": "ProgressStyleModel",
          "model_module_version": "1.5.0",
          "state": {
            "_model_module": "@jupyter-widgets/controls",
            "_model_module_version": "1.5.0",
            "_model_name": "ProgressStyleModel",
            "_view_count": null,
            "_view_module": "@jupyter-widgets/base",
            "_view_module_version": "1.2.0",
            "_view_name": "StyleView",
            "bar_color": null,
            "description_width": ""
          }
        },
        "746d33a8601f4a2cb6aec60c62c6a3c8": {
          "model_module": "@jupyter-widgets/base",
          "model_name": "LayoutModel",
          "model_module_version": "1.2.0",
          "state": {
            "_model_module": "@jupyter-widgets/base",
            "_model_module_version": "1.2.0",
            "_model_name": "LayoutModel",
            "_view_count": null,
            "_view_module": "@jupyter-widgets/base",
            "_view_module_version": "1.2.0",
            "_view_name": "LayoutView",
            "align_content": null,
            "align_items": null,
            "align_self": null,
            "border": null,
            "bottom": null,
            "display": null,
            "flex": null,
            "flex_flow": null,
            "grid_area": null,
            "grid_auto_columns": null,
            "grid_auto_flow": null,
            "grid_auto_rows": null,
            "grid_column": null,
            "grid_gap": null,
            "grid_row": null,
            "grid_template_areas": null,
            "grid_template_columns": null,
            "grid_template_rows": null,
            "height": null,
            "justify_content": null,
            "justify_items": null,
            "left": null,
            "margin": null,
            "max_height": null,
            "max_width": null,
            "min_height": null,
            "min_width": null,
            "object_fit": null,
            "object_position": null,
            "order": null,
            "overflow": null,
            "overflow_x": null,
            "overflow_y": null,
            "padding": null,
            "right": null,
            "top": null,
            "visibility": null,
            "width": null
          }
        },
        "e3e3b22da5a6434785162c99c4535ee4": {
          "model_module": "@jupyter-widgets/controls",
          "model_name": "DescriptionStyleModel",
          "model_module_version": "1.5.0",
          "state": {
            "_model_module": "@jupyter-widgets/controls",
            "_model_module_version": "1.5.0",
            "_model_name": "DescriptionStyleModel",
            "_view_count": null,
            "_view_module": "@jupyter-widgets/base",
            "_view_module_version": "1.2.0",
            "_view_name": "StyleView",
            "description_width": ""
          }
        },
        "cb89606fc25d48d3967b58a82ed94feb": {
          "model_module": "@jupyter-widgets/controls",
          "model_name": "HBoxModel",
          "model_module_version": "1.5.0",
          "state": {
            "_dom_classes": [],
            "_model_module": "@jupyter-widgets/controls",
            "_model_module_version": "1.5.0",
            "_model_name": "HBoxModel",
            "_view_count": null,
            "_view_module": "@jupyter-widgets/controls",
            "_view_module_version": "1.5.0",
            "_view_name": "HBoxView",
            "box_style": "",
            "children": [
              "IPY_MODEL_36e83cdaa33548999979cbe9b86ef140",
              "IPY_MODEL_c180d6128b6a439a909729687c88c910",
              "IPY_MODEL_d4a0a0f3c2f14c36a0e16b21efeb4dba"
            ],
            "layout": "IPY_MODEL_56558095013a426cbc1b4d3b7e73a25d"
          }
        },
        "36e83cdaa33548999979cbe9b86ef140": {
          "model_module": "@jupyter-widgets/controls",
          "model_name": "HTMLModel",
          "model_module_version": "1.5.0",
          "state": {
            "_dom_classes": [],
            "_model_module": "@jupyter-widgets/controls",
            "_model_module_version": "1.5.0",
            "_model_name": "HTMLModel",
            "_view_count": null,
            "_view_module": "@jupyter-widgets/controls",
            "_view_module_version": "1.5.0",
            "_view_name": "HTMLView",
            "description": "",
            "description_tooltip": null,
            "layout": "IPY_MODEL_435da5ef59bd4600b66c410cbc34d4e2",
            "placeholder": "​",
            "style": "IPY_MODEL_cf0278f69d824de3820ae677157184ac",
            "value": "Downloading (…)solve/main/vocab.txt: 100%"
          }
        },
        "c180d6128b6a439a909729687c88c910": {
          "model_module": "@jupyter-widgets/controls",
          "model_name": "FloatProgressModel",
          "model_module_version": "1.5.0",
          "state": {
            "_dom_classes": [],
            "_model_module": "@jupyter-widgets/controls",
            "_model_module_version": "1.5.0",
            "_model_name": "FloatProgressModel",
            "_view_count": null,
            "_view_module": "@jupyter-widgets/controls",
            "_view_module_version": "1.5.0",
            "_view_name": "ProgressView",
            "bar_style": "success",
            "description": "",
            "description_tooltip": null,
            "layout": "IPY_MODEL_81f75a465d1f49aabbd200ccdf587933",
            "max": 213450,
            "min": 0,
            "orientation": "horizontal",
            "style": "IPY_MODEL_255c58a2b4d74b538f83f15c99408a66",
            "value": 213450
          }
        },
        "d4a0a0f3c2f14c36a0e16b21efeb4dba": {
          "model_module": "@jupyter-widgets/controls",
          "model_name": "HTMLModel",
          "model_module_version": "1.5.0",
          "state": {
            "_dom_classes": [],
            "_model_module": "@jupyter-widgets/controls",
            "_model_module_version": "1.5.0",
            "_model_name": "HTMLModel",
            "_view_count": null,
            "_view_module": "@jupyter-widgets/controls",
            "_view_module_version": "1.5.0",
            "_view_name": "HTMLView",
            "description": "",
            "description_tooltip": null,
            "layout": "IPY_MODEL_3477dd2f7c924ce1873ece3a1cf594e2",
            "placeholder": "​",
            "style": "IPY_MODEL_d0831e1cec5c47ac9f12cad9a9086099",
            "value": " 213k/213k [00:00&lt;00:00, 4.08MB/s]"
          }
        },
        "56558095013a426cbc1b4d3b7e73a25d": {
          "model_module": "@jupyter-widgets/base",
          "model_name": "LayoutModel",
          "model_module_version": "1.2.0",
          "state": {
            "_model_module": "@jupyter-widgets/base",
            "_model_module_version": "1.2.0",
            "_model_name": "LayoutModel",
            "_view_count": null,
            "_view_module": "@jupyter-widgets/base",
            "_view_module_version": "1.2.0",
            "_view_name": "LayoutView",
            "align_content": null,
            "align_items": null,
            "align_self": null,
            "border": null,
            "bottom": null,
            "display": null,
            "flex": null,
            "flex_flow": null,
            "grid_area": null,
            "grid_auto_columns": null,
            "grid_auto_flow": null,
            "grid_auto_rows": null,
            "grid_column": null,
            "grid_gap": null,
            "grid_row": null,
            "grid_template_areas": null,
            "grid_template_columns": null,
            "grid_template_rows": null,
            "height": null,
            "justify_content": null,
            "justify_items": null,
            "left": null,
            "margin": null,
            "max_height": null,
            "max_width": null,
            "min_height": null,
            "min_width": null,
            "object_fit": null,
            "object_position": null,
            "order": null,
            "overflow": null,
            "overflow_x": null,
            "overflow_y": null,
            "padding": null,
            "right": null,
            "top": null,
            "visibility": null,
            "width": null
          }
        },
        "435da5ef59bd4600b66c410cbc34d4e2": {
          "model_module": "@jupyter-widgets/base",
          "model_name": "LayoutModel",
          "model_module_version": "1.2.0",
          "state": {
            "_model_module": "@jupyter-widgets/base",
            "_model_module_version": "1.2.0",
            "_model_name": "LayoutModel",
            "_view_count": null,
            "_view_module": "@jupyter-widgets/base",
            "_view_module_version": "1.2.0",
            "_view_name": "LayoutView",
            "align_content": null,
            "align_items": null,
            "align_self": null,
            "border": null,
            "bottom": null,
            "display": null,
            "flex": null,
            "flex_flow": null,
            "grid_area": null,
            "grid_auto_columns": null,
            "grid_auto_flow": null,
            "grid_auto_rows": null,
            "grid_column": null,
            "grid_gap": null,
            "grid_row": null,
            "grid_template_areas": null,
            "grid_template_columns": null,
            "grid_template_rows": null,
            "height": null,
            "justify_content": null,
            "justify_items": null,
            "left": null,
            "margin": null,
            "max_height": null,
            "max_width": null,
            "min_height": null,
            "min_width": null,
            "object_fit": null,
            "object_position": null,
            "order": null,
            "overflow": null,
            "overflow_x": null,
            "overflow_y": null,
            "padding": null,
            "right": null,
            "top": null,
            "visibility": null,
            "width": null
          }
        },
        "cf0278f69d824de3820ae677157184ac": {
          "model_module": "@jupyter-widgets/controls",
          "model_name": "DescriptionStyleModel",
          "model_module_version": "1.5.0",
          "state": {
            "_model_module": "@jupyter-widgets/controls",
            "_model_module_version": "1.5.0",
            "_model_name": "DescriptionStyleModel",
            "_view_count": null,
            "_view_module": "@jupyter-widgets/base",
            "_view_module_version": "1.2.0",
            "_view_name": "StyleView",
            "description_width": ""
          }
        },
        "81f75a465d1f49aabbd200ccdf587933": {
          "model_module": "@jupyter-widgets/base",
          "model_name": "LayoutModel",
          "model_module_version": "1.2.0",
          "state": {
            "_model_module": "@jupyter-widgets/base",
            "_model_module_version": "1.2.0",
            "_model_name": "LayoutModel",
            "_view_count": null,
            "_view_module": "@jupyter-widgets/base",
            "_view_module_version": "1.2.0",
            "_view_name": "LayoutView",
            "align_content": null,
            "align_items": null,
            "align_self": null,
            "border": null,
            "bottom": null,
            "display": null,
            "flex": null,
            "flex_flow": null,
            "grid_area": null,
            "grid_auto_columns": null,
            "grid_auto_flow": null,
            "grid_auto_rows": null,
            "grid_column": null,
            "grid_gap": null,
            "grid_row": null,
            "grid_template_areas": null,
            "grid_template_columns": null,
            "grid_template_rows": null,
            "height": null,
            "justify_content": null,
            "justify_items": null,
            "left": null,
            "margin": null,
            "max_height": null,
            "max_width": null,
            "min_height": null,
            "min_width": null,
            "object_fit": null,
            "object_position": null,
            "order": null,
            "overflow": null,
            "overflow_x": null,
            "overflow_y": null,
            "padding": null,
            "right": null,
            "top": null,
            "visibility": null,
            "width": null
          }
        },
        "255c58a2b4d74b538f83f15c99408a66": {
          "model_module": "@jupyter-widgets/controls",
          "model_name": "ProgressStyleModel",
          "model_module_version": "1.5.0",
          "state": {
            "_model_module": "@jupyter-widgets/controls",
            "_model_module_version": "1.5.0",
            "_model_name": "ProgressStyleModel",
            "_view_count": null,
            "_view_module": "@jupyter-widgets/base",
            "_view_module_version": "1.2.0",
            "_view_name": "StyleView",
            "bar_color": null,
            "description_width": ""
          }
        },
        "3477dd2f7c924ce1873ece3a1cf594e2": {
          "model_module": "@jupyter-widgets/base",
          "model_name": "LayoutModel",
          "model_module_version": "1.2.0",
          "state": {
            "_model_module": "@jupyter-widgets/base",
            "_model_module_version": "1.2.0",
            "_model_name": "LayoutModel",
            "_view_count": null,
            "_view_module": "@jupyter-widgets/base",
            "_view_module_version": "1.2.0",
            "_view_name": "LayoutView",
            "align_content": null,
            "align_items": null,
            "align_self": null,
            "border": null,
            "bottom": null,
            "display": null,
            "flex": null,
            "flex_flow": null,
            "grid_area": null,
            "grid_auto_columns": null,
            "grid_auto_flow": null,
            "grid_auto_rows": null,
            "grid_column": null,
            "grid_gap": null,
            "grid_row": null,
            "grid_template_areas": null,
            "grid_template_columns": null,
            "grid_template_rows": null,
            "height": null,
            "justify_content": null,
            "justify_items": null,
            "left": null,
            "margin": null,
            "max_height": null,
            "max_width": null,
            "min_height": null,
            "min_width": null,
            "object_fit": null,
            "object_position": null,
            "order": null,
            "overflow": null,
            "overflow_x": null,
            "overflow_y": null,
            "padding": null,
            "right": null,
            "top": null,
            "visibility": null,
            "width": null
          }
        },
        "d0831e1cec5c47ac9f12cad9a9086099": {
          "model_module": "@jupyter-widgets/controls",
          "model_name": "DescriptionStyleModel",
          "model_module_version": "1.5.0",
          "state": {
            "_model_module": "@jupyter-widgets/controls",
            "_model_module_version": "1.5.0",
            "_model_name": "DescriptionStyleModel",
            "_view_count": null,
            "_view_module": "@jupyter-widgets/base",
            "_view_module_version": "1.2.0",
            "_view_name": "StyleView",
            "description_width": ""
          }
        },
        "88cb4a6c51bb42cfbdec07cacefd40b7": {
          "model_module": "@jupyter-widgets/controls",
          "model_name": "HBoxModel",
          "model_module_version": "1.5.0",
          "state": {
            "_dom_classes": [],
            "_model_module": "@jupyter-widgets/controls",
            "_model_module_version": "1.5.0",
            "_model_name": "HBoxModel",
            "_view_count": null,
            "_view_module": "@jupyter-widgets/controls",
            "_view_module_version": "1.5.0",
            "_view_name": "HBoxView",
            "box_style": "",
            "children": [
              "IPY_MODEL_ea09b5d1c41c45af94c4903d0eb5db3a",
              "IPY_MODEL_e6ebc7a1bcb04f27803343eef054abb3",
              "IPY_MODEL_a57935d980a14a329c46eadf6c806f9b"
            ],
            "layout": "IPY_MODEL_0bdc62566e244f0f8daeb47f62368937"
          }
        },
        "ea09b5d1c41c45af94c4903d0eb5db3a": {
          "model_module": "@jupyter-widgets/controls",
          "model_name": "HTMLModel",
          "model_module_version": "1.5.0",
          "state": {
            "_dom_classes": [],
            "_model_module": "@jupyter-widgets/controls",
            "_model_module_version": "1.5.0",
            "_model_name": "HTMLModel",
            "_view_count": null,
            "_view_module": "@jupyter-widgets/controls",
            "_view_module_version": "1.5.0",
            "_view_name": "HTMLView",
            "description": "",
            "description_tooltip": null,
            "layout": "IPY_MODEL_8a6150b3e8de4627ae1fedfff6c0735e",
            "placeholder": "​",
            "style": "IPY_MODEL_5ca1e7c66add40329d86d1cf895ddd0c",
            "value": "Downloading (…)okenizer_config.json: 100%"
          }
        },
        "e6ebc7a1bcb04f27803343eef054abb3": {
          "model_module": "@jupyter-widgets/controls",
          "model_name": "FloatProgressModel",
          "model_module_version": "1.5.0",
          "state": {
            "_dom_classes": [],
            "_model_module": "@jupyter-widgets/controls",
            "_model_module_version": "1.5.0",
            "_model_name": "FloatProgressModel",
            "_view_count": null,
            "_view_module": "@jupyter-widgets/controls",
            "_view_module_version": "1.5.0",
            "_view_name": "ProgressView",
            "bar_style": "success",
            "description": "",
            "description_tooltip": null,
            "layout": "IPY_MODEL_398c693559e94bba8edcc135061aa7b0",
            "max": 29,
            "min": 0,
            "orientation": "horizontal",
            "style": "IPY_MODEL_263080a824fb441e94acb9ed5f3e9877",
            "value": 29
          }
        },
        "a57935d980a14a329c46eadf6c806f9b": {
          "model_module": "@jupyter-widgets/controls",
          "model_name": "HTMLModel",
          "model_module_version": "1.5.0",
          "state": {
            "_dom_classes": [],
            "_model_module": "@jupyter-widgets/controls",
            "_model_module_version": "1.5.0",
            "_model_name": "HTMLModel",
            "_view_count": null,
            "_view_module": "@jupyter-widgets/controls",
            "_view_module_version": "1.5.0",
            "_view_name": "HTMLView",
            "description": "",
            "description_tooltip": null,
            "layout": "IPY_MODEL_16715cf884e743b5a7e4227fa601ecc4",
            "placeholder": "​",
            "style": "IPY_MODEL_24c0340c6d7848039e3783e2ded3585e",
            "value": " 29.0/29.0 [00:00&lt;00:00, 1.70kB/s]"
          }
        },
        "0bdc62566e244f0f8daeb47f62368937": {
          "model_module": "@jupyter-widgets/base",
          "model_name": "LayoutModel",
          "model_module_version": "1.2.0",
          "state": {
            "_model_module": "@jupyter-widgets/base",
            "_model_module_version": "1.2.0",
            "_model_name": "LayoutModel",
            "_view_count": null,
            "_view_module": "@jupyter-widgets/base",
            "_view_module_version": "1.2.0",
            "_view_name": "LayoutView",
            "align_content": null,
            "align_items": null,
            "align_self": null,
            "border": null,
            "bottom": null,
            "display": null,
            "flex": null,
            "flex_flow": null,
            "grid_area": null,
            "grid_auto_columns": null,
            "grid_auto_flow": null,
            "grid_auto_rows": null,
            "grid_column": null,
            "grid_gap": null,
            "grid_row": null,
            "grid_template_areas": null,
            "grid_template_columns": null,
            "grid_template_rows": null,
            "height": null,
            "justify_content": null,
            "justify_items": null,
            "left": null,
            "margin": null,
            "max_height": null,
            "max_width": null,
            "min_height": null,
            "min_width": null,
            "object_fit": null,
            "object_position": null,
            "order": null,
            "overflow": null,
            "overflow_x": null,
            "overflow_y": null,
            "padding": null,
            "right": null,
            "top": null,
            "visibility": null,
            "width": null
          }
        },
        "8a6150b3e8de4627ae1fedfff6c0735e": {
          "model_module": "@jupyter-widgets/base",
          "model_name": "LayoutModel",
          "model_module_version": "1.2.0",
          "state": {
            "_model_module": "@jupyter-widgets/base",
            "_model_module_version": "1.2.0",
            "_model_name": "LayoutModel",
            "_view_count": null,
            "_view_module": "@jupyter-widgets/base",
            "_view_module_version": "1.2.0",
            "_view_name": "LayoutView",
            "align_content": null,
            "align_items": null,
            "align_self": null,
            "border": null,
            "bottom": null,
            "display": null,
            "flex": null,
            "flex_flow": null,
            "grid_area": null,
            "grid_auto_columns": null,
            "grid_auto_flow": null,
            "grid_auto_rows": null,
            "grid_column": null,
            "grid_gap": null,
            "grid_row": null,
            "grid_template_areas": null,
            "grid_template_columns": null,
            "grid_template_rows": null,
            "height": null,
            "justify_content": null,
            "justify_items": null,
            "left": null,
            "margin": null,
            "max_height": null,
            "max_width": null,
            "min_height": null,
            "min_width": null,
            "object_fit": null,
            "object_position": null,
            "order": null,
            "overflow": null,
            "overflow_x": null,
            "overflow_y": null,
            "padding": null,
            "right": null,
            "top": null,
            "visibility": null,
            "width": null
          }
        },
        "5ca1e7c66add40329d86d1cf895ddd0c": {
          "model_module": "@jupyter-widgets/controls",
          "model_name": "DescriptionStyleModel",
          "model_module_version": "1.5.0",
          "state": {
            "_model_module": "@jupyter-widgets/controls",
            "_model_module_version": "1.5.0",
            "_model_name": "DescriptionStyleModel",
            "_view_count": null,
            "_view_module": "@jupyter-widgets/base",
            "_view_module_version": "1.2.0",
            "_view_name": "StyleView",
            "description_width": ""
          }
        },
        "398c693559e94bba8edcc135061aa7b0": {
          "model_module": "@jupyter-widgets/base",
          "model_name": "LayoutModel",
          "model_module_version": "1.2.0",
          "state": {
            "_model_module": "@jupyter-widgets/base",
            "_model_module_version": "1.2.0",
            "_model_name": "LayoutModel",
            "_view_count": null,
            "_view_module": "@jupyter-widgets/base",
            "_view_module_version": "1.2.0",
            "_view_name": "LayoutView",
            "align_content": null,
            "align_items": null,
            "align_self": null,
            "border": null,
            "bottom": null,
            "display": null,
            "flex": null,
            "flex_flow": null,
            "grid_area": null,
            "grid_auto_columns": null,
            "grid_auto_flow": null,
            "grid_auto_rows": null,
            "grid_column": null,
            "grid_gap": null,
            "grid_row": null,
            "grid_template_areas": null,
            "grid_template_columns": null,
            "grid_template_rows": null,
            "height": null,
            "justify_content": null,
            "justify_items": null,
            "left": null,
            "margin": null,
            "max_height": null,
            "max_width": null,
            "min_height": null,
            "min_width": null,
            "object_fit": null,
            "object_position": null,
            "order": null,
            "overflow": null,
            "overflow_x": null,
            "overflow_y": null,
            "padding": null,
            "right": null,
            "top": null,
            "visibility": null,
            "width": null
          }
        },
        "263080a824fb441e94acb9ed5f3e9877": {
          "model_module": "@jupyter-widgets/controls",
          "model_name": "ProgressStyleModel",
          "model_module_version": "1.5.0",
          "state": {
            "_model_module": "@jupyter-widgets/controls",
            "_model_module_version": "1.5.0",
            "_model_name": "ProgressStyleModel",
            "_view_count": null,
            "_view_module": "@jupyter-widgets/base",
            "_view_module_version": "1.2.0",
            "_view_name": "StyleView",
            "bar_color": null,
            "description_width": ""
          }
        },
        "16715cf884e743b5a7e4227fa601ecc4": {
          "model_module": "@jupyter-widgets/base",
          "model_name": "LayoutModel",
          "model_module_version": "1.2.0",
          "state": {
            "_model_module": "@jupyter-widgets/base",
            "_model_module_version": "1.2.0",
            "_model_name": "LayoutModel",
            "_view_count": null,
            "_view_module": "@jupyter-widgets/base",
            "_view_module_version": "1.2.0",
            "_view_name": "LayoutView",
            "align_content": null,
            "align_items": null,
            "align_self": null,
            "border": null,
            "bottom": null,
            "display": null,
            "flex": null,
            "flex_flow": null,
            "grid_area": null,
            "grid_auto_columns": null,
            "grid_auto_flow": null,
            "grid_auto_rows": null,
            "grid_column": null,
            "grid_gap": null,
            "grid_row": null,
            "grid_template_areas": null,
            "grid_template_columns": null,
            "grid_template_rows": null,
            "height": null,
            "justify_content": null,
            "justify_items": null,
            "left": null,
            "margin": null,
            "max_height": null,
            "max_width": null,
            "min_height": null,
            "min_width": null,
            "object_fit": null,
            "object_position": null,
            "order": null,
            "overflow": null,
            "overflow_x": null,
            "overflow_y": null,
            "padding": null,
            "right": null,
            "top": null,
            "visibility": null,
            "width": null
          }
        },
        "24c0340c6d7848039e3783e2ded3585e": {
          "model_module": "@jupyter-widgets/controls",
          "model_name": "DescriptionStyleModel",
          "model_module_version": "1.5.0",
          "state": {
            "_model_module": "@jupyter-widgets/controls",
            "_model_module_version": "1.5.0",
            "_model_name": "DescriptionStyleModel",
            "_view_count": null,
            "_view_module": "@jupyter-widgets/base",
            "_view_module_version": "1.2.0",
            "_view_name": "StyleView",
            "description_width": ""
          }
        },
        "02979c4c5fd34dcea1995111dcaa8ca1": {
          "model_module": "@jupyter-widgets/controls",
          "model_name": "HBoxModel",
          "model_module_version": "1.5.0",
          "state": {
            "_dom_classes": [],
            "_model_module": "@jupyter-widgets/controls",
            "_model_module_version": "1.5.0",
            "_model_name": "HBoxModel",
            "_view_count": null,
            "_view_module": "@jupyter-widgets/controls",
            "_view_module_version": "1.5.0",
            "_view_name": "HBoxView",
            "box_style": "",
            "children": [
              "IPY_MODEL_e9b8674aa1fb455c893d4c74feeb46a3",
              "IPY_MODEL_672f9dae4dce473487456e57ca098f44",
              "IPY_MODEL_1c097738df0e4e9aa08a4600cc8fc683"
            ],
            "layout": "IPY_MODEL_ec26f2f2cdc04073b8e2f598d37d1697"
          }
        },
        "e9b8674aa1fb455c893d4c74feeb46a3": {
          "model_module": "@jupyter-widgets/controls",
          "model_name": "HTMLModel",
          "model_module_version": "1.5.0",
          "state": {
            "_dom_classes": [],
            "_model_module": "@jupyter-widgets/controls",
            "_model_module_version": "1.5.0",
            "_model_name": "HTMLModel",
            "_view_count": null,
            "_view_module": "@jupyter-widgets/controls",
            "_view_module_version": "1.5.0",
            "_view_name": "HTMLView",
            "description": "",
            "description_tooltip": null,
            "layout": "IPY_MODEL_e6d99654445148b1b9b8725298dcc7ff",
            "placeholder": "​",
            "style": "IPY_MODEL_6ae21efc7ade476094b5d12fec3c3315",
            "value": "Downloading (…)lve/main/config.json: 100%"
          }
        },
        "672f9dae4dce473487456e57ca098f44": {
          "model_module": "@jupyter-widgets/controls",
          "model_name": "FloatProgressModel",
          "model_module_version": "1.5.0",
          "state": {
            "_dom_classes": [],
            "_model_module": "@jupyter-widgets/controls",
            "_model_module_version": "1.5.0",
            "_model_name": "FloatProgressModel",
            "_view_count": null,
            "_view_module": "@jupyter-widgets/controls",
            "_view_module_version": "1.5.0",
            "_view_name": "ProgressView",
            "bar_style": "success",
            "description": "",
            "description_tooltip": null,
            "layout": "IPY_MODEL_fccce8f9320b427390502e87fe4e7cd5",
            "max": 570,
            "min": 0,
            "orientation": "horizontal",
            "style": "IPY_MODEL_f960d3c1d2c54641bb1813b24ee7d6b6",
            "value": 570
          }
        },
        "1c097738df0e4e9aa08a4600cc8fc683": {
          "model_module": "@jupyter-widgets/controls",
          "model_name": "HTMLModel",
          "model_module_version": "1.5.0",
          "state": {
            "_dom_classes": [],
            "_model_module": "@jupyter-widgets/controls",
            "_model_module_version": "1.5.0",
            "_model_name": "HTMLModel",
            "_view_count": null,
            "_view_module": "@jupyter-widgets/controls",
            "_view_module_version": "1.5.0",
            "_view_name": "HTMLView",
            "description": "",
            "description_tooltip": null,
            "layout": "IPY_MODEL_6c647fd6fa4e438c88e316486d9fe1a8",
            "placeholder": "​",
            "style": "IPY_MODEL_66355ad588444be191a6aa1a528cb65a",
            "value": " 570/570 [00:00&lt;00:00, 43.1kB/s]"
          }
        },
        "ec26f2f2cdc04073b8e2f598d37d1697": {
          "model_module": "@jupyter-widgets/base",
          "model_name": "LayoutModel",
          "model_module_version": "1.2.0",
          "state": {
            "_model_module": "@jupyter-widgets/base",
            "_model_module_version": "1.2.0",
            "_model_name": "LayoutModel",
            "_view_count": null,
            "_view_module": "@jupyter-widgets/base",
            "_view_module_version": "1.2.0",
            "_view_name": "LayoutView",
            "align_content": null,
            "align_items": null,
            "align_self": null,
            "border": null,
            "bottom": null,
            "display": null,
            "flex": null,
            "flex_flow": null,
            "grid_area": null,
            "grid_auto_columns": null,
            "grid_auto_flow": null,
            "grid_auto_rows": null,
            "grid_column": null,
            "grid_gap": null,
            "grid_row": null,
            "grid_template_areas": null,
            "grid_template_columns": null,
            "grid_template_rows": null,
            "height": null,
            "justify_content": null,
            "justify_items": null,
            "left": null,
            "margin": null,
            "max_height": null,
            "max_width": null,
            "min_height": null,
            "min_width": null,
            "object_fit": null,
            "object_position": null,
            "order": null,
            "overflow": null,
            "overflow_x": null,
            "overflow_y": null,
            "padding": null,
            "right": null,
            "top": null,
            "visibility": null,
            "width": null
          }
        },
        "e6d99654445148b1b9b8725298dcc7ff": {
          "model_module": "@jupyter-widgets/base",
          "model_name": "LayoutModel",
          "model_module_version": "1.2.0",
          "state": {
            "_model_module": "@jupyter-widgets/base",
            "_model_module_version": "1.2.0",
            "_model_name": "LayoutModel",
            "_view_count": null,
            "_view_module": "@jupyter-widgets/base",
            "_view_module_version": "1.2.0",
            "_view_name": "LayoutView",
            "align_content": null,
            "align_items": null,
            "align_self": null,
            "border": null,
            "bottom": null,
            "display": null,
            "flex": null,
            "flex_flow": null,
            "grid_area": null,
            "grid_auto_columns": null,
            "grid_auto_flow": null,
            "grid_auto_rows": null,
            "grid_column": null,
            "grid_gap": null,
            "grid_row": null,
            "grid_template_areas": null,
            "grid_template_columns": null,
            "grid_template_rows": null,
            "height": null,
            "justify_content": null,
            "justify_items": null,
            "left": null,
            "margin": null,
            "max_height": null,
            "max_width": null,
            "min_height": null,
            "min_width": null,
            "object_fit": null,
            "object_position": null,
            "order": null,
            "overflow": null,
            "overflow_x": null,
            "overflow_y": null,
            "padding": null,
            "right": null,
            "top": null,
            "visibility": null,
            "width": null
          }
        },
        "6ae21efc7ade476094b5d12fec3c3315": {
          "model_module": "@jupyter-widgets/controls",
          "model_name": "DescriptionStyleModel",
          "model_module_version": "1.5.0",
          "state": {
            "_model_module": "@jupyter-widgets/controls",
            "_model_module_version": "1.5.0",
            "_model_name": "DescriptionStyleModel",
            "_view_count": null,
            "_view_module": "@jupyter-widgets/base",
            "_view_module_version": "1.2.0",
            "_view_name": "StyleView",
            "description_width": ""
          }
        },
        "fccce8f9320b427390502e87fe4e7cd5": {
          "model_module": "@jupyter-widgets/base",
          "model_name": "LayoutModel",
          "model_module_version": "1.2.0",
          "state": {
            "_model_module": "@jupyter-widgets/base",
            "_model_module_version": "1.2.0",
            "_model_name": "LayoutModel",
            "_view_count": null,
            "_view_module": "@jupyter-widgets/base",
            "_view_module_version": "1.2.0",
            "_view_name": "LayoutView",
            "align_content": null,
            "align_items": null,
            "align_self": null,
            "border": null,
            "bottom": null,
            "display": null,
            "flex": null,
            "flex_flow": null,
            "grid_area": null,
            "grid_auto_columns": null,
            "grid_auto_flow": null,
            "grid_auto_rows": null,
            "grid_column": null,
            "grid_gap": null,
            "grid_row": null,
            "grid_template_areas": null,
            "grid_template_columns": null,
            "grid_template_rows": null,
            "height": null,
            "justify_content": null,
            "justify_items": null,
            "left": null,
            "margin": null,
            "max_height": null,
            "max_width": null,
            "min_height": null,
            "min_width": null,
            "object_fit": null,
            "object_position": null,
            "order": null,
            "overflow": null,
            "overflow_x": null,
            "overflow_y": null,
            "padding": null,
            "right": null,
            "top": null,
            "visibility": null,
            "width": null
          }
        },
        "f960d3c1d2c54641bb1813b24ee7d6b6": {
          "model_module": "@jupyter-widgets/controls",
          "model_name": "ProgressStyleModel",
          "model_module_version": "1.5.0",
          "state": {
            "_model_module": "@jupyter-widgets/controls",
            "_model_module_version": "1.5.0",
            "_model_name": "ProgressStyleModel",
            "_view_count": null,
            "_view_module": "@jupyter-widgets/base",
            "_view_module_version": "1.2.0",
            "_view_name": "StyleView",
            "bar_color": null,
            "description_width": ""
          }
        },
        "6c647fd6fa4e438c88e316486d9fe1a8": {
          "model_module": "@jupyter-widgets/base",
          "model_name": "LayoutModel",
          "model_module_version": "1.2.0",
          "state": {
            "_model_module": "@jupyter-widgets/base",
            "_model_module_version": "1.2.0",
            "_model_name": "LayoutModel",
            "_view_count": null,
            "_view_module": "@jupyter-widgets/base",
            "_view_module_version": "1.2.0",
            "_view_name": "LayoutView",
            "align_content": null,
            "align_items": null,
            "align_self": null,
            "border": null,
            "bottom": null,
            "display": null,
            "flex": null,
            "flex_flow": null,
            "grid_area": null,
            "grid_auto_columns": null,
            "grid_auto_flow": null,
            "grid_auto_rows": null,
            "grid_column": null,
            "grid_gap": null,
            "grid_row": null,
            "grid_template_areas": null,
            "grid_template_columns": null,
            "grid_template_rows": null,
            "height": null,
            "justify_content": null,
            "justify_items": null,
            "left": null,
            "margin": null,
            "max_height": null,
            "max_width": null,
            "min_height": null,
            "min_width": null,
            "object_fit": null,
            "object_position": null,
            "order": null,
            "overflow": null,
            "overflow_x": null,
            "overflow_y": null,
            "padding": null,
            "right": null,
            "top": null,
            "visibility": null,
            "width": null
          }
        },
        "66355ad588444be191a6aa1a528cb65a": {
          "model_module": "@jupyter-widgets/controls",
          "model_name": "DescriptionStyleModel",
          "model_module_version": "1.5.0",
          "state": {
            "_model_module": "@jupyter-widgets/controls",
            "_model_module_version": "1.5.0",
            "_model_name": "DescriptionStyleModel",
            "_view_count": null,
            "_view_module": "@jupyter-widgets/base",
            "_view_module_version": "1.2.0",
            "_view_name": "StyleView",
            "description_width": ""
          }
        },
        "7b658b2d976f43fa95daa615e74433df": {
          "model_module": "@jupyter-widgets/controls",
          "model_name": "HBoxModel",
          "model_module_version": "1.5.0",
          "state": {
            "_dom_classes": [],
            "_model_module": "@jupyter-widgets/controls",
            "_model_module_version": "1.5.0",
            "_model_name": "HBoxModel",
            "_view_count": null,
            "_view_module": "@jupyter-widgets/controls",
            "_view_module_version": "1.5.0",
            "_view_name": "HBoxView",
            "box_style": "",
            "children": [
              "IPY_MODEL_2ae0707366c54f3ba0b4beeeac904336",
              "IPY_MODEL_bcf4f40227144d0c902226cd00855503",
              "IPY_MODEL_35c104a0529d49fcb6e43119b70dfa6c"
            ],
            "layout": "IPY_MODEL_f66924bb4e6140779950dfa65fdcef28"
          }
        },
        "2ae0707366c54f3ba0b4beeeac904336": {
          "model_module": "@jupyter-widgets/controls",
          "model_name": "HTMLModel",
          "model_module_version": "1.5.0",
          "state": {
            "_dom_classes": [],
            "_model_module": "@jupyter-widgets/controls",
            "_model_module_version": "1.5.0",
            "_model_name": "HTMLModel",
            "_view_count": null,
            "_view_module": "@jupyter-widgets/controls",
            "_view_module_version": "1.5.0",
            "_view_name": "HTMLView",
            "description": "",
            "description_tooltip": null,
            "layout": "IPY_MODEL_30a5efd78f4140dc95abadec9b9eacaa",
            "placeholder": "​",
            "style": "IPY_MODEL_27890e6ae816442ba7f7053565ddccc7",
            "value": "Downloading tf_model.h5: 100%"
          }
        },
        "bcf4f40227144d0c902226cd00855503": {
          "model_module": "@jupyter-widgets/controls",
          "model_name": "FloatProgressModel",
          "model_module_version": "1.5.0",
          "state": {
            "_dom_classes": [],
            "_model_module": "@jupyter-widgets/controls",
            "_model_module_version": "1.5.0",
            "_model_name": "FloatProgressModel",
            "_view_count": null,
            "_view_module": "@jupyter-widgets/controls",
            "_view_module_version": "1.5.0",
            "_view_name": "ProgressView",
            "bar_style": "success",
            "description": "",
            "description_tooltip": null,
            "layout": "IPY_MODEL_3528a766360743168272a1328bdecdc8",
            "max": 526681800,
            "min": 0,
            "orientation": "horizontal",
            "style": "IPY_MODEL_66656d7bd90f4b719c15933c6bea8539",
            "value": 526681800
          }
        },
        "35c104a0529d49fcb6e43119b70dfa6c": {
          "model_module": "@jupyter-widgets/controls",
          "model_name": "HTMLModel",
          "model_module_version": "1.5.0",
          "state": {
            "_dom_classes": [],
            "_model_module": "@jupyter-widgets/controls",
            "_model_module_version": "1.5.0",
            "_model_name": "HTMLModel",
            "_view_count": null,
            "_view_module": "@jupyter-widgets/controls",
            "_view_module_version": "1.5.0",
            "_view_name": "HTMLView",
            "description": "",
            "description_tooltip": null,
            "layout": "IPY_MODEL_37ec83a2d223484980c22f8a2a4389cb",
            "placeholder": "​",
            "style": "IPY_MODEL_bc81b4e3d3ba46fd83abdd22fb26bff1",
            "value": " 527M/527M [00:02&lt;00:00, 202MB/s]"
          }
        },
        "f66924bb4e6140779950dfa65fdcef28": {
          "model_module": "@jupyter-widgets/base",
          "model_name": "LayoutModel",
          "model_module_version": "1.2.0",
          "state": {
            "_model_module": "@jupyter-widgets/base",
            "_model_module_version": "1.2.0",
            "_model_name": "LayoutModel",
            "_view_count": null,
            "_view_module": "@jupyter-widgets/base",
            "_view_module_version": "1.2.0",
            "_view_name": "LayoutView",
            "align_content": null,
            "align_items": null,
            "align_self": null,
            "border": null,
            "bottom": null,
            "display": null,
            "flex": null,
            "flex_flow": null,
            "grid_area": null,
            "grid_auto_columns": null,
            "grid_auto_flow": null,
            "grid_auto_rows": null,
            "grid_column": null,
            "grid_gap": null,
            "grid_row": null,
            "grid_template_areas": null,
            "grid_template_columns": null,
            "grid_template_rows": null,
            "height": null,
            "justify_content": null,
            "justify_items": null,
            "left": null,
            "margin": null,
            "max_height": null,
            "max_width": null,
            "min_height": null,
            "min_width": null,
            "object_fit": null,
            "object_position": null,
            "order": null,
            "overflow": null,
            "overflow_x": null,
            "overflow_y": null,
            "padding": null,
            "right": null,
            "top": null,
            "visibility": null,
            "width": null
          }
        },
        "30a5efd78f4140dc95abadec9b9eacaa": {
          "model_module": "@jupyter-widgets/base",
          "model_name": "LayoutModel",
          "model_module_version": "1.2.0",
          "state": {
            "_model_module": "@jupyter-widgets/base",
            "_model_module_version": "1.2.0",
            "_model_name": "LayoutModel",
            "_view_count": null,
            "_view_module": "@jupyter-widgets/base",
            "_view_module_version": "1.2.0",
            "_view_name": "LayoutView",
            "align_content": null,
            "align_items": null,
            "align_self": null,
            "border": null,
            "bottom": null,
            "display": null,
            "flex": null,
            "flex_flow": null,
            "grid_area": null,
            "grid_auto_columns": null,
            "grid_auto_flow": null,
            "grid_auto_rows": null,
            "grid_column": null,
            "grid_gap": null,
            "grid_row": null,
            "grid_template_areas": null,
            "grid_template_columns": null,
            "grid_template_rows": null,
            "height": null,
            "justify_content": null,
            "justify_items": null,
            "left": null,
            "margin": null,
            "max_height": null,
            "max_width": null,
            "min_height": null,
            "min_width": null,
            "object_fit": null,
            "object_position": null,
            "order": null,
            "overflow": null,
            "overflow_x": null,
            "overflow_y": null,
            "padding": null,
            "right": null,
            "top": null,
            "visibility": null,
            "width": null
          }
        },
        "27890e6ae816442ba7f7053565ddccc7": {
          "model_module": "@jupyter-widgets/controls",
          "model_name": "DescriptionStyleModel",
          "model_module_version": "1.5.0",
          "state": {
            "_model_module": "@jupyter-widgets/controls",
            "_model_module_version": "1.5.0",
            "_model_name": "DescriptionStyleModel",
            "_view_count": null,
            "_view_module": "@jupyter-widgets/base",
            "_view_module_version": "1.2.0",
            "_view_name": "StyleView",
            "description_width": ""
          }
        },
        "3528a766360743168272a1328bdecdc8": {
          "model_module": "@jupyter-widgets/base",
          "model_name": "LayoutModel",
          "model_module_version": "1.2.0",
          "state": {
            "_model_module": "@jupyter-widgets/base",
            "_model_module_version": "1.2.0",
            "_model_name": "LayoutModel",
            "_view_count": null,
            "_view_module": "@jupyter-widgets/base",
            "_view_module_version": "1.2.0",
            "_view_name": "LayoutView",
            "align_content": null,
            "align_items": null,
            "align_self": null,
            "border": null,
            "bottom": null,
            "display": null,
            "flex": null,
            "flex_flow": null,
            "grid_area": null,
            "grid_auto_columns": null,
            "grid_auto_flow": null,
            "grid_auto_rows": null,
            "grid_column": null,
            "grid_gap": null,
            "grid_row": null,
            "grid_template_areas": null,
            "grid_template_columns": null,
            "grid_template_rows": null,
            "height": null,
            "justify_content": null,
            "justify_items": null,
            "left": null,
            "margin": null,
            "max_height": null,
            "max_width": null,
            "min_height": null,
            "min_width": null,
            "object_fit": null,
            "object_position": null,
            "order": null,
            "overflow": null,
            "overflow_x": null,
            "overflow_y": null,
            "padding": null,
            "right": null,
            "top": null,
            "visibility": null,
            "width": null
          }
        },
        "66656d7bd90f4b719c15933c6bea8539": {
          "model_module": "@jupyter-widgets/controls",
          "model_name": "ProgressStyleModel",
          "model_module_version": "1.5.0",
          "state": {
            "_model_module": "@jupyter-widgets/controls",
            "_model_module_version": "1.5.0",
            "_model_name": "ProgressStyleModel",
            "_view_count": null,
            "_view_module": "@jupyter-widgets/base",
            "_view_module_version": "1.2.0",
            "_view_name": "StyleView",
            "bar_color": null,
            "description_width": ""
          }
        },
        "37ec83a2d223484980c22f8a2a4389cb": {
          "model_module": "@jupyter-widgets/base",
          "model_name": "LayoutModel",
          "model_module_version": "1.2.0",
          "state": {
            "_model_module": "@jupyter-widgets/base",
            "_model_module_version": "1.2.0",
            "_model_name": "LayoutModel",
            "_view_count": null,
            "_view_module": "@jupyter-widgets/base",
            "_view_module_version": "1.2.0",
            "_view_name": "LayoutView",
            "align_content": null,
            "align_items": null,
            "align_self": null,
            "border": null,
            "bottom": null,
            "display": null,
            "flex": null,
            "flex_flow": null,
            "grid_area": null,
            "grid_auto_columns": null,
            "grid_auto_flow": null,
            "grid_auto_rows": null,
            "grid_column": null,
            "grid_gap": null,
            "grid_row": null,
            "grid_template_areas": null,
            "grid_template_columns": null,
            "grid_template_rows": null,
            "height": null,
            "justify_content": null,
            "justify_items": null,
            "left": null,
            "margin": null,
            "max_height": null,
            "max_width": null,
            "min_height": null,
            "min_width": null,
            "object_fit": null,
            "object_position": null,
            "order": null,
            "overflow": null,
            "overflow_x": null,
            "overflow_y": null,
            "padding": null,
            "right": null,
            "top": null,
            "visibility": null,
            "width": null
          }
        },
        "bc81b4e3d3ba46fd83abdd22fb26bff1": {
          "model_module": "@jupyter-widgets/controls",
          "model_name": "DescriptionStyleModel",
          "model_module_version": "1.5.0",
          "state": {
            "_model_module": "@jupyter-widgets/controls",
            "_model_module_version": "1.5.0",
            "_model_name": "DescriptionStyleModel",
            "_view_count": null,
            "_view_module": "@jupyter-widgets/base",
            "_view_module_version": "1.2.0",
            "_view_name": "StyleView",
            "description_width": ""
          }
        }
      }
    },
    "accelerator": "GPU"
  },
  "nbformat": 4,
  "nbformat_minor": 0
}

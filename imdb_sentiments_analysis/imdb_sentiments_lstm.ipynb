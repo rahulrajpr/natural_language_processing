{
  "cells": [
    {
      "cell_type": "markdown",
      "metadata": {
        "id": "view-in-github",
        "colab_type": "text"
      },
      "source": [
        "<a href=\"https://colab.research.google.com/github/rahulrajpr/natural_language_processing/blob/main/imdb_sentiments_analyis_with_lstm.ipynb\" target=\"_parent\"><img src=\"https://colab.research.google.com/assets/colab-badge.svg\" alt=\"Open In Colab\"/></a>"
      ]
    },
    {
      "cell_type": "markdown",
      "source": [
        "# Set up the Environment"
      ],
      "metadata": {
        "id": "o73sl6PhR_A7"
      }
    },
    {
      "cell_type": "markdown",
      "source": [
        "> Get the helper functions ready"
      ],
      "metadata": {
        "id": "MkTjf0toTWUL"
      }
    },
    {
      "cell_type": "code",
      "source": [
        "from IPython.core.display import clear_output\n",
        "!wget https://raw.githubusercontent.com/rahulrajpr/references/main/hf_requirements.txt\n",
        "!wget https://raw.githubusercontent.com/rahulrajpr/references/main/helper_functions.py\n",
        "!pip install -r hf_requirements.txt\n",
        "clear_output()"
      ],
      "metadata": {
        "id": "9TnY4R0fBAtj"
      },
      "execution_count": 1,
      "outputs": []
    },
    {
      "cell_type": "markdown",
      "source": [
        "> Import the libraries"
      ],
      "metadata": {
        "id": "tLWYrsb4BXYO"
      }
    },
    {
      "cell_type": "code",
      "execution_count": 2,
      "metadata": {
        "ExecuteTime": {
          "end_time": "2020-10-01T07:03:13.528704Z",
          "start_time": "2020-10-01T07:03:11.616714Z"
        },
        "colab": {
          "base_uri": "https://localhost:8080/"
        },
        "id": "Lzd9nq0IR05A",
        "outputId": "2bc441c4-6201-4d77-f1dc-dc7254edc1d3"
      },
      "outputs": [
        {
          "output_type": "stream",
          "name": "stdout",
          "text": [
            "Python version : 3.10.11 (main, Apr  5 2023, 14:15:10) [GCC 9.4.0]\n",
            "\n",
            "Tensorflow version : 2.12.0\n"
          ]
        }
      ],
      "source": [
        "import tensorflow as tf\n",
        "import tensorflow_datasets as tfds\n",
        "import numpy as np\n",
        "import pandas as pd\n",
        "import sys\n",
        "import os\n",
        "import random\n",
        "import matplotlib.pyplot as plt\n",
        "import helper_functions as hf\n",
        "import warnings\n",
        "warnings.filterwarnings('ignore')\n",
        "print(f'Python version : {sys.version}\\n')\n",
        "print(f'Tensorflow version : {tf.__version__}')"
      ]
    },
    {
      "cell_type": "markdown",
      "metadata": {
        "id": "KJoX68kVR05K"
      },
      "source": [
        "# Loading the DataSet (From Tensorflow Datasets)"
      ]
    },
    {
      "cell_type": "code",
      "source": [
        "data, info = tfds.load(name = 'imdb_reviews', as_supervised = True, with_info = True)\n",
        "clear_output()"
      ],
      "metadata": {
        "id": "SDm2PQCIT4KQ"
      },
      "execution_count": 3,
      "outputs": []
    },
    {
      "cell_type": "markdown",
      "source": [
        "> Splitting the data as Train and Test (TFDS DataSet)"
      ],
      "metadata": {
        "id": "FTJ3BE38WbtT"
      }
    },
    {
      "cell_type": "code",
      "source": [
        "train = data['train']\n",
        "val = data['test']\n",
        "\n",
        "print(train)\n",
        "print(val)"
      ],
      "metadata": {
        "colab": {
          "base_uri": "https://localhost:8080/"
        },
        "id": "EOsyYkzfUiQq",
        "outputId": "0034b37b-e6cf-44dc-df04-9d25a28ef204"
      },
      "execution_count": 4,
      "outputs": [
        {
          "output_type": "stream",
          "name": "stdout",
          "text": [
            "<_PrefetchDataset element_spec=(TensorSpec(shape=(), dtype=tf.string, name=None), TensorSpec(shape=(), dtype=tf.int64, name=None))>\n",
            "<_PrefetchDataset element_spec=(TensorSpec(shape=(), dtype=tf.string, name=None), TensorSpec(shape=(), dtype=tf.int64, name=None))>\n"
          ]
        }
      ]
    },
    {
      "cell_type": "markdown",
      "source": [
        "> Converting the prefetched dataset as numpy array"
      ],
      "metadata": {
        "id": "n28QJ6hvVJCU"
      }
    },
    {
      "cell_type": "code",
      "source": [
        "train_sentences, train_labels = hf.prefetch_dataset_to_array(train)\n",
        "val_sentences, val_labels = hf.prefetch_dataset_to_array(val)\n",
        "\n",
        "train_sentences[:1], train_labels[:1]"
      ],
      "metadata": {
        "colab": {
          "base_uri": "https://localhost:8080/"
        },
        "id": "12kK25nKVImc",
        "outputId": "483870e7-c198-4709-8c38-f09a9584c175"
      },
      "execution_count": 5,
      "outputs": [
        {
          "output_type": "stream",
          "name": "stdout",
          "text": [
            "Numpy arrays returned as --> (data, labels)\n",
            "Numpy arrays returned as --> (data, labels)\n"
          ]
        },
        {
          "output_type": "execute_result",
          "data": {
            "text/plain": [
              "(array([b\"This was an absolutely terrible movie. Don't be lured in by Christopher Walken or Michael Ironside. Both are great actors, but this must simply be their worst role in history. Even their great acting could not redeem this movie's ridiculous storyline. This movie is an early nineties US propaganda piece. The most pathetic scenes were those when the Columbian rebels were making their cases for revolutions. Maria Conchita Alonso appeared phony, and her pseudo-love affair with Walken was nothing but a pathetic emotional plug in a movie that was devoid of any real meaning. I am disappointed that there are movies like this, ruining actor's like Christopher Walken's good name. I could barely sit through it.\"],\n",
              "       dtype='|S13704'),\n",
              " array([0]))"
            ]
          },
          "metadata": {},
          "execution_count": 5
        }
      ]
    },
    {
      "cell_type": "markdown",
      "source": [
        "> Checking number of samples in the dataset"
      ],
      "metadata": {
        "id": "NsmyrEUnUMYd"
      }
    },
    {
      "cell_type": "code",
      "source": [
        "len(train_sentences), len(val_sentences)"
      ],
      "metadata": {
        "colab": {
          "base_uri": "https://localhost:8080/"
        },
        "id": "Hv9lf80wV_wv",
        "outputId": "5a0e641f-a355-4489-96ac-62651df5c4b0"
      },
      "execution_count": 6,
      "outputs": [
        {
          "output_type": "execute_result",
          "data": {
            "text/plain": [
              "(25000, 25000)"
            ]
          },
          "metadata": {},
          "execution_count": 6
        }
      ]
    },
    {
      "cell_type": "markdown",
      "source": [
        "> Printing Some Random Samples"
      ],
      "metadata": {
        "id": "ZnrvUiQOWTNS"
      }
    },
    {
      "cell_type": "code",
      "source": [
        "num_random_samples = 10\n",
        "index_range = range(0,len(train_sentences))\n",
        "\n",
        "random_indexes = random.sample(index_range,num_random_samples)\n",
        "for ind in random_indexes:\n",
        "  random_sample = train_labels[ind],train_sentences[ind]\n",
        "  print(random_sample)"
      ],
      "metadata": {
        "colab": {
          "base_uri": "https://localhost:8080/"
        },
        "id": "dTlkwSb8WKE4",
        "outputId": "5d8e2ad7-81e5-4214-c4c8-9d61495046c4"
      },
      "execution_count": 7,
      "outputs": [
        {
          "output_type": "stream",
          "name": "stdout",
          "text": [
            "(0, b'This movie is all flash and no soul. The actors put a lot of passion into the numbers, but these numbers often didn\\'t connect with the film and felt like stand-alone music videos. And no effort was made to make the numbers sound as if they were happening right there in front of you, every single one sounds like its coming from a studio, essentially sucking all the life from the songs. Off the stage the performances were all dull and unrealized, especially Hudson, who essentially plays the same angry, \"strong\" (she\\'s stubborn and selfish) black woman we\\'ve seen before. There was absolutely no depth to her character, nor any of the other female leads. Though I think the movie wants us to believe that Hudson\\'s character faces hardship because of her weight, it is really her own refusal to do what\\'s best for the team that lands her in trouble, making the end of the film totally meaningless. Hudson\\'s Academy Award is a joke, there was no justification. When she sang, she put forth emotion (though it was often misplaced, but this was the writer/director\\'s fault), but when she was just acting, she did nothing to flesh out an already underwritten character. Eddie Murphy\\'s character is the only one with an arc, and he did a fine job, but still not Oscar worthy. The only actor who really brought something to the roll was Danny Glover, who took a small, relatively unimportant character and made something real out of it. There is nothing here to sink your teeth into, no drama or heart, or even laughs. The placement of the musical numbers was so bad that at times the movie almost seemed to be making fun of musicals instead of being one; the number when Hudson is arguing with the other girls is so long-winded if it had been any longer it could pass for a Family Guy skit. The movie has no idea what it\\'s about, and I felt insulted by the last few minutes. It\\'s a big, boring waste of time, and really is the worst film I saw in \\'06, and nothing last year was really stellar to begin with.')\n",
            "(0, b\"I consider Stuart Bliss the worst movie I have ever seen.<br /><br />The acting was terrible and the plot ludicrous. I get the fact that the main character's wife leaving him triggered a mental breakdown, but it got so silly and boring, after a while I could have cared less about any of the characters.<br /><br />The movie kept going over and over the same ideas without anything fresh or surprising to add to the plot. The whole thing with the Geiger counter got too much after a while after Stuart started opening up his wall to see what was behind it after the counter indicated something was there.<br /><br />Then there was the repetitive scenes with the flyer, and the confusing ones where he meets himself.<br /><br />I should have guessed that this movie was a flop when I didn't recognize any of the actors. Do yourself a favor when this movie comes up, read a book! You'll be better off.\")\n",
            "(0, b\"Up until this new season I have been a big 'Little Mosque' fan. However, the new season had absolutely RUINED it.<br /><br />The new Christian vicar has destroyed the entire intent of the show. It has always been about living together to overcome prejudice. The new vicar ruins that premise and shows Christians in a very bad light.<br /><br />I am neither Christian or Muslim, but loved watching the show and seeing the camaraderie between Amar and the Reverend. Not any more.<br /><br />Just cancel it and be done with it. It's not worth watching any more.<br /><br />It might still be saved, but a lot of change would need to be made.<br /><br />Bring back the old format.\")\n",
            "(1, b\"Uneven Bollywood drama. Karisma Kapoor is excellent as an Indian woman in Canada who marries a friend (Sanjay Kapoor), has a child, and then visits his family in India only to find they are terrorist warlords. Drama and tragedy ensue, and the film becomes a kind of NOT WITHOUT MY BABY styled thriller. Film is compelling, its few song/dance numbers are uninteresting and needless, the gaity of Bollywood song and dance is really out of character for the intensity of this film's drama, at least once we've left the comforting confines of their Canadian love nest \\xc2\\x96 although one number involving a cameo by the stunning Aishwarya Rai is enjoyably provocative, if ultimately misplaced as well. Likewise, the inclusion of Bollywood superstar Shahrukh Khan as a happy-go-lucky drifter who helps Kapoor in her escape from the clutches of the warlord turns what had been a very serious drama into a silly farce, and it only gets back on his feet when his character \\xc2\\x96 and his fantasies about Rai that generate her cameo dance \\xc2\\x96 are dispensed with. His throw-away comic-book dialog and the silliness of his fight scenes detract from the film's primary gripping drama. The cast is nicely supported by Nana Patekar as the warlord, and the elegant Deepti Naval who is outstanding as his long-suffering wife who finally choses to stand up against him in one of the film's best scenes; Ritu Shivpuri and Rajshree Solanki are also very good as Sanjay's sisters in India, and very pleasing eye candy. But Sanjay himself overacts terribly, especially during obvious ad-libs. The directorial style of writer/director Krishna Wamsi is sloppy, rampant with rough transitions and abrupt cuts, although his camera movement is good. The musical underscore is also quite effective, moody, featuring wordless female voice over a small orchestral ensemble (too bad little if any of that made it onto SHAKTI's soundtrack cd, but Bollywood hasn't yet discovered the value of including score along with songs on their soundtrack albums, at least not in most cases). But SHAKTI is Karisma Kapoor's film, all the way, though, and the intensity of her performance once the film switches to India contrasts nicely with the gentle romance with which she engaged with Sanjay in the initial Canadian scenes. Despite the unevenness of much of the picture, Karisma's performance completely sells the film and solidifies its otherwise inconsistent measures. In a strange way, also, I found the story to be another take on the ostentation of royalty I'd noticed in CURSE OF THE GOLDEN FLOWER and MARIE ANTOINETTE, both of which I'd seen just prior, although SHAKTI of course is an entirely different kind of film; but the focus on a dysfunctional royal family \\xc2\\x96 here living in the austerity of terrorism-controlled poverty in India rather than the elegance of Versailles or the massive megalomania of feudal China's Tang Dynasty \\xc2\\x96 whose self-serving seeking of power brings ruin upon many others and forces an uprising of one kind or another provides the film with a notable subtext.\")\n",
            "(1, b\"Yeah, the poster is quite a horrible piece of work.<br /><br />I thought the movie was OK...nothing really outstanding...I just was hoping that he would be a hardcore druggie and totally trash his life.<br /><br />Ahh, but that can't happen to rich kids now can it? Not to the son of a wealthy businessman who holds big ballroom parties and has a nice manicured lawn on the front of the mini mansion.<br /><br />No...the kid is too good to have his life totally trashed. After all, who will drive the brand new SUV and who will go to law school? <br /><br />Ah, the poor little rich kids...in their quaint pretty house, with their ivy league schools, ultra clean homes and socialite parties...what will the world do without them? <br /><br />I hope they all get addicted to drugs, pass-away their life and end up in jail...so maybe we can see movies that don't all revolve around the poor little rich boys and girls of the surreal world.\")\n",
            "(0, b'I saw this movie a few years back on the BBC i sat thru it. How? i don\\'t know,this is way up there in the \"so bad it\\'Good \" charts Kidman ,Baldwin,and Pullman must cringe when they see it now.I think Woody Allen would have worked wonders with the outlandish plot, and Baldwin\\'s part could have been played with gusto by Leslie Nelson.it was on again tonight i tried to watch it again but life\\'s too short. the few minutes i watched was for the lovely Nicole she was so hot around 93, has Baldwin ever made a good movie? Pullman played his stock in trade \"nice but dim\" character the F-word coming out of his mouth when the lady from \"frasier\" miscast ed as a detective accuses him of murder sounds so wrong. stay well away.')\n",
            "(0, b\"I often feel like Scrooge, slamming movies that others are raving about - or, I write the review to balance unwarranted raves. I found this movie almost unwatchable, and, unusual for me, was fast-forwarding not only through dull, clich\\xc3\\xa9d dialog but even dull, clich\\xc3\\xa9d musical numbers. Whatever originality exists in this film -- unusual domestic setting for a musical, lots of fantasy, some animation -- is more than offset by a script that has not an ounce of wit or thought-provoking plot development. Individually, June Haver and Dan Dailey appear to be nice people, but can't carry a movie as a team. Neither is really charismatic or has much sex appeal. They're both bland. I like Billy Gray, but his character is pretty one-note. The best part of the film, to me, are June Haver's beautiful costumes and great body.\")\n",
            "(1, b\"Though structured totally different from the book by Tim Krabb\\xc3\\xa9 who wrote the original 'The Vanishing' (Spoorloos) it does have the same overall feel, except for that Koolhoven's style is less business-like and more lyric. The beginning is great, the middle is fine, but the sting is in the end. A surprise emotional ending. As you could read in several magazines there is some sex in the film, but it is done all very beautifully. Never explicit, but with lots of warmth and sometimes even humour. It is a shame American films can't be as open an honoust as this one. Where Dutch films tend to go just over the edge when it comes to this subject, 'De Grot' stays always within the boundaries of good taste. 'De Grot' tells an amazing story stretched over more than 30 years. When you'll leave the cinema you'll be moved. What can we ask more of a film? Anyway, this film even gives more....\")\n",
            "(0, b\"Unfortunately, one of the best efforts yet made in the area of special effects has been made completely pointless by being placed alongside a lumbering, silly and equally pointless plot and an inadequate, clich\\xc3\\xa9d screenplay. Hollow Man is a rather useless film.<br /><br />Practically everything seen here has been done to death - the characters, the idea and the action sequences (especially the lift shaft!) - with the only genuinely intriguing element of the film being the impressive special effects. However, it is just the same special effect done over and over again, and by the end of the film that has been done to death also. I was hoping before watching Hollow Man that the Invisible Man theme, which is hardly original in itself, would be the basis of something newer and more interesting. This is not so. It isn't long before the film turns into an overly-familiar blood bath and mass of ineffectual histrionics - the mound of clich\\xc3\\xa9s piles up so fast that it's almost impressive.<br /><br />On top of all this, Kevin Bacon does a pretty useless job and his supporting cast are hardly trying their best. Good points might be a passable Jerry Goldsmith score (but no competition for his better efforts), a quite interesting use of thermal imagery and the special effects. I was tempted to give this film three out of ten, but the effects push Hollow Man's merit up one notch.<br /><br />4/10\")\n",
            "(1, b'Superb movie. Very good photography of 1969/70 Bolton, which seems now to be a different world. Thoughtful and an excellent dramatisation and production. James Mason a real first class star. It is and I would agree with the above comment that this movie is a national treasure.')\n"
          ]
        }
      ]
    },
    {
      "cell_type": "markdown",
      "source": [
        "### Text Normaization"
      ],
      "metadata": {
        "id": "n5F76t9bYbpl"
      }
    },
    {
      "cell_type": "code",
      "source": [
        "train_sentences = [hf.text_standardization(x) for x in train_sentences]\n",
        "val_sentences = [hf.text_standardization(x) for x in val_sentences]"
      ],
      "metadata": {
        "id": "0M-6l5KTYfZL"
      },
      "execution_count": 8,
      "outputs": []
    },
    {
      "cell_type": "code",
      "source": [
        "train_sentences[:3]"
      ],
      "metadata": {
        "colab": {
          "base_uri": "https://localhost:8080/"
        },
        "id": "sqwXAUPHZ4qb",
        "outputId": "1e5ecd0f-88ec-456b-e20a-2a02b4593938"
      },
      "execution_count": 9,
      "outputs": [
        {
          "output_type": "execute_result",
          "data": {
            "text/plain": [
              "['this was an absolutely terrible movie dont be lured in by christopher walken or michael ironside both are great actors but this must simply be their worst role in history even their great acting could not redeem this movies ridiculous storyline this movie is an early nineties us propaganda piece the most pathetic scenes were those when the columbian rebels were making their cases for revolutions maria conchita alonso appeared phony and her pseudolove affair with walken was nothing but a pathetic emotional plug in a movie that was devoid of any real meaning i am disappointed that there are movies like this ruining actors like christopher walkens good name i could barely sit through it',\n",
              " 'i have been known to fall asleep during films but this is usually due to a combination of things including really tired being warm and comfortable on the sette and having just eaten a lot however on this occasion i fell asleep because the film was rubbish the plot development was constant constantly slow and boring things seemed to happen but with no explanation of what was causing them or why i admit i may have missed part of the film but i watched the majority of it and everything just seemed to happen of its own accord without any real concern for anything else i cant recommend this film at all',\n",
              " 'mann photographs the alberta rocky mountains in a superb fashion and jimmy stewart and walter brennan give enjoyable performances as they always seem to do but come on hollywood  a mountie telling the people of dawson city yukon to elect themselves a marshal yes a marshal and to enforce the law themselves then gunfighters battling it out on the streets for control of the town nothing even remotely resembling that happened on the canadian side of the border during the klondike gold rush mr mann and company appear to have mistaken dawson city for deadwood the canadian north for the american wild westcanadian viewers be prepared for a reefer madness type of enjoyable howl with this ludicrous plot or to shake your head in disgust']"
            ]
          },
          "metadata": {},
          "execution_count": 9
        }
      ]
    },
    {
      "cell_type": "markdown",
      "source": [
        "### Tokenizing the Text"
      ],
      "metadata": {
        "id": "STZWb0WwFAcs"
      }
    },
    {
      "cell_type": "code",
      "source": [
        "unique_words = len(set(''.join(train_sentences).split())) \n",
        "\n",
        "sentence_length_95th_precentile = int(np.percentile([len(x.split()) for x in train_sentences],95))\n",
        "\n",
        "print(f'\\n95th Percentile of the sentences length : {sentence_length_95th_precentile}\\n')\n",
        "print(f'Number of unique words in the training data :{unique_words}')"
      ],
      "metadata": {
        "colab": {
          "base_uri": "https://localhost:8080/"
        },
        "id": "3ZX8SfP1cX3Y",
        "outputId": "b874b437-a3b6-488c-ac62-ba50ac0ffd5b"
      },
      "execution_count": 10,
      "outputs": [
        {
          "output_type": "stream",
          "name": "stdout",
          "text": [
            "\n",
            "95th Percentile of the sentences length : 585\n",
            "\n",
            "Number of unique words in the training data :155893\n"
          ]
        }
      ]
    },
    {
      "cell_type": "code",
      "source": [
        "pd.Series([len(x.split()) for x in train_sentences]).hist();"
      ],
      "metadata": {
        "colab": {
          "base_uri": "https://localhost:8080/",
          "height": 430
        },
        "id": "c7yGUvhshYGS",
        "outputId": "0a53b0bd-d0e2-428f-8895-e174d784539e"
      },
      "execution_count": 11,
      "outputs": [
        {
          "output_type": "display_data",
          "data": {
            "text/plain": [
              "<Figure size 640x480 with 1 Axes>"
            ],
            "image/png": "[encoded data removed]"
          },
          "metadata": {}
        }
      ]
    },
    {
      "cell_type": "code",
      "source": [
        "BATCH_SIZE = 32\n",
        "\n",
        "VOCAB_SIZE = 20000\n",
        "OOV_TOKEN = '<OOV>'\n",
        "\n",
        "PADDING_LEN = 224\n",
        "PADDING_STYLE = 'post'\n",
        "TRUNC_STYLE = 'post'\n",
        "\n",
        "EMBED_LEN = 32"
      ],
      "metadata": {
        "id": "2N-fV-UkbDAS"
      },
      "execution_count": 12,
      "outputs": []
    },
    {
      "cell_type": "code",
      "source": [
        "from tensorflow.keras.preprocessing.text import Tokenizer"
      ],
      "metadata": {
        "id": "9zpn78QJZ9ZT"
      },
      "execution_count": 13,
      "outputs": []
    },
    {
      "cell_type": "code",
      "source": [
        "tokenizer = Tokenizer(num_words = VOCAB_SIZE, oov_token= OOV_TOKEN)"
      ],
      "metadata": {
        "id": "6gsuZ4qaZ9XH"
      },
      "execution_count": 14,
      "outputs": []
    },
    {
      "cell_type": "code",
      "source": [
        "tokenizer.fit_on_texts(train_sentences)"
      ],
      "metadata": {
        "id": "aEosmmNLZ9Uh"
      },
      "execution_count": 15,
      "outputs": []
    },
    {
      "cell_type": "code",
      "source": [
        "train_sentences_tokenized = tokenizer.texts_to_sequences(train_sentences)\n",
        "val_sentences_tokenized = tokenizer.texts_to_sequences(val_sentences)"
      ],
      "metadata": {
        "id": "n67AuQPPYY5F"
      },
      "execution_count": 16,
      "outputs": []
    },
    {
      "cell_type": "code",
      "source": [
        "len(train_sentences_tokenized),len(val_sentences_tokenized)"
      ],
      "metadata": {
        "colab": {
          "base_uri": "https://localhost:8080/"
        },
        "id": "7RK4WmCnamRm",
        "outputId": "61f2013b-0804-4dec-f17f-5a08be877d13"
      },
      "execution_count": 17,
      "outputs": [
        {
          "output_type": "execute_result",
          "data": {
            "text/plain": [
              "(25000, 25000)"
            ]
          },
          "metadata": {},
          "execution_count": 17
        }
      ]
    },
    {
      "cell_type": "markdown",
      "source": [
        "### Padding the Sequences"
      ],
      "metadata": {
        "id": "XcMT68fAgpdi"
      }
    },
    {
      "cell_type": "code",
      "source": [
        "from tensorflow.keras.preprocessing.sequence import pad_sequences"
      ],
      "metadata": {
        "id": "mfIj2MTsgokP"
      },
      "execution_count": 18,
      "outputs": []
    },
    {
      "cell_type": "code",
      "source": [
        "train_sequences = pad_sequences(train_sentences_tokenized, maxlen = PADDING_LEN, padding = PADDING_STYLE, truncating = TRUNC_STYLE)\n",
        "val_sequences = pad_sequences(val_sentences_tokenized, maxlen = PADDING_LEN, padding = PADDING_STYLE, truncating = TRUNC_STYLE)\n",
        "\n",
        "train_sequences.shape, val_sequences.shape"
      ],
      "metadata": {
        "colab": {
          "base_uri": "https://localhost:8080/"
        },
        "id": "pI4uyl0ng0-f",
        "outputId": "b830c2ab-1626-418f-bfe7-71f367348028"
      },
      "execution_count": 19,
      "outputs": [
        {
          "output_type": "execute_result",
          "data": {
            "text/plain": [
              "((25000, 224), (25000, 224))"
            ]
          },
          "metadata": {},
          "execution_count": 19
        }
      ]
    },
    {
      "cell_type": "markdown",
      "source": [
        "### Preparing Data Pipeline"
      ],
      "metadata": {
        "id": "Rgt1jGgge8n7"
      }
    },
    {
      "cell_type": "code",
      "source": [
        "train_ds = tf.data.Dataset.from_tensor_slices((train_sequences,train_labels))\n",
        "val_ds = tf.data.Dataset.from_tensor_slices((val_sequences,val_labels))\n",
        "\n",
        "train_ds, train_ds"
      ],
      "metadata": {
        "colab": {
          "base_uri": "https://localhost:8080/"
        },
        "id": "1RTgvEEwe7X6",
        "outputId": "aa7ca69e-0bb5-4049-cd8a-4da3065bcf40"
      },
      "execution_count": 20,
      "outputs": [
        {
          "output_type": "execute_result",
          "data": {
            "text/plain": [
              "(<_TensorSliceDataset element_spec=(TensorSpec(shape=(224,), dtype=tf.int32, name=None), TensorSpec(shape=(), dtype=tf.int64, name=None))>,\n",
              " <_TensorSliceDataset element_spec=(TensorSpec(shape=(224,), dtype=tf.int32, name=None), TensorSpec(shape=(), dtype=tf.int64, name=None))>)"
            ]
          },
          "metadata": {},
          "execution_count": 20
        }
      ]
    },
    {
      "cell_type": "code",
      "source": [
        "train_ds = train_ds.shuffle(1000).batch(BATCH_SIZE).prefetch(tf.data.AUTOTUNE)\n",
        "val_ds = val_ds.batch(BATCH_SIZE).prefetch(tf.data.AUTOTUNE)\n",
        "\n",
        "train_ds, val_ds"
      ],
      "metadata": {
        "colab": {
          "base_uri": "https://localhost:8080/"
        },
        "id": "jlQyyedth2Dj",
        "outputId": "3033f1fe-5764-4aa3-8e01-a320d10c85ca"
      },
      "execution_count": 21,
      "outputs": [
        {
          "output_type": "execute_result",
          "data": {
            "text/plain": [
              "(<_PrefetchDataset element_spec=(TensorSpec(shape=(None, 224), dtype=tf.int32, name=None), TensorSpec(shape=(None,), dtype=tf.int64, name=None))>,\n",
              " <_PrefetchDataset element_spec=(TensorSpec(shape=(None, 224), dtype=tf.int32, name=None), TensorSpec(shape=(None,), dtype=tf.int64, name=None))>)"
            ]
          },
          "metadata": {},
          "execution_count": 21
        }
      ]
    },
    {
      "cell_type": "markdown",
      "metadata": {
        "id": "4TOiKm5ER05O"
      },
      "source": [
        "# Preparing the model"
      ]
    },
    {
      "cell_type": "code",
      "source": [
        "from tensorflow.keras import layers"
      ],
      "metadata": {
        "id": "Cw6cmJ9KilRz"
      },
      "execution_count": 22,
      "outputs": []
    },
    {
      "cell_type": "code",
      "source": [
        "def build_model(vocab_size,embedding_dim, rnn_units, batch_size, pad_length,model_name):\n",
        "  \n",
        "  inputs = tf.keras.Input(shape = [pad_length],name = 'input_layer')\n",
        "  x = layers.Embedding(input_dim = vocab_size, output_dim = embedding_dim, \n",
        "                       mask_zero = True, batch_input_shape = [batch_size, None])(inputs)\n",
        "  x = layers.LSTM(units = rnn_units)(x)\n",
        "  outputs = layers.Dense(units = 1, activation = 'sigmoid')(x)\n",
        "  model = tf.keras.Model(inputs, outputs, name = model_name)\n",
        "  return model"
      ],
      "metadata": {
        "id": "oCJXLOndiXbw"
      },
      "execution_count": 23,
      "outputs": []
    },
    {
      "cell_type": "code",
      "source": [
        "model_1 = build_model(vocab_size = VOCAB_SIZE,\n",
        "                      embedding_dim = EMBED_LEN, rnn_units = 64, batch_size = BATCH_SIZE, \n",
        "                      pad_length = PADDING_LEN,\n",
        "                      model_name = 'model_1')\n",
        "\n",
        "model_1.compile(loss = tf.keras.losses.binary_crossentropy,\n",
        "                optimizer = tf.keras.optimizers.Adam(),\n",
        "                metrics = ['accuracy'])\n",
        "\n",
        "model_1.summary()"
      ],
      "metadata": {
        "colab": {
          "base_uri": "https://localhost:8080/"
        },
        "id": "jBNlKBOQkVxd",
        "outputId": "b9a1ef4b-52b2-4424-c64f-7faa6090f79c"
      },
      "execution_count": 24,
      "outputs": [
        {
          "output_type": "stream",
          "name": "stdout",
          "text": [
            "Model: \"model_1\"\n",
            "_________________________________________________________________\n",
            " Layer (type)                Output Shape              Param #   \n",
            "=================================================================\n",
            " input_layer (InputLayer)    [(None, 224)]             0         \n",
            "                                                                 \n",
            " embedding (Embedding)       (None, 224, 32)           640000    \n",
            "                                                                 \n",
            " lstm (LSTM)                 (None, 64)                24832     \n",
            "                                                                 \n",
            " dense (Dense)               (None, 1)                 65        \n",
            "                                                                 \n",
            "=================================================================\n",
            "Total params: 664,897\n",
            "Trainable params: 664,897\n",
            "Non-trainable params: 0\n",
            "_________________________________________________________________\n"
          ]
        }
      ]
    },
    {
      "cell_type": "markdown",
      "metadata": {
        "id": "8wzT8-lXR05P"
      },
      "source": [
        "# Model Training and Evaluation"
      ]
    },
    {
      "cell_type": "code",
      "source": [
        "history_1 = model_1.fit(train_ds, epochs = 10,\n",
        "            steps_per_epoch = len(train_ds),\n",
        "            validation_data = val_ds,\n",
        "            validation_steps = len(val_ds),\n",
        "            callbacks = [hf.create_model_checkpoint(monitor = 'val_accuracy', model_name = model_1.name)])\n",
        "\n",
        "model_1.load_weights('checkpoints/model_1.h5')\n",
        "model_1.evaluate(val_ds)"
      ],
      "metadata": {
        "colab": {
          "base_uri": "https://localhost:8080/"
        },
        "id": "-cxLDDCJmjQJ",
        "outputId": "8b513b32-23bd-4e24-e6ff-e039b2f186b0"
      },
      "execution_count": 25,
      "outputs": [
        {
          "output_type": "stream",
          "name": "stdout",
          "text": [
            "Epoch 1/10\n",
            "782/782 [==============================] - 112s 130ms/step - loss: 0.4639 - accuracy: 0.7738 - val_loss: 0.3717 - val_accuracy: 0.8450\n",
            "Epoch 2/10\n",
            "782/782 [==============================] - 28s 36ms/step - loss: 0.2796 - accuracy: 0.8925 - val_loss: 0.3829 - val_accuracy: 0.8398\n",
            "Epoch 3/10\n",
            "782/782 [==============================] - 20s 26ms/step - loss: 0.1867 - accuracy: 0.9324 - val_loss: 0.3965 - val_accuracy: 0.8307\n",
            "Epoch 4/10\n",
            "782/782 [==============================] - 20s 26ms/step - loss: 0.1421 - accuracy: 0.9509 - val_loss: 0.4497 - val_accuracy: 0.8383\n",
            "Epoch 5/10\n",
            "782/782 [==============================] - 18s 23ms/step - loss: 0.1099 - accuracy: 0.9621 - val_loss: 0.5796 - val_accuracy: 0.8273\n",
            "Epoch 6/10\n",
            "782/782 [==============================] - 19s 25ms/step - loss: 0.0701 - accuracy: 0.9784 - val_loss: 0.6239 - val_accuracy: 0.8298\n",
            "Epoch 7/10\n",
            "782/782 [==============================] - 18s 23ms/step - loss: 0.0466 - accuracy: 0.9852 - val_loss: 0.7200 - val_accuracy: 0.8187\n",
            "Epoch 8/10\n",
            "782/782 [==============================] - 17s 22ms/step - loss: 0.0531 - accuracy: 0.9831 - val_loss: 0.8385 - val_accuracy: 0.8104\n",
            "Epoch 9/10\n",
            "782/782 [==============================] - 16s 21ms/step - loss: 0.0383 - accuracy: 0.9879 - val_loss: 0.8006 - val_accuracy: 0.8272\n",
            "Epoch 10/10\n",
            "782/782 [==============================] - 17s 22ms/step - loss: 0.0271 - accuracy: 0.9919 - val_loss: 0.9151 - val_accuracy: 0.8273\n"
          ]
        }
      ]
    },
    {
      "cell_type": "code",
      "source": [
        "def calculate_results(model,val_ds):\n",
        "  pred = np.squeeze(np.round(model_1.predict(val_ds)))\n",
        "  y_true = np.array([x.numpy() for x in val_ds.unbatch().map(lambda x,y: y)])\n",
        "  return hf.calculate_results(y_true = y_true , y_pred = pred)"
      ],
      "metadata": {
        "id": "oF0ns2expPd2"
      },
      "execution_count": 30,
      "outputs": []
    },
    {
      "cell_type": "code",
      "source": [
        "results_1 = calculate_results(model_1, val_ds)\n",
        "results_1"
      ],
      "metadata": {
        "colab": {
          "base_uri": "https://localhost:8080/"
        },
        "id": "27orsWtvpzcg",
        "outputId": "2fd1bfae-1143-4b52-b8d5-b026c18307e7"
      },
      "execution_count": 32,
      "outputs": [
        {
          "output_type": "stream",
          "name": "stdout",
          "text": [
            "782/782 [==============================] - 5s 5ms/step\n"
          ]
        },
        {
          "output_type": "execute_result",
          "data": {
            "text/plain": [
              "{'accuracy': 0.84496,\n",
              " 'precision': 0.845064952747612,\n",
              " 'recall': 0.84496,\n",
              " 'f1': 0.8449482101099796}"
            ]
          },
          "metadata": {},
          "execution_count": 32
        }
      ]
    },
    {
      "cell_type": "code",
      "source": [
        "hf.plot_loss_curves(history_1)"
      ],
      "metadata": {
        "colab": {
          "base_uri": "https://localhost:8080/",
          "height": 927
        },
        "id": "mCgU391r6ZDv",
        "outputId": "8bc55343-8376-47de-d4a3-9b51c2f95634"
      },
      "execution_count": 33,
      "outputs": [
        {
          "output_type": "display_data",
          "data": {
            "text/plain": [
              "<Figure size 640x480 with 1 Axes>"
            ],
            "image/png": "[encoded data removed]"
          },
          "metadata": {}
        },
        {
          "output_type": "display_data",
          "data": {
            "text/plain": [
              "<Figure size 640x480 with 1 Axes>"
            ],
            "image/png": "[encoded data removed]"
          },
          "metadata": {}
        }
      ]
    },
    {
      "cell_type": "markdown",
      "metadata": {
        "id": "zWsy5-YAR05P"
      },
      "source": [
        "# BiLSTM Model"
      ]
    },
    {
      "cell_type": "code",
      "source": [
        "dropout = 0.2\n",
        "\n",
        "inputs = tf.keras.Input(shape = [PADDING_LEN],name = 'input_layer')\n",
        "x = layers.Embedding(input_dim = VOCAB_SIZE, output_dim = EMBED_LEN, \n",
        "                       mask_zero = True, batch_input_shape = [BATCH_SIZE, None])(inputs)\n",
        "x = layers.Bidirectional(layers.LSTM(units = 64, return_sequences = True))(x)\n",
        "x = layers.Dropout(rate = 0.2)(x)\n",
        "x = layers.Bidirectional(layers.LSTM(units = 64))(x)\n",
        "x = layers.Dropout(rate = 0.2)(x)\n",
        "outputs = layers.Dense(units = 1, activation = 'sigmoid')(x)\n",
        "model_2 = tf.keras.Model(inputs, outputs, name = 'model_2')\n",
        "\n",
        "model_2.compile(loss = tf.keras.losses.binary_crossentropy,\n",
        "                optimizer = tf.keras.optimizers.Adam(),\n",
        "                metrics = ['accuracy'])\n",
        "\n",
        "model_2.summary()"
      ],
      "metadata": {
        "colab": {
          "base_uri": "https://localhost:8080/"
        },
        "id": "YA6IKY7w50rT",
        "outputId": "f8ed9d32-14a8-4c19-e053-1dd349c2dbf2"
      },
      "execution_count": 36,
      "outputs": [
        {
          "output_type": "stream",
          "name": "stdout",
          "text": [
            "Model: \"model_2\"\n",
            "_________________________________________________________________\n",
            " Layer (type)                Output Shape              Param #   \n",
            "=================================================================\n",
            " input_layer (InputLayer)    [(None, 224)]             0         \n",
            "                                                                 \n",
            " embedding_3 (Embedding)     (None, 224, 32)           640000    \n",
            "                                                                 \n",
            " bidirectional_1 (Bidirectio  (None, 224, 128)         49664     \n",
            " nal)                                                            \n",
            "                                                                 \n",
            " dropout (Dropout)           (None, 224, 128)          0         \n",
            "                                                                 \n",
            " bidirectional_2 (Bidirectio  (None, 128)              98816     \n",
            " nal)                                                            \n",
            "                                                                 \n",
            " dropout_1 (Dropout)         (None, 128)               0         \n",
            "                                                                 \n",
            " dense_1 (Dense)             (None, 1)                 129       \n",
            "                                                                 \n",
            "=================================================================\n",
            "Total params: 788,609\n",
            "Trainable params: 788,609\n",
            "Non-trainable params: 0\n",
            "_________________________________________________________________\n"
          ]
        }
      ]
    },
    {
      "cell_type": "code",
      "source": [
        "history_2 = model_2.fit(train_ds, epochs = 10,\n",
        "            steps_per_epoch = len(train_ds),\n",
        "            validation_data = val_ds,\n",
        "            validation_steps = len(val_ds),\n",
        "            callbacks = [hf.create_model_checkpoint(monitor = 'val_accuracy', model_name = model_2.name)])\n",
        "\n",
        "model_2.load_weights('checkpoints/model_2.h5')\n",
        "model_2.evaluate(val_ds)"
      ],
      "metadata": {
        "colab": {
          "base_uri": "https://localhost:8080/"
        },
        "id": "giCfTo0w7bbh",
        "outputId": "77b050bd-ac25-4216-f159-97cea1a5d1ac"
      },
      "execution_count": 38,
      "outputs": [
        {
          "output_type": "stream",
          "name": "stdout",
          "text": [
            "Epoch 1/10\n",
            "782/782 [==============================] - 160s 176ms/step - loss: 0.4390 - accuracy: 0.7926 - val_loss: 0.3422 - val_accuracy: 0.8492\n",
            "Epoch 2/10\n",
            "782/782 [==============================] - 58s 74ms/step - loss: 0.2467 - accuracy: 0.9043 - val_loss: 0.4000 - val_accuracy: 0.8453\n",
            "Epoch 3/10\n",
            "782/782 [==============================] - 52s 67ms/step - loss: 0.1650 - accuracy: 0.9406 - val_loss: 0.4203 - val_accuracy: 0.8303\n",
            "Epoch 4/10\n",
            "782/782 [==============================] - 51s 65ms/step - loss: 0.1160 - accuracy: 0.9606 - val_loss: 0.5265 - val_accuracy: 0.8296\n",
            "Epoch 5/10\n",
            "782/782 [==============================] - 48s 62ms/step - loss: 0.0752 - accuracy: 0.9749 - val_loss: 0.5895 - val_accuracy: 0.8209\n",
            "Epoch 6/10\n",
            "782/782 [==============================] - 48s 61ms/step - loss: 0.0480 - accuracy: 0.9836 - val_loss: 0.7936 - val_accuracy: 0.8150\n",
            "Epoch 7/10\n",
            "782/782 [==============================] - 48s 62ms/step - loss: 0.0311 - accuracy: 0.9890 - val_loss: 0.8675 - val_accuracy: 0.8139\n",
            "Epoch 8/10\n",
            "782/782 [==============================] - 56s 71ms/step - loss: 0.0325 - accuracy: 0.9887 - val_loss: 0.8112 - val_accuracy: 0.8146\n",
            "Epoch 9/10\n",
            "782/782 [==============================] - 46s 58ms/step - loss: 0.0138 - accuracy: 0.9955 - val_loss: 1.0119 - val_accuracy: 0.8244\n",
            "Epoch 10/10\n",
            "782/782 [==============================] - 49s 62ms/step - loss: 0.0177 - accuracy: 0.9942 - val_loss: 0.9781 - val_accuracy: 0.8178\n",
            "782/782 [==============================] - 13s 16ms/step - loss: 0.3422 - accuracy: 0.8492\n"
          ]
        },
        {
          "output_type": "execute_result",
          "data": {
            "text/plain": [
              "[0.34215864539146423, 0.8492400050163269]"
            ]
          },
          "metadata": {},
          "execution_count": 38
        }
      ]
    },
    {
      "cell_type": "code",
      "source": [
        "results_2 = calculate_results(model_2, val_ds)\n",
        "results_2"
      ],
      "metadata": {
        "colab": {
          "base_uri": "https://localhost:8080/"
        },
        "id": "PwaV9Cyo7cLZ",
        "outputId": "b7ff114d-92a0-4a90-bc3f-a0a97609c1d7"
      },
      "execution_count": 39,
      "outputs": [
        {
          "output_type": "stream",
          "name": "stdout",
          "text": [
            "782/782 [==============================] - 4s 5ms/step\n"
          ]
        },
        {
          "output_type": "execute_result",
          "data": {
            "text/plain": [
              "{'accuracy': 0.8378,\n",
              " 'precision': 0.839285100283853,\n",
              " 'recall': 0.8378,\n",
              " 'f1': 0.8376223123046916}"
            ]
          },
          "metadata": {},
          "execution_count": 39
        }
      ]
    },
    {
      "cell_type": "code",
      "source": [
        "hf.plot_loss_curves(history_2)"
      ],
      "metadata": {
        "colab": {
          "base_uri": "https://localhost:8080/",
          "height": 927
        },
        "id": "OcG8Tn567mJk",
        "outputId": "954ff3ed-3d4e-499b-9a2a-ef1cfcec4077"
      },
      "execution_count": 40,
      "outputs": [
        {
          "output_type": "display_data",
          "data": {
            "text/plain": [
              "<Figure size 640x480 with 1 Axes>"
            ],
            "image/png": "[encoded data removed]"
          },
          "metadata": {}
        },
        {
          "output_type": "display_data",
          "data": {
            "text/plain": [
              "<Figure size 640x480 with 1 Axes>"
            ],
            "image/png": "[encoded data removed]"
          },
          "metadata": {}
        }
      ]
    },
    {
      "cell_type": "code",
      "source": [
        "results = pd.DataFrame({model_1.name : results_1,\n",
        "                        model_2.name : results_2}).transpose().sort_values(by = 'f1', ascending = False)\n",
        "\n",
        "results"
      ],
      "metadata": {
        "colab": {
          "base_uri": "https://localhost:8080/",
          "height": 112
        },
        "id": "EDqe3xBN72kL",
        "outputId": "bcb6b20e-7a95-454f-f61c-f8f1f398d4d8"
      },
      "execution_count": 41,
      "outputs": [
        {
          "output_type": "execute_result",
          "data": {
            "text/plain": [
              "         accuracy  precision   recall        f1\n",
              "model_1   0.84496   0.845065  0.84496  0.844948\n",
              "model_2   0.83780   0.839285  0.83780  0.837622"
            ],
            "text/html": [
              "\n",
              "  <div id=\"df-d1714ade-5b96-4a31-83aa-1c5cc4800d27\">\n",
              "    <div class=\"colab-df-container\">\n",
              "      <div>\n",
              "<style scoped>\n",
              "    .dataframe tbody tr th:only-of-type {\n",
              "        vertical-align: middle;\n",
              "    }\n",
              "\n",
              "    .dataframe tbody tr th {\n",
              "        vertical-align: top;\n",
              "    }\n",
              "\n",
              "    .dataframe thead th {\n",
              "        text-align: right;\n",
              "    }\n",
              "</style>\n",
              "<table border=\"1\" class=\"dataframe\">\n",
              "  <thead>\n",
              "    <tr style=\"text-align: right;\">\n",
              "      <th></th>\n",
              "      <th>accuracy</th>\n",
              "      <th>precision</th>\n",
              "      <th>recall</th>\n",
              "      <th>f1</th>\n",
              "    </tr>\n",
              "  </thead>\n",
              "  <tbody>\n",
              "    <tr>\n",
              "      <th>model_1</th>\n",
              "      <td>0.84496</td>\n",
              "      <td>0.845065</td>\n",
              "      <td>0.84496</td>\n",
              "      <td>0.844948</td>\n",
              "    </tr>\n",
              "    <tr>\n",
              "      <th>model_2</th>\n",
              "      <td>0.83780</td>\n",
              "      <td>0.839285</td>\n",
              "      <td>0.83780</td>\n",
              "      <td>0.837622</td>\n",
              "    </tr>\n",
              "  </tbody>\n",
              "</table>\n",
              "</div>\n",
              "      <button class=\"colab-df-convert\" onclick=\"convertToInteractive('df-d1714ade-5b96-4a31-83aa-1c5cc4800d27')\"\n",
              "              title=\"Convert this dataframe to an interactive table.\"\n",
              "              style=\"display:none;\">\n",
              "        \n",
              "  <svg xmlns=\"http://www.w3.org/2000/svg\" height=\"24px\"viewBox=\"0 0 24 24\"\n",
              "       width=\"24px\">\n",
              "    <path d=\"M0 0h24v24H0V0z\" fill=\"none\"/>\n",
              "    <path d=\"M18.56 5.44l.94 2.06.94-2.06 2.06-.94-2.06-.94-.94-2.06-.94 2.06-2.06.94zm-11 1L8.5 8.5l.94-2.06 2.06-.94-2.06-.94L8.5 2.5l-.94 2.06-2.06.94zm10 10l.94 2.06.94-2.06 2.06-.94-2.06-.94-.94-2.06-.94 2.06-2.06.94z\"/><path d=\"M17.41 7.96l-1.37-1.37c-.4-.4-.92-.59-1.43-.59-.52 0-1.04.2-1.43.59L10.3 9.45l-7.72 7.72c-.78.78-.78 2.05 0 2.83L4 21.41c.39.39.9.59 1.41.59.51 0 1.02-.2 1.41-.59l7.78-7.78 2.81-2.81c.8-.78.8-2.07 0-2.86zM5.41 20L4 18.59l7.72-7.72 1.47 1.35L5.41 20z\"/>\n",
              "  </svg>\n",
              "      </button>\n",
              "      \n",
              "  <style>\n",
              "    .colab-df-container {\n",
              "      display:flex;\n",
              "      flex-wrap:wrap;\n",
              "      gap: 12px;\n",
              "    }\n",
              "\n",
              "    .colab-df-convert {\n",
              "      background-color: #E8F0FE;\n",
              "      border: none;\n",
              "      border-radius: 50%;\n",
              "      cursor: pointer;\n",
              "      display: none;\n",
              "      fill: #1967D2;\n",
              "      height: 32px;\n",
              "      padding: 0 0 0 0;\n",
              "      width: 32px;\n",
              "    }\n",
              "\n",
              "    .colab-df-convert:hover {\n",
              "      background-color: #E2EBFA;\n",
              "      box-shadow: 0px 1px 2px rgba(60, 64, 67, 0.3), 0px 1px 3px 1px rgba(60, 64, 67, 0.15);\n",
              "      fill: #174EA6;\n",
              "    }\n",
              "\n",
              "    [theme=dark] .colab-df-convert {\n",
              "      background-color: #3B4455;\n",
              "      fill: #D2E3FC;\n",
              "    }\n",
              "\n",
              "    [theme=dark] .colab-df-convert:hover {\n",
              "      background-color: #434B5C;\n",
              "      box-shadow: 0px 1px 3px 1px rgba(0, 0, 0, 0.15);\n",
              "      filter: drop-shadow(0px 1px 2px rgba(0, 0, 0, 0.3));\n",
              "      fill: #FFFFFF;\n",
              "    }\n",
              "  </style>\n",
              "\n",
              "      <script>\n",
              "        const buttonEl =\n",
              "          document.querySelector('#df-d1714ade-5b96-4a31-83aa-1c5cc4800d27 button.colab-df-convert');\n",
              "        buttonEl.style.display =\n",
              "          google.colab.kernel.accessAllowed ? 'block' : 'none';\n",
              "\n",
              "        async function convertToInteractive(key) {\n",
              "          const element = document.querySelector('#df-d1714ade-5b96-4a31-83aa-1c5cc4800d27');\n",
              "          const dataTable =\n",
              "            await google.colab.kernel.invokeFunction('convertToInteractive',\n",
              "                                                     [key], {});\n",
              "          if (!dataTable) return;\n",
              "\n",
              "          const docLinkHtml = 'Like what you see? Visit the ' +\n",
              "            '<a target=\"_blank\" href=https://colab.research.google.com/notebooks/data_table.ipynb>data table notebook</a>'\n",
              "            + ' to learn more about interactive tables.';\n",
              "          element.innerHTML = '';\n",
              "          dataTable['output_type'] = 'display_data';\n",
              "          await google.colab.output.renderOutput(dataTable, element);\n",
              "          const docLink = document.createElement('div');\n",
              "          docLink.innerHTML = docLinkHtml;\n",
              "          element.appendChild(docLink);\n",
              "        }\n",
              "      </script>\n",
              "    </div>\n",
              "  </div>\n",
              "  "
            ]
          },
          "metadata": {},
          "execution_count": 41
        }
      ]
    },
    {
      "cell_type": "code",
      "source": [
        "model_1.save('best_model')"
      ],
      "metadata": {
        "colab": {
          "base_uri": "https://localhost:8080/"
        },
        "id": "0woRrJJB8LZk",
        "outputId": "99f1b473-e308-4557-8a0d-7e6e1237387f"
      },
      "execution_count": 42,
      "outputs": [
        {
          "output_type": "stream",
          "name": "stderr",
          "text": [
            "WARNING:absl:Found untraced functions such as lstm_cell_layer_call_fn, lstm_cell_layer_call_and_return_conditional_losses while saving (showing 2 of 2). These functions will not be directly callable after loading.\n"
          ]
        }
      ]
    },
    {
      "cell_type": "code",
      "source": [
        "loaded_model = tf.keras.models.load_model('best_model')"
      ],
      "metadata": {
        "id": "9vZMdFxN_CTf"
      },
      "execution_count": 43,
      "outputs": []
    },
    {
      "cell_type": "code",
      "source": [
        "loaded_model.evaluate(val_ds)"
      ],
      "metadata": {
        "colab": {
          "base_uri": "https://localhost:8080/"
        },
        "id": "COU7x3_K_KNK",
        "outputId": "17bf85da-40d4-451e-b0b1-92a8ebac389f"
      },
      "execution_count": 44,
      "outputs": [
        {
          "output_type": "stream",
          "name": "stdout",
          "text": [
            "782/782 [==============================] - 8s 6ms/step - loss: 0.4042 - accuracy: 0.8378\n"
          ]
        },
        {
          "output_type": "execute_result",
          "data": {
            "text/plain": [
              "[0.404236763715744, 0.8378000259399414]"
            ]
          },
          "metadata": {},
          "execution_count": 44
        }
      ]
    },
    {
      "cell_type": "markdown",
      "source": [
        "## End of the Document"
      ],
      "metadata": {
        "id": "1R-KxI3T_M-S"
      }
    }
  ],
  "metadata": {
    "kernelspec": {
      "display_name": "Python 3",
      "name": "python3"
    },
    "language_info": {
      "name": "python"
    },
    "toc": {
      "base_numbering": 1,
      "nav_menu": {},
      "number_sections": true,
      "sideBar": true,
      "skip_h1_title": false,
      "title_cell": "Table of Contents",
      "title_sidebar": "Contents",
      "toc_cell": false,
      "toc_position": {},
      "toc_section_display": true,
      "toc_window_display": false
    },
    "varInspector": {
      "cols": {
        "lenName": 16,
        "lenType": 16,
        "lenVar": 40
      },
      "kernels_config": {
        "python": {
          "delete_cmd_postfix": "",
          "delete_cmd_prefix": "del ",
          "library": "var_list.py",
          "varRefreshCmd": "print(var_dic_list())"
        },
        "r": {
          "delete_cmd_postfix": ") ",
          "delete_cmd_prefix": "rm(",
          "library": "var_list.r",
          "varRefreshCmd": "cat(var_dic_list()) "
        }
      },
      "types_to_exclude": [
        "module",
        "function",
        "builtin_function_or_method",
        "instance",
        "_Feature"
      ],
      "window_display": false
    },
    "colab": {
      "provenance": [],
      "include_colab_link": true
    },
    "gpuClass": "standard",
    "accelerator": "GPU"
  },
  "nbformat": 4,
  "nbformat_minor": 0
}
